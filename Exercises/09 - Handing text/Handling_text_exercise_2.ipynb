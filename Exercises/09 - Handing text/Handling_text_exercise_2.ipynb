{
 "cells": [
  {
   "cell_type": "code",
   "execution_count": 1,
   "metadata": {
    "tags": [],
    "ExecuteTime": {
     "end_time": "2024-01-10T13:54:37.961346200Z",
     "start_time": "2024-01-10T13:54:30.233418700Z"
    }
   },
   "outputs": [],
   "source": [
    "import numpy as np\n",
    "import pandas as pd\n",
    "import matplotlib.pyplot as plt\n",
    "%matplotlib inline\n",
    "from sklearn.linear_model import LogisticRegressionCV\n",
    "from sklearn.decomposition import TruncatedSVD\n",
    "from sklearn.feature_extraction.text import TfidfVectorizer\n",
    "from helpers.helper_functions import *"
   ]
  },
  {
   "cell_type": "markdown",
   "metadata": {},
   "source": [
    "# Handling text 2 exercise\n",
    "[Handling text exercisses ADApted drom ADA 2018 final exam]\n",
    "\n",
    "The Sheldon Cooper we all know and love (OK, some of us might not know him, and some might not love him) from the TV series \"The Big Bang Theory\" has gotten into an argument with Leonard from the same TV show. Sheldon insists that he knows the show better than anyone, and keeps making various claims about the show, which neither of them know how to prove or disprove. The two of them have reached out to you ladies and gentlemen, as data scientists, to help them. You will be given the full script of the series, with information on the episode, the scene, the person saying each dialogue line, and the dialogue lines themselves.\n",
    "\n",
    "Leonard has challenged several of Sheldon's claims about the show, and throughout this exam you will see some of those and you will get to prove or disprove them, but remember: sometimes, we can neither prove a claim, nor disprove it!"
   ]
  },
  {
   "cell_type": "markdown",
   "metadata": {},
   "source": [
    "## Task A: Picking up the shovel\n",
    "\n",
    "**Note: You will use the data you preprocess in this task in all the subsequent ones.**\n",
    "\n",
    "Our friends' argument concerns the entire show. We have given you a file in the `data/` folder that contains the script of every single episode. New episodes are indicated by '>>', new scenes by '>', and the rest of the lines are dialogue lines. Some lines are said by multiple people (for example, lines indicated by 'All' or 'Together'); **you must discard these lines**, for the sake of simplicity. However, you do not need to do it for Q1 in this task -- you'll take care of it when you solve Q2.\n",
    "\n",
    "**Q1**. Your first task is to extract all lines of dialogue in each scene and episode, creating a dataframe where each row has the episode and scene where a dialogue line was said, the character who said it, and the line itself. You do not need to extract the proper name of the episode (e.g. episode 1 can appear as \"Series 01 Episode 01 - Pilot Episode\", and doesn't need to appear as \"Pilot Episode\"). Then, answer the following question: In total, how many scenes are there in each season? We're not asking about unique scenes; the same location appearing in two episodes counts as two scenes. You can use a Pandas dataframe with a season column and a scene count column as the response.\n",
    "\n",
    "**Note: The data refers to seasons as \"series\".**"
   ]
  },
  {
   "cell_type": "code",
   "execution_count": 18,
   "metadata": {
    "ExecuteTime": {
     "end_time": "2024-01-10T18:14:09.543315500Z",
     "start_time": "2024-01-10T18:14:09.367784500Z"
    }
   },
   "outputs": [
    {
     "data": {
      "text/plain": "                                                 episode  \\\n0                   Series 01 Episode 01 – Pilot Episode   \n1                   Series 01 Episode 01 – Pilot Episode   \n2                   Series 01 Episode 01 – Pilot Episode   \n3                   Series 01 Episode 01 – Pilot Episode   \n4                   Series 01 Episode 01 – Pilot Episode   \n...                                                  ...   \n51287  Series 10 Episode 24 – The Long Distance Disso...   \n51288  Series 10 Episode 24 – The Long Distance Disso...   \n51289  Series 10 Episode 24 – The Long Distance Disso...   \n51290  Series 10 Episode 24 – The Long Distance Disso...   \n51291  Series 10 Episode 24 – The Long Distance Disso...   \n\n                             scene       speaker  \\\n0      A corridor at a sperm bank.       Sheldon   \n1      A corridor at a sperm bank.       Leonard   \n2      A corridor at a sperm bank.       Sheldon   \n3      A corridor at a sperm bank.       Leonard   \n4      A corridor at a sperm bank.  Receptionist   \n...                            ...           ...   \n51287            Sheldon’s office.        Ramona   \n51288            Sheldon’s office.       Sheldon   \n51289            Sheldon’s office.        Ramona   \n51290            Sheldon’s office.       Sheldon   \n51291                   Princeton.       Sheldon   \n\n                                                  dialog  \n0      So if a photon is directed through a plane wit...  \n1                             Agreed, what’s your point?  \n2      There’s no point, I just think it’s a good ide...  \n3                                             Excuse me?  \n4                                               Hang on.  \n...                                                  ...  \n51287  Mmm. No big deal, I enjoy spending time with you.  \n51288  And I with you. Question, are you seeking a ro...  \n51289                                    What if I were?  \n51290  Well, that would raise a number of problems. W...  \n51291  (Knock, knock, knock) Amy. (Knock, knock, knoc...  \n\n[51292 rows x 4 columns]",
      "text/html": "<div>\n<style scoped>\n    .dataframe tbody tr th:only-of-type {\n        vertical-align: middle;\n    }\n\n    .dataframe tbody tr th {\n        vertical-align: top;\n    }\n\n    .dataframe thead th {\n        text-align: right;\n    }\n</style>\n<table border=\"1\" class=\"dataframe\">\n  <thead>\n    <tr style=\"text-align: right;\">\n      <th></th>\n      <th>episode</th>\n      <th>scene</th>\n      <th>speaker</th>\n      <th>dialog</th>\n    </tr>\n  </thead>\n  <tbody>\n    <tr>\n      <th>0</th>\n      <td>Series 01 Episode 01 – Pilot Episode</td>\n      <td>A corridor at a sperm bank.</td>\n      <td>Sheldon</td>\n      <td>So if a photon is directed through a plane wit...</td>\n    </tr>\n    <tr>\n      <th>1</th>\n      <td>Series 01 Episode 01 – Pilot Episode</td>\n      <td>A corridor at a sperm bank.</td>\n      <td>Leonard</td>\n      <td>Agreed, what’s your point?</td>\n    </tr>\n    <tr>\n      <th>2</th>\n      <td>Series 01 Episode 01 – Pilot Episode</td>\n      <td>A corridor at a sperm bank.</td>\n      <td>Sheldon</td>\n      <td>There’s no point, I just think it’s a good ide...</td>\n    </tr>\n    <tr>\n      <th>3</th>\n      <td>Series 01 Episode 01 – Pilot Episode</td>\n      <td>A corridor at a sperm bank.</td>\n      <td>Leonard</td>\n      <td>Excuse me?</td>\n    </tr>\n    <tr>\n      <th>4</th>\n      <td>Series 01 Episode 01 – Pilot Episode</td>\n      <td>A corridor at a sperm bank.</td>\n      <td>Receptionist</td>\n      <td>Hang on.</td>\n    </tr>\n    <tr>\n      <th>...</th>\n      <td>...</td>\n      <td>...</td>\n      <td>...</td>\n      <td>...</td>\n    </tr>\n    <tr>\n      <th>51287</th>\n      <td>Series 10 Episode 24 – The Long Distance Disso...</td>\n      <td>Sheldon’s office.</td>\n      <td>Ramona</td>\n      <td>Mmm. No big deal, I enjoy spending time with you.</td>\n    </tr>\n    <tr>\n      <th>51288</th>\n      <td>Series 10 Episode 24 – The Long Distance Disso...</td>\n      <td>Sheldon’s office.</td>\n      <td>Sheldon</td>\n      <td>And I with you. Question, are you seeking a ro...</td>\n    </tr>\n    <tr>\n      <th>51289</th>\n      <td>Series 10 Episode 24 – The Long Distance Disso...</td>\n      <td>Sheldon’s office.</td>\n      <td>Ramona</td>\n      <td>What if I were?</td>\n    </tr>\n    <tr>\n      <th>51290</th>\n      <td>Series 10 Episode 24 – The Long Distance Disso...</td>\n      <td>Sheldon’s office.</td>\n      <td>Sheldon</td>\n      <td>Well, that would raise a number of problems. W...</td>\n    </tr>\n    <tr>\n      <th>51291</th>\n      <td>Series 10 Episode 24 – The Long Distance Disso...</td>\n      <td>Princeton.</td>\n      <td>Sheldon</td>\n      <td>(Knock, knock, knock) Amy. (Knock, knock, knoc...</td>\n    </tr>\n  </tbody>\n</table>\n<p>51292 rows × 4 columns</p>\n</div>"
     },
     "execution_count": 18,
     "metadata": {},
     "output_type": "execute_result"
    }
   ],
   "source": [
    "# your code goes here\n",
    "\n",
    "# episode | scene | speaker | dialog\n",
    "\n",
    "# read the txt file\n",
    "with open('./data/all_scripts.txt', encoding='utf-8') as f:\n",
    "    lines = f.readlines()\n",
    "\n",
    "lines = [line.replace('\\xa0', ' ') for line in lines]\n",
    "\n",
    "episode_col = []\n",
    "scene_col = []\n",
    "speaker_col = []\n",
    "dialog_col = []\n",
    "current_episode = None\n",
    "current_scene = None\n",
    "\n",
    "for line in lines:\n",
    "    if line.startswith(\">>\"):\n",
    "        current_episode = line[3:].strip()\n",
    "    elif line.startswith(\">\"):\n",
    "        current_scene = line[2:].strip()\n",
    "    else:\n",
    "        speaker = line.split(\":\")[0].strip()\n",
    "        dialog = line.split(\":\")[-1].strip()\n",
    "\n",
    "        episode_col.append(current_episode)\n",
    "        scene_col.append(current_scene)\n",
    "        speaker_col.append(speaker)\n",
    "        dialog_col.append(dialog)\n",
    "\n",
    "# create the dataframe\n",
    "df_lines = pd.DataFrame({'episode': episode_col,\n",
    "                         'scene': scene_col,\n",
    "                         'speaker': speaker_col,\n",
    "                         'dialog': dialog_col})\n",
    "df_lines"
   ]
  },
  {
   "cell_type": "code",
   "execution_count": 22,
   "outputs": [
    {
     "data": {
      "text/plain": "season\nSeries 01    157\nSeries 02    205\nSeries 03    193\nSeries 04    219\nSeries 05    198\nSeries 06    211\nSeries 07    207\nSeries 08    191\nSeries 09    177\nSeries 10    189\ndtype: int64"
     },
     "execution_count": 22,
     "metadata": {},
     "output_type": "execute_result"
    }
   ],
   "source": [
    "df_lines_tmp = df_lines.copy()\n",
    "\n",
    "df_lines_tmp['season'] = df_lines_tmp['episode'].apply(lambda x: x.split(\"Episode\")[0].strip())\n",
    "df_lines_tmp.drop_duplicates(subset=['episode', 'scene'], inplace=True)\n",
    "\n",
    "counts_by_season = df_lines_tmp.groupby('season').apply(lambda x: x.shape[0])\n",
    "counts_by_season"
   ],
   "metadata": {
    "collapsed": false,
    "ExecuteTime": {
     "end_time": "2024-01-10T18:24:32.920978700Z",
     "start_time": "2024-01-10T18:24:32.832216900Z"
    }
   }
  },
  {
   "cell_type": "markdown",
   "metadata": {},
   "source": [
    "**Q2**. Now, let's define two sets of characters: all the characters, and recurrent characters. Recurrent characters are those who appear in more than one episode. For the subsequent sections, you will need to have a list of recurrent characters. Assume that there are no two _named characters_ (i.e. characters who have actual names and aren't referred to generically as \"little girl\", \"grumpy grandpa\", etc.) with the same name, i.e. there are no two Sheldons, etc. Generate a list of recurrent characters who have more than 90 dialogue lines in total, and then take a look at the list you have. If you've done this correctly, you should have a list of 20 names. However, one of these is clearly not a recurrent character. Manually remove that one, and print out your list of recurrent characters. To remove that character, pay attention to the _named character_ assumption we gave you earlier on. **For all the subsequent questions, you must only keep the dialogue lines said by the recurrent characters in your list.**"
   ]
  },
  {
   "cell_type": "code",
   "execution_count": 55,
   "metadata": {
    "ExecuteTime": {
     "end_time": "2024-01-10T21:18:46.444056500Z",
     "start_time": "2024-01-10T21:18:46.363178Z"
    }
   },
   "outputs": [
    {
     "data": {
      "text/plain": "              n_episode  n_lines\nspeaker                         \nAmy                 154     3472\nArthur                4      130\nBernadette          161     2690\nBert                  6       95\nBeverley              5      162\nEmily                17      164\nHoward              231     5872\nKripke                8      106\nLeonard             231     9829\nLeslie                7      116\nMan                  22      105\nMrs Cooper            8      213\nMrs Wolowitz         27      136\nPenny               229     7677\nPriya                12      222\nRaj                 230     4779\nSheldon             231    11689\nStuart               60      733\nWil                  12      126\nZack                  8      135",
      "text/html": "<div>\n<style scoped>\n    .dataframe tbody tr th:only-of-type {\n        vertical-align: middle;\n    }\n\n    .dataframe tbody tr th {\n        vertical-align: top;\n    }\n\n    .dataframe thead th {\n        text-align: right;\n    }\n</style>\n<table border=\"1\" class=\"dataframe\">\n  <thead>\n    <tr style=\"text-align: right;\">\n      <th></th>\n      <th>n_episode</th>\n      <th>n_lines</th>\n    </tr>\n    <tr>\n      <th>speaker</th>\n      <th></th>\n      <th></th>\n    </tr>\n  </thead>\n  <tbody>\n    <tr>\n      <th>Amy</th>\n      <td>154</td>\n      <td>3472</td>\n    </tr>\n    <tr>\n      <th>Arthur</th>\n      <td>4</td>\n      <td>130</td>\n    </tr>\n    <tr>\n      <th>Bernadette</th>\n      <td>161</td>\n      <td>2690</td>\n    </tr>\n    <tr>\n      <th>Bert</th>\n      <td>6</td>\n      <td>95</td>\n    </tr>\n    <tr>\n      <th>Beverley</th>\n      <td>5</td>\n      <td>162</td>\n    </tr>\n    <tr>\n      <th>Emily</th>\n      <td>17</td>\n      <td>164</td>\n    </tr>\n    <tr>\n      <th>Howard</th>\n      <td>231</td>\n      <td>5872</td>\n    </tr>\n    <tr>\n      <th>Kripke</th>\n      <td>8</td>\n      <td>106</td>\n    </tr>\n    <tr>\n      <th>Leonard</th>\n      <td>231</td>\n      <td>9829</td>\n    </tr>\n    <tr>\n      <th>Leslie</th>\n      <td>7</td>\n      <td>116</td>\n    </tr>\n    <tr>\n      <th>Man</th>\n      <td>22</td>\n      <td>105</td>\n    </tr>\n    <tr>\n      <th>Mrs Cooper</th>\n      <td>8</td>\n      <td>213</td>\n    </tr>\n    <tr>\n      <th>Mrs Wolowitz</th>\n      <td>27</td>\n      <td>136</td>\n    </tr>\n    <tr>\n      <th>Penny</th>\n      <td>229</td>\n      <td>7677</td>\n    </tr>\n    <tr>\n      <th>Priya</th>\n      <td>12</td>\n      <td>222</td>\n    </tr>\n    <tr>\n      <th>Raj</th>\n      <td>230</td>\n      <td>4779</td>\n    </tr>\n    <tr>\n      <th>Sheldon</th>\n      <td>231</td>\n      <td>11689</td>\n    </tr>\n    <tr>\n      <th>Stuart</th>\n      <td>60</td>\n      <td>733</td>\n    </tr>\n    <tr>\n      <th>Wil</th>\n      <td>12</td>\n      <td>126</td>\n    </tr>\n    <tr>\n      <th>Zack</th>\n      <td>8</td>\n      <td>135</td>\n    </tr>\n  </tbody>\n</table>\n</div>"
     },
     "execution_count": 55,
     "metadata": {},
     "output_type": "execute_result"
    }
   ],
   "source": [
    "# your code goes here\n",
    "episode_lines_character = df_lines.groupby('speaker').apply(lambda x: pd.Series({'n_episode': x['episode'].unique().shape[0],\n",
    "                                                                             'n_lines': x['dialog'].shape[0]}))\n",
    "recurrent_characters = episode_lines_character[(episode_lines_character.n_episode > 2) & (episode_lines_character.n_lines > 90)]\n",
    "recurrent_characters"
   ]
  },
  {
   "cell_type": "code",
   "execution_count": 56,
   "outputs": [
    {
     "data": {
      "text/plain": "                                                 episode  \\\n0                   Series 01 Episode 01 – Pilot Episode   \n1                   Series 01 Episode 01 – Pilot Episode   \n2                   Series 01 Episode 01 – Pilot Episode   \n3                   Series 01 Episode 01 – Pilot Episode   \n5                   Series 01 Episode 01 – Pilot Episode   \n...                                                  ...   \n51284  Series 10 Episode 24 – The Long Distance Disso...   \n51286  Series 10 Episode 24 – The Long Distance Disso...   \n51288  Series 10 Episode 24 – The Long Distance Disso...   \n51290  Series 10 Episode 24 – The Long Distance Disso...   \n51291  Series 10 Episode 24 – The Long Distance Disso...   \n\n                             scene  speaker  \\\n0      A corridor at a sperm bank.  Sheldon   \n1      A corridor at a sperm bank.  Leonard   \n2      A corridor at a sperm bank.  Sheldon   \n3      A corridor at a sperm bank.  Leonard   \n5      A corridor at a sperm bank.  Leonard   \n...                            ...      ...   \n51284            Sheldon’s office.  Sheldon   \n51286            Sheldon’s office.  Sheldon   \n51288            Sheldon’s office.  Sheldon   \n51290            Sheldon’s office.  Sheldon   \n51291                   Princeton.  Sheldon   \n\n                                                  dialog  \n0      So if a photon is directed through a plane wit...  \n1                             Agreed, what’s your point?  \n2      There’s no point, I just think it’s a good ide...  \n3                                             Excuse me?  \n5      One across is Aegean, eight down is Nabakov, t...  \n...                                                  ...  \n51284  Uh, breakfast yes, lunch no. I did have a coug...  \n51286                         How thoughtful. Thank you.  \n51288  And I with you. Question, are you seeking a ro...  \n51290  Well, that would raise a number of problems. W...  \n51291  (Knock, knock, knock) Amy. (Knock, knock, knoc...  \n\n[48346 rows x 4 columns]",
      "text/html": "<div>\n<style scoped>\n    .dataframe tbody tr th:only-of-type {\n        vertical-align: middle;\n    }\n\n    .dataframe tbody tr th {\n        vertical-align: top;\n    }\n\n    .dataframe thead th {\n        text-align: right;\n    }\n</style>\n<table border=\"1\" class=\"dataframe\">\n  <thead>\n    <tr style=\"text-align: right;\">\n      <th></th>\n      <th>episode</th>\n      <th>scene</th>\n      <th>speaker</th>\n      <th>dialog</th>\n    </tr>\n  </thead>\n  <tbody>\n    <tr>\n      <th>0</th>\n      <td>Series 01 Episode 01 – Pilot Episode</td>\n      <td>A corridor at a sperm bank.</td>\n      <td>Sheldon</td>\n      <td>So if a photon is directed through a plane wit...</td>\n    </tr>\n    <tr>\n      <th>1</th>\n      <td>Series 01 Episode 01 – Pilot Episode</td>\n      <td>A corridor at a sperm bank.</td>\n      <td>Leonard</td>\n      <td>Agreed, what’s your point?</td>\n    </tr>\n    <tr>\n      <th>2</th>\n      <td>Series 01 Episode 01 – Pilot Episode</td>\n      <td>A corridor at a sperm bank.</td>\n      <td>Sheldon</td>\n      <td>There’s no point, I just think it’s a good ide...</td>\n    </tr>\n    <tr>\n      <th>3</th>\n      <td>Series 01 Episode 01 – Pilot Episode</td>\n      <td>A corridor at a sperm bank.</td>\n      <td>Leonard</td>\n      <td>Excuse me?</td>\n    </tr>\n    <tr>\n      <th>5</th>\n      <td>Series 01 Episode 01 – Pilot Episode</td>\n      <td>A corridor at a sperm bank.</td>\n      <td>Leonard</td>\n      <td>One across is Aegean, eight down is Nabakov, t...</td>\n    </tr>\n    <tr>\n      <th>...</th>\n      <td>...</td>\n      <td>...</td>\n      <td>...</td>\n      <td>...</td>\n    </tr>\n    <tr>\n      <th>51284</th>\n      <td>Series 10 Episode 24 – The Long Distance Disso...</td>\n      <td>Sheldon’s office.</td>\n      <td>Sheldon</td>\n      <td>Uh, breakfast yes, lunch no. I did have a coug...</td>\n    </tr>\n    <tr>\n      <th>51286</th>\n      <td>Series 10 Episode 24 – The Long Distance Disso...</td>\n      <td>Sheldon’s office.</td>\n      <td>Sheldon</td>\n      <td>How thoughtful. Thank you.</td>\n    </tr>\n    <tr>\n      <th>51288</th>\n      <td>Series 10 Episode 24 – The Long Distance Disso...</td>\n      <td>Sheldon’s office.</td>\n      <td>Sheldon</td>\n      <td>And I with you. Question, are you seeking a ro...</td>\n    </tr>\n    <tr>\n      <th>51290</th>\n      <td>Series 10 Episode 24 – The Long Distance Disso...</td>\n      <td>Sheldon’s office.</td>\n      <td>Sheldon</td>\n      <td>Well, that would raise a number of problems. W...</td>\n    </tr>\n    <tr>\n      <th>51291</th>\n      <td>Series 10 Episode 24 – The Long Distance Disso...</td>\n      <td>Princeton.</td>\n      <td>Sheldon</td>\n      <td>(Knock, knock, knock) Amy. (Knock, knock, knoc...</td>\n    </tr>\n  </tbody>\n</table>\n<p>48346 rows × 4 columns</p>\n</div>"
     },
     "execution_count": 56,
     "metadata": {},
     "output_type": "execute_result"
    }
   ],
   "source": [
    "recurrent_characters_dropped_one = recurrent_characters.drop('Man')\n",
    "recurrent_characters_list = recurrent_characters_dropped_one.index.tolist()\n",
    "recurrent_characters_list\n",
    "\n",
    "df_lines_recur = df_lines[df_lines['speaker'].apply(lambda x: x in recurrent_characters_list)]\n",
    "df_lines_recur"
   ],
   "metadata": {
    "collapsed": false,
    "ExecuteTime": {
     "end_time": "2024-01-10T21:18:47.664976100Z",
     "start_time": "2024-01-10T21:18:47.603141Z"
    }
   }
  },
  {
   "cell_type": "markdown",
   "metadata": {},
   "source": [
    "## Task B: Read the scripts carefully\n",
    "\n",
    "### Part 1: Don't put the shovel down just yet\n",
    "\n",
    "**Q3**. From each dialogue line, replace punctuation marks (listed in the EXCLUDE_CHARS variable provided in `helpers/helper_functions.py`) with whitespaces, and lowercase all the text. **Do not remove any stopwords, leave them be for all the questions in this task.**"
   ]
  },
  {
   "cell_type": "code",
   "execution_count": 58,
   "metadata": {
    "ExecuteTime": {
     "end_time": "2024-01-10T21:27:14.275592700Z",
     "start_time": "2024-01-10T21:27:14.075129900Z"
    }
   },
   "outputs": [
    {
     "data": {
      "text/plain": "                                                 episode  \\\n0                   Series 01 Episode 01 – Pilot Episode   \n1                   Series 01 Episode 01 – Pilot Episode   \n2                   Series 01 Episode 01 – Pilot Episode   \n3                   Series 01 Episode 01 – Pilot Episode   \n5                   Series 01 Episode 01 – Pilot Episode   \n...                                                  ...   \n51284  Series 10 Episode 24 – The Long Distance Disso...   \n51286  Series 10 Episode 24 – The Long Distance Disso...   \n51288  Series 10 Episode 24 – The Long Distance Disso...   \n51290  Series 10 Episode 24 – The Long Distance Disso...   \n51291  Series 10 Episode 24 – The Long Distance Disso...   \n\n                             scene  speaker  \\\n0      A corridor at a sperm bank.  Sheldon   \n1      A corridor at a sperm bank.  Leonard   \n2      A corridor at a sperm bank.  Sheldon   \n3      A corridor at a sperm bank.  Leonard   \n5      A corridor at a sperm bank.  Leonard   \n...                            ...      ...   \n51284            Sheldon’s office.  Sheldon   \n51286            Sheldon’s office.  Sheldon   \n51288            Sheldon’s office.  Sheldon   \n51290            Sheldon’s office.  Sheldon   \n51291                   Princeton.  Sheldon   \n\n                                                  dialog  \n0      So if a photon is directed through a plane wit...  \n1                             Agreed  what s your point   \n2      There s no point  I just think it s a good ide...  \n3                                             Excuse me   \n5      One across is Aegean  eight down is Nabakov  t...  \n...                                                  ...  \n51284  Uh  breakfast yes  lunch no  I did have a coug...  \n51286                         How thoughtful  Thank you   \n51288  And I with you  Question  are you seeking a ro...  \n51290  Well  that would raise a number of problems  W...  \n51291   Knock  knock  knock  Amy   Knock  knock  knoc...  \n\n[48346 rows x 4 columns]",
      "text/html": "<div>\n<style scoped>\n    .dataframe tbody tr th:only-of-type {\n        vertical-align: middle;\n    }\n\n    .dataframe tbody tr th {\n        vertical-align: top;\n    }\n\n    .dataframe thead th {\n        text-align: right;\n    }\n</style>\n<table border=\"1\" class=\"dataframe\">\n  <thead>\n    <tr style=\"text-align: right;\">\n      <th></th>\n      <th>episode</th>\n      <th>scene</th>\n      <th>speaker</th>\n      <th>dialog</th>\n    </tr>\n  </thead>\n  <tbody>\n    <tr>\n      <th>0</th>\n      <td>Series 01 Episode 01 – Pilot Episode</td>\n      <td>A corridor at a sperm bank.</td>\n      <td>Sheldon</td>\n      <td>So if a photon is directed through a plane wit...</td>\n    </tr>\n    <tr>\n      <th>1</th>\n      <td>Series 01 Episode 01 – Pilot Episode</td>\n      <td>A corridor at a sperm bank.</td>\n      <td>Leonard</td>\n      <td>Agreed  what s your point</td>\n    </tr>\n    <tr>\n      <th>2</th>\n      <td>Series 01 Episode 01 – Pilot Episode</td>\n      <td>A corridor at a sperm bank.</td>\n      <td>Sheldon</td>\n      <td>There s no point  I just think it s a good ide...</td>\n    </tr>\n    <tr>\n      <th>3</th>\n      <td>Series 01 Episode 01 – Pilot Episode</td>\n      <td>A corridor at a sperm bank.</td>\n      <td>Leonard</td>\n      <td>Excuse me</td>\n    </tr>\n    <tr>\n      <th>5</th>\n      <td>Series 01 Episode 01 – Pilot Episode</td>\n      <td>A corridor at a sperm bank.</td>\n      <td>Leonard</td>\n      <td>One across is Aegean  eight down is Nabakov  t...</td>\n    </tr>\n    <tr>\n      <th>...</th>\n      <td>...</td>\n      <td>...</td>\n      <td>...</td>\n      <td>...</td>\n    </tr>\n    <tr>\n      <th>51284</th>\n      <td>Series 10 Episode 24 – The Long Distance Disso...</td>\n      <td>Sheldon’s office.</td>\n      <td>Sheldon</td>\n      <td>Uh  breakfast yes  lunch no  I did have a coug...</td>\n    </tr>\n    <tr>\n      <th>51286</th>\n      <td>Series 10 Episode 24 – The Long Distance Disso...</td>\n      <td>Sheldon’s office.</td>\n      <td>Sheldon</td>\n      <td>How thoughtful  Thank you</td>\n    </tr>\n    <tr>\n      <th>51288</th>\n      <td>Series 10 Episode 24 – The Long Distance Disso...</td>\n      <td>Sheldon’s office.</td>\n      <td>Sheldon</td>\n      <td>And I with you  Question  are you seeking a ro...</td>\n    </tr>\n    <tr>\n      <th>51290</th>\n      <td>Series 10 Episode 24 – The Long Distance Disso...</td>\n      <td>Sheldon’s office.</td>\n      <td>Sheldon</td>\n      <td>Well  that would raise a number of problems  W...</td>\n    </tr>\n    <tr>\n      <th>51291</th>\n      <td>Series 10 Episode 24 – The Long Distance Disso...</td>\n      <td>Princeton.</td>\n      <td>Sheldon</td>\n      <td>Knock  knock  knock  Amy   Knock  knock  knoc...</td>\n    </tr>\n  </tbody>\n</table>\n<p>48346 rows × 4 columns</p>\n</div>"
     },
     "execution_count": 58,
     "metadata": {},
     "output_type": "execute_result"
    }
   ],
   "source": [
    "# your code goes here\n",
    "def replace_char(string):\n",
    "    replaced_string = string\n",
    "    for char in string:\n",
    "        if char in EXCLUDE_CHARS:\n",
    "            try:\n",
    "                replaced_string = replaced_string.replace(char, \" \")\n",
    "            except:\n",
    "                pass\n",
    "\n",
    "    return replaced_string\n",
    "\n",
    "df_lines_recur_punc_removed = df_lines_recur.copy()\n",
    "df_lines_recur_punc_removed['dialog'] = df_lines_recur['dialog'].apply(lambda x: replace_char(x))\n",
    "df_lines_recur_punc_removed"
   ]
  },
  {
   "cell_type": "markdown",
   "metadata": {},
   "source": [
    "**Q4**. For each term, calculate its \"corpus frequency\", i.e. its number of occurrences in the entire series. Visualize the distribution of corpus frequency using a histogram. Explain your observations. What are the appropriate x and y scales for this plot?"
   ]
  },
  {
   "cell_type": "code",
   "execution_count": 71,
   "metadata": {
    "ExecuteTime": {
     "end_time": "2024-01-10T22:14:03.991646400Z",
     "start_time": "2024-01-10T22:14:03.769241600Z"
    }
   },
   "outputs": [
    {
     "data": {
      "text/plain": "{'I': 24696,\n 'you': 18529,\n 'to': 14107,\n 'the': 14095,\n 'a': 13029,\n 's': 12044,\n 'it': 8655,\n 't': 7556,\n 'and': 7189,\n 'of': 7065,\n 'that': 6821,\n 'in': 5379,\n 'is': 5028,\n 'me': 4780,\n 'm': 4755,\n 'You': 4428,\n 'my': 4393,\n 'on': 4189,\n 're': 4099,\n 'we': 3985,\n 'Oh': 3869,\n 'with': 3853,\n 'have': 3771,\n 'for': 3571,\n 'know': 3498,\n 'your': 3396,\n 'this': 3376,\n 'not': 3357,\n 'be': 3161,\n 'was': 3109,\n 'don': 2990,\n 'do': 2971,\n 'just': 2869,\n 'can': 2791,\n 'what': 2658,\n 'What': 2545,\n 'are': 2511,\n 'It': 2507,\n 'like': 2479,\n 'about': 2373,\n 'Well': 2331,\n 'Sheldon': 2167,\n 'No': 2147,\n 'he': 2136,\n 'out': 2117,\n 'but': 2103,\n 'up': 2065,\n 'get': 1977,\n 'so': 1881,\n 'Yeah': 1881,\n 'right': 1880,\n 'at': 1879,\n 'if': 1835,\n 'go': 1783,\n 'Okay': 1774,\n 'll': 1714,\n 'one': 1703,\n 'That': 1696,\n 'all': 1685,\n 'want': 1682,\n 'no': 1654,\n 'Leonard': 1632,\n 'her': 1624,\n 'going': 1616,\n 'think': 1595,\n 'And': 1579,\n 'here': 1499,\n 'an': 1492,\n 'there': 1464,\n 'she': 1435,\n 've': 1409,\n 'him': 1404,\n 'So': 1303,\n 'We': 1291,\n 'got': 1255,\n 'Penny': 1250,\n 'would': 1250,\n 'Hey': 1242,\n 'how': 1177,\n 'as': 1169,\n 'time': 1152,\n 'when': 1148,\n 'they': 1144,\n 'did': 1104,\n 'say': 1089,\n 'now': 1080,\n 'see': 1075,\n 'his': 1067,\n 'gonna': 1063,\n 'from': 1040,\n 'good': 1038,\n 'd': 1038,\n 'could': 1012,\n 'really': 993,\n 'The': 975,\n 'little': 964,\n 'back': 919,\n 'make': 916,\n 'He': 912,\n 'were': 908,\n 'Why': 898,\n 'who': 887,\n 'didn': 869,\n 'How': 848,\n 'had': 838,\n 'our': 826,\n 'been': 817,\n 'let': 814,\n 'But': 813,\n 'Yes': 806,\n 'us': 803,\n 'some': 799,\n 'come': 788,\n 'need': 778,\n 'Uh': 776,\n 'take': 768,\n 'Howard': 768,\n 'too': 754,\n 'All': 749,\n 'more': 747,\n 'knock': 744,\n 'by': 742,\n 'mean': 742,\n 'or': 739,\n 'should': 724,\n 'tell': 722,\n 'why': 715,\n 'okay': 695,\n 'This': 695,\n 'Amy': 694,\n 'will': 687,\n 'look': 686,\n 'something': 679,\n 'them': 674,\n 'well': 671,\n 'guys': 663,\n 'sorry': 656,\n 'then': 654,\n 'night': 652,\n 'If': 651,\n 'doing': 646,\n 'way': 642,\n 'two': 641,\n 'She': 628,\n 'work': 627,\n 'never': 619,\n 'because': 619,\n 'has': 615,\n 'off': 608,\n 'said': 607,\n 'over': 602,\n 'love': 580,\n 'Raj': 573,\n 'people': 572,\n 'sure': 567,\n 'down': 555,\n 'am': 553,\n 'great': 548,\n 'talk': 548,\n 'thing': 545,\n 'into': 545,\n 'much': 526,\n 'any': 523,\n 'Now': 521,\n 'other': 518,\n 'Thank': 509,\n 'thought': 508,\n 'even': 505,\n 'only': 500,\n 'kind': 498,\n 'where': 498,\n 'than': 492,\n 'uh': 491,\n 'feel': 488,\n 'Are': 485,\n 'first': 484,\n 'Do': 483,\n 'still': 472,\n 'They': 471,\n 'doesn': 464,\n 'things': 463,\n 'again': 463,\n 'There': 460,\n 'A': 460,\n 'man': 458,\n 'put': 448,\n 'fun': 429,\n 'does': 423,\n 'Good': 420,\n 'Let': 414,\n 'My': 413,\n 'being': 412,\n 'very': 411,\n 'believe': 409,\n 'made': 408,\n 'might': 407,\n 'Is': 406,\n 'Come': 406,\n 'better': 406,\n 'Look': 405,\n 'mother': 403,\n 'ever': 401,\n 'Not': 400,\n 'new': 400,\n 'give': 400,\n 'Really': 397,\n 'Just': 392,\n 'Don': 380,\n 'guy': 379,\n 'day': 375,\n 'God': 374,\n 'yeah': 373,\n 'nice': 372,\n 'life': 372,\n 'Maybe': 369,\n 'course': 368,\n 'Bernadette': 368,\n 'before': 366,\n 'Can': 364,\n 'help': 364,\n 'last': 363,\n 'fine': 357,\n 'anything': 355,\n 'talking': 354,\n 'home': 351,\n 'always': 349,\n 'lot': 348,\n 'friend': 348,\n 'told': 347,\n 'friends': 339,\n 'big': 336,\n 'bad': 335,\n 'someone': 335,\n 'Hello': 330,\n 'getting': 327,\n 'please': 326,\n 'Knock': 326,\n 'find': 323,\n 'girl': 323,\n 'call': 320,\n 'around': 319,\n 'having': 316,\n 'Did': 315,\n 'maybe': 313,\n 'room': 312,\n 'their': 312,\n 'pretty': 309,\n 'while': 309,\n 'together': 307,\n 'wrong': 307,\n 'three': 306,\n 'guess': 305,\n 'those': 305,\n 'isn': 303,\n 'stop': 301,\n 'which': 300,\n 'years': 298,\n 'ask': 296,\n 'Hi': 295,\n 'long': 295,\n 'wait': 290,\n 'In': 281,\n 'Fine': 279,\n 'keep': 279,\n 'trying': 277,\n 'saying': 275,\n 'may': 273,\n 'went': 273,\n 'When': 273,\n 'away': 272,\n 'through': 271,\n 'point': 268,\n 'Wait': 268,\n 'woman': 266,\n 'try': 266,\n 'mind': 266,\n 'Who': 266,\n 'own': 266,\n 'understand': 266,\n 'idea': 265,\n 'these': 265,\n 'hear': 263,\n 'play': 263,\n 'won': 262,\n 'place': 261,\n 'actually': 258,\n 'old': 257,\n 'door': 256,\n 'thinking': 256,\n 'girlfriend': 255,\n 'happy': 255,\n 'after': 254,\n 'done': 252,\n 'money': 248,\n 'Because': 248,\n 'Sorry': 248,\n 'start': 247,\n 'problem': 247,\n 'party': 247,\n 'nothing': 246,\n 'making': 246,\n 'relationship': 245,\n 'wanted': 245,\n 'without': 245,\n 'sex': 243,\n 'Of': 243,\n 'wouldn': 239,\n 'best': 239,\n 'Where': 238,\n 'wasn': 236,\n 'enough': 234,\n 'another': 234,\n 'show': 232,\n 'next': 229,\n 'baby': 229,\n 'oh': 226,\n 'care': 223,\n 'else': 223,\n 'happened': 223,\n 'apartment': 220,\n 'Ooh': 220,\n 'both': 219,\n 'Then': 219,\n 'women': 219,\n 'Um': 217,\n 'use': 217,\n 'says': 217,\n 'date': 217,\n 'Wow': 216,\n 'question': 216,\n 'yes': 213,\n 'game': 213,\n 'mom': 211,\n 'dinner': 211,\n 'tonight': 211,\n 'part': 210,\n 'Stuart': 210,\n 'same': 209,\n 'Thanks': 209,\n 'called': 209,\n 'used': 208,\n 'name': 208,\n 'Dr': 208,\n 'Here': 207,\n 'also': 207,\n 'real': 207,\n 'watch': 206,\n 'cool': 206,\n 'car': 205,\n 'stuff': 204,\n 'coming': 204,\n 'thank': 203,\n 'every': 203,\n 'looking': 202,\n 'movie': 202,\n 'live': 201,\n 'hard': 201,\n 'face': 201,\n 'Your': 201,\n 'Sure': 198,\n 'space': 198,\n 'Great': 197,\n 'Excuse': 195,\n 'wants': 194,\n 'since': 192,\n 'working': 192,\n 'leave': 190,\n 'food': 190,\n 'eat': 189,\n 'everything': 188,\n 'head': 187,\n 'myself': 187,\n 'yourself': 186,\n 'book': 186,\n 'probably': 185,\n 'move': 183,\n 'makes': 183,\n 'Like': 182,\n 'matter': 181,\n 'Cooper': 181,\n 'hey': 180,\n 'store': 180,\n 'hot': 179,\n 'each': 179,\n 'five': 179,\n 'stay': 179,\n 'cause': 178,\n 'meet': 177,\n 'left': 176,\n 'turn': 175,\n 'true': 174,\n 'must': 174,\n 'already': 173,\n 'remember': 173,\n 'found': 173,\n 'most': 172,\n 'heard': 171,\n 'See': 170,\n 'Wolowitz': 170,\n 'world': 170,\n 'For': 170,\n 'Or': 170,\n 'science': 170,\n 'person': 170,\n 'open': 168,\n 'job': 168,\n 'living': 168,\n 'came': 167,\n 'morning': 166,\n 'whole': 165,\n 'sounds': 164,\n 'took': 164,\n 'crazy': 164,\n 'listen': 163,\n 'many': 163,\n 'funny': 162,\n 'Go': 161,\n 'sleep': 160,\n 'One': 159,\n 'huh': 159,\n 'pick': 159,\n 'house': 159,\n 'ready': 159,\n 'once': 158,\n 'bed': 158,\n 'To': 157,\n 'taking': 157,\n 'comic': 156,\n 'means': 156,\n 'married': 156,\n 'sit': 154,\n 'phone': 154,\n 'year': 154,\n 'Please': 153,\n 'saw': 152,\n 'looks': 151,\n 'until': 150,\n 'gets': 150,\n 'boy': 150,\n 'Hmm': 150,\n 'kidding': 148,\n 'hope': 148,\n 'upset': 148,\n 'few': 148,\n 'supposed': 148,\n 'As': 148,\n 'four': 147,\n 'set': 147,\n 'reason': 147,\n 'Right': 146,\n 'deal': 146,\n 'um': 145,\n 'today': 145,\n 'Ah': 145,\n 'hang': 145,\n 'everyone': 145,\n 'Star': 145,\n 'yet': 144,\n 'weird': 144,\n 'gone': 143,\n 'such': 143,\n 'stupid': 143,\n 'end': 142,\n 'drive': 142,\n 'second': 142,\n 'school': 141,\n 'between': 141,\n 'hand': 141,\n 'couple': 141,\n 'hours': 140,\n 'worry': 139,\n 'half': 139,\n 'haven': 139,\n 'different': 139,\n 'sound': 139,\n 'heart': 137,\n 'couldn': 137,\n 'exactly': 136,\n 'bring': 136,\n 'late': 136,\n 'fact': 136,\n 'seen': 135,\n 'gave': 135,\n 'hell': 135,\n 'met': 134,\n 'Anyway': 134,\n 'break': 134,\n 'anyone': 134,\n 'boyfriend': 133,\n 'asked': 133,\n 'playing': 133,\n 'girls': 132,\n 'comes': 131,\n 'number': 131,\n 'read': 130,\n 'change': 130,\n 'answer': 130,\n 'father': 129,\n 'alone': 129,\n 'ago': 129,\n 'high': 128,\n 'Mm': 128,\n 'Have': 127,\n 'front': 127,\n 'minutes': 126,\n 'under': 125,\n 'Actually': 125,\n 'Hang': 125,\n 'goes': 125,\n 'word': 125,\n 'hair': 123,\n 'run': 123,\n 'miss': 123,\n 'dating': 122,\n 'moment': 122,\n 'bathroom': 122,\n 'happen': 121,\n 'started': 121,\n 'six': 120,\n 'order': 120,\n 'side': 120,\n 'its': 119,\n 'least': 119,\n 'line': 119,\n 'hold': 119,\n 'cute': 119,\n 'buy': 119,\n 'Me': 119,\n 'check': 119,\n 'either': 118,\n 'thanks': 118,\n 'feeling': 118,\n 'sister': 117,\n 'story': 117,\n 'smart': 117,\n 'paper': 117,\n 'drink': 117,\n 'news': 117,\n 'hate': 116,\n 'Which': 115,\n 'tomorrow': 115,\n 'Get': 115,\n 'important': 114,\n 'mad': 113,\n 'tried': 113,\n '”': 113,\n 'Would': 113,\n 'birthday': 113,\n 'pants': 112,\n 'brain': 112,\n 'family': 112,\n 'spot': 112,\n 'beautiful': 111,\n 'whatever': 111,\n 'chance': 111,\n 'team': 110,\n 'throw': 109,\n 'moving': 108,\n 'figure': 108,\n 'bit': 108,\n 'cut': 108,\n 'minute': 108,\n 'box': 107,\n 'times': 107,\n 'ten': 106,\n 'human': 106,\n 'finally': 106,\n 'Howie': 106,\n 'water': 105,\n 'brought': 104,\n 'hit': 104,\n 'research': 104,\n 'days': 104,\n 'sad': 104,\n 'later': 103,\n 'free': 103,\n 'train': 103,\n 'wearing': 103,\n 'welcome': 102,\n 'close': 102,\n 'case': 102,\n 'knows': 102,\n 'aren': 102,\n 'Aw': 102,\n 'ahead': 101,\n 'feelings': 101,\n 'spend': 100,\n 'Boy': 99,\n 'dad': 99,\n 'Although': 99,\n 'wear': 98,\n 'telling': 98,\n 'roommate': 98,\n 'glad': 98,\n 'coffee': 97,\n 'bought': 97,\n 'choice': 97,\n 'full': 97,\n 'sweet': 96,\n 'body': 96,\n 'table': 96,\n 'walk': 96,\n 'future': 96,\n 'week': 96,\n 'wish': 96,\n 'On': 96,\n 'Emily': 96,\n 'theory': 95,\n 'sign': 95,\n 'spent': 95,\n 'dog': 95,\n 'Wil': 95,\n 'At': 94,\n 'ridiculous': 94,\n 'Man': 94,\n '‘Cause': 94,\n 'knew': 93,\n 'amazing': 93,\n 'Bye': 92,\n 'eyes': 92,\n 'stand': 92,\n 'wedding': 92,\n 'joke': 91,\n 'system': 91,\n 'dead': 91,\n 'kill': 91,\n 'parents': 90,\n 'Does': 90,\n 'behind': 89,\n 'instead': 89,\n 'asking': 89,\n 'using': 89,\n 'eight': 88,\n 'Nothing': 88,\n 'kid': 88,\n 'Koothrappali': 88,\n 'light': 87,\n 'mouth': 87,\n 'physics': 87,\n 'university': 87,\n 'shirt': 86,\n 'win': 86,\n 'rest': 86,\n 'mail': 86,\n 'machine': 86,\n 'seeing': 86,\n 'hands': 86,\n 'e': 86,\n 'entire': 85,\n 'meant': 85,\n 'With': 85,\n 'gift': 85,\n 'Priya': 85,\n 'interesting': 84,\n 'worried': 84,\n 'hour': 84,\n 'evening': 84,\n 'experiment': 84,\n 'chicken': 84,\n 'office': 84,\n 'needs': 84,\n 'card': 84,\n 'sense': 84,\n 'Nice': 84,\n 'Very': 84,\n 'ring': 83,\n 'Alright': 83,\n 'enjoy': 83,\n 'everybody': 83,\n 'bet': 83,\n 'agreement': 83,\n 'broke': 82,\n 'plan': 82,\n 'questions': 82,\n 'perfect': 82,\n 'words': 82,\n 'longer': 82,\n 'eating': 82,\n 'realize': 82,\n 'men': 81,\n 'TV': 81,\n 'able': 81,\n 'Listen': 81,\n 'secret': 81,\n 'weren': 81,\n 'seems': 81,\n 'brother': 81,\n 'business': 81,\n 'sick': 80,\n 'lab': 80,\n 'forget': 80,\n 'sitting': 80,\n 'Trek': 80,\n 'terrible': 80,\n 'Indian': 79,\n 'lost': 79,\n 'months': 79,\n 'scientist': 79,\n 'busy': 79,\n 'dear': 79,\n 'giving': 79,\n 'mine': 79,\n 'Professor': 79,\n 'less': 78,\n 'ass': 78,\n 'afraid': 78,\n 'India': 78,\n 'kids': 78,\n 'music': 78,\n 'video': 78,\n 'top': 77,\n 'wife': 77,\n 'Mrs': 77,\n 'suppose': 77,\n 'leaving': 76,\n 'proud': 76,\n 'easy': 76,\n 'bedroom': 76,\n 'honey': 76,\n 'lives': 76,\n 'Mr': 76,\n 'happens': 76,\n 'Batman': 76,\n 'wonder': 76,\n 'dollars': 76,\n 'far': 75,\n 'die': 75,\n 'takes': 75,\n 'appreciate': 75,\n 'picture': 75,\n 'buddy': 75,\n 'conversation': 74,\n 'along': 74,\n 'Hawking': 74,\n 'Day': 74,\n 'fight': 74,\n 'hurt': 74,\n 'excited': 74,\n 'lady': 73,\n 'speak': 73,\n 'trouble': 73,\n 'Mmm': 73,\n 'sweetie': 73,\n 'middle': 72,\n 'shot': 72,\n 'Got': 72,\n 'tea': 72,\n 'watching': 71,\n 'almost': 71,\n 'learn': 71,\n 'fault': 71,\n 'weekend': 71,\n 'small': 71,\n 'online': 71,\n 'Comic': 71,\n 'bye': 70,\n 'happening': 70,\n 'favourite': 70,\n 'against': 70,\n 'yours': 70,\n 'waiting': 70,\n 'Spock': 70,\n 'pay': 70,\n 'across': 69,\n 'hundred': 69,\n 'clothes': 69,\n 'Tell': 69,\n 'Hold': 69,\n 'sometimes': 69,\n 'test': 69,\n 'shouldn': 69,\n 'share': 69,\n 'Ma': 69,\n 'Christmas': 69,\n 'New': 68,\n 'hi': 68,\n 'o': 68,\n 'turned': 68,\n 'given': 68,\n 'worked': 68,\n 'Hofstadter': 68,\n 'fire': 68,\n 'Texas': 68,\n 'apologize': 68,\n 'universe': 67,\n 'based': 67,\n 'bar': 67,\n 'outside': 67,\n 'social': 67,\n 'past': 67,\n 'Interesting': 67,\n 'child': 67,\n 'hmm': 67,\n 'young': 67,\n 'Isn': 66,\n 'Lee': 66,\n 'Con': 66,\n 'dude': 66,\n 'list': 66,\n 'Kripke': 66,\n 'seem': 65,\n 'works': 65,\n 'hoping': 65,\n 'death': 65,\n 'books': 65,\n 'doctor': 65,\n 'calling': 65,\n 'meeting': 65,\n 'Ugh': 65,\n 'window': 65,\n 'special': 65,\n 'Lord': 65,\n 'group': 65,\n 'send': 65,\n 'rock': 65,\n 'Zack': 65,\n 'building': 64,\n 'warm': 64,\n 'naked': 64,\n 'known': 64,\n 'Rajesh': 64,\n 'excuse': 64,\n 'robot': 64,\n 'dark': 64,\n 'D': 64,\n 'grown': 64,\n 'Wheaton': 64,\n 'poor': 63,\n 'floor': 63,\n 'children': 63,\n 'Stop': 63,\n 'running': 63,\n 'Never': 63,\n 'seven': 63,\n 'comfortable': 63,\n 'fair': 63,\n 'Sounds': 62,\n 'Give': 62,\n 'voice': 62,\n 'starting': 62,\n 'changed': 62,\n 'son': 62,\n 'inside': 62,\n 'ball': 62,\n 'decided': 62,\n 'silly': 62,\n 'wine': 62,\n 'trip': 61,\n 'lunch': 61,\n 'key': 61,\n 'weeks': 61,\n 'Huh': 61,\n 'felt': 61,\n 'record': 61,\n 'agree': 61,\n 'class': 61,\n 'holding': 61,\n 'toilet': 61,\n 'shower': 60,\n 'totally': 60,\n 'explain': 60,\n 'surprised': 60,\n 'crap': 60,\n 'anyway': 60,\n 'interested': 60,\n 'By': 60,\n 'clear': 60,\n 'support': 60,\n 'clock': 60,\n 'ice': 60,\n 'Bert': 60,\n 'broken': 59,\n 'movies': 59,\n 'husband': 59,\n 'simple': 59,\n 'usually': 59,\n 'turns': 59,\n 'talked': 59,\n 'completely': 59,\n 'catch': 59,\n 'flag': 59,\n 'string': 58,\n 'uncomfortable': 58,\n 'shoes': 58,\n 'smell': 58,\n 'slow': 58,\n 'white': 58,\n 'lucky': 58,\n 'boys': 58,\n 'fat': 58,\n 'lie': 58,\n 'nose': 58,\n 'action': 58,\n 'Perhaps': 58,\n 'Should': 57,\n 'wonderful': 57,\n 'sleeping': 57,\n 'hello': 57,\n 'magic': 57,\n 'bag': 57,\n 'cat': 57,\n 'Mom': 57,\n 'luck': 57,\n 'ride': 57,\n 'died': 57,\n 'surprise': 57,\n 'single': 56,\n 'Two': 56,\n 'invited': 56,\n 'sort': 56,\n 'worst': 56,\n 'level': 56,\n 'eye': 56,\n 'People': 56,\n 'join': 56,\n 'reading': 56,\n 'field': 56,\n 'red': 56,\n 'song': 56,\n 'stuck': 56,\n 'driving': 56,\n 'clearly': 56,\n 'Will': 56,\n 'Nope': 56,\n 'exciting': 56,\n 'company': 55,\n 'self': 55,\n 'feet': 55,\n 'couch': 55,\n 'drunk': 55,\n 'Guys': 55,\n 'short': 55,\n 'lose': 55,\n 'promise': 55,\n 'milk': 55,\n 'picked': 55,\n 'shut': 55,\n 'problems': 55,\n 'Bernie': 55,\n 'Even': 54,\n 'though': 54,\n 'sexual': 54,\n 'anybody': 54,\n 'romantic': 54,\n 'restaurant': 54,\n 'moved': 54,\n 'physicist': 54,\n 'interest': 54,\n 'early': 54,\n 'T': 54,\n 'soon': 54,\n 'em': 54,\n 'Valentine': 54,\n 'ex': 53,\n 'wondering': 53,\n 'Earth': 53,\n 'cannot': 53,\n 'likes': 53,\n 'third': 53,\n 'Next': 53,\n 'serious': 52,\n 'coitus': 52,\n 'listening': 52,\n 'somebody': 52,\n 'count': 52,\n 'present': 52,\n 'American': 52,\n 'acting': 52,\n 'air': 52,\n 'cheese': 52,\n 'putting': 52,\n 'cares': 52,\n 'tree': 52,\n 'Damn': 52,\n 'truth': 52,\n 'wrote': 52,\n 'possible': 52,\n 'subject': 52,\n 'games': 52,\n 'Wars': 52,\n 'safe': 52,\n 'Fowler': 52,\n 'clean': 51,\n 'played': 51,\n 'worse': 51,\n 'Our': 51,\n 'breakfast': 51,\n 'hanging': 51,\n 'quite': 51,\n 'month': 51,\n 'himself': 51,\n 'thinks': 51,\n 'Seriously': 51,\n 'helping': 51,\n 'return': 51,\n 'giant': 51,\n 'pretend': 51,\n 'Yep': 51,\n 'quantum': 50,\n 'taken': 50,\n ...}"
     },
     "execution_count": 71,
     "metadata": {},
     "output_type": "execute_result"
    }
   ],
   "source": [
    "# your code goes here\n",
    "from collections import Counter\n",
    "\n",
    "corpus_freq = Counter()\n",
    "\n",
    "for line in df_lines_recur_punc_removed['dialog']:\n",
    "    corpus_freq.update(line.split())\n",
    "\n",
    "corpus_freq = dict(corpus_freq)\n",
    "corpus_freq_sorted = dict(sorted(corpus_freq.items(), key=lambda x: x[1], reverse=True))\n",
    "corpus_freq_sorted"
   ]
  },
  {
   "cell_type": "code",
   "execution_count": 76,
   "outputs": [
    {
     "data": {
      "text/plain": "<Figure size 640x480 with 1 Axes>",
      "image/png": "[encoded data removed]"
     },
     "metadata": {},
     "output_type": "display_data"
    }
   ],
   "source": [
    "plt.hist(corpus_freq_sorted.values(),bins=100)\n",
    "plt.show()"
   ],
   "metadata": {
    "collapsed": false,
    "ExecuteTime": {
     "end_time": "2024-01-10T22:15:44.665900900Z",
     "start_time": "2024-01-10T22:15:44.409806800Z"
    }
   }
  },
  {
   "cell_type": "markdown",
   "metadata": {},
   "source": [
    "### Part 2: Talkativity\n",
    "**Q5**. For each of the recurrent characters, calculate their total number of words uttered across all episodes. Based on this, who seems to be the most talkative character?"
   ]
  },
  {
   "cell_type": "code",
   "execution_count": 7,
   "metadata": {},
   "outputs": [],
   "source": [
    "# your code goes here"
   ]
  },
  {
   "cell_type": "markdown",
   "metadata": {},
   "source": [
    "## Task D: The Detective's Hat\n",
    "\n",
    "Sheldon claims that given a dialogue line, he can, with an accuracy of above 70%, say whether it's by himself or by someone else. Leonard contests this claim, since he believes that this claimed accuracy is too high.\n",
    "\n",
    "**Q6**. Divide the set of all dialogue lines into two subsets: the training set, consisting of all the seasons except the last two, and the test set, consisting of the last two seasons."
   ]
  },
  {
   "cell_type": "code",
   "execution_count": 8,
   "metadata": {},
   "outputs": [],
   "source": [
    "# your code goes here"
   ]
  },
  {
   "cell_type": "markdown",
   "metadata": {},
   "source": [
    "**Q7**. Find the set of all words in the training set that are only uttered by Sheldon. Is it possible for Sheldon to identify himself only based on these? Use the test set to assess this possibility, and explain your method."
   ]
  },
  {
   "cell_type": "code",
   "execution_count": 9,
   "metadata": {
    "tags": []
   },
   "outputs": [],
   "source": [
    "# your code goes here"
   ]
  }
 ],
 "metadata": {
  "kernelspec": {
   "display_name": "Python 3",
   "language": "python",
   "name": "python3"
  },
  "language_info": {
   "codemirror_mode": {
    "name": "ipython",
    "version": 3
   },
   "file_extension": ".py",
   "mimetype": "text/x-python",
   "name": "python",
   "nbconvert_exporter": "python",
   "pygments_lexer": "ipython3",
   "version": "3.9.12"
  },
  "varInspector": {
   "cols": {
    "lenName": 16,
    "lenType": 16,
    "lenVar": 40
   },
   "kernels_config": {
    "python": {
     "delete_cmd_postfix": "",
     "delete_cmd_prefix": "del ",
     "library": "var_list.py",
     "varRefreshCmd": "print(var_dic_list())"
    },
    "r": {
     "delete_cmd_postfix": ") ",
     "delete_cmd_prefix": "rm(",
     "library": "var_list.r",
     "varRefreshCmd": "cat(var_dic_list()) "
    }
   },
   "types_to_exclude": [
    "module",
    "function",
    "builtin_function_or_method",
    "instance",
    "_Feature"
   ],
   "window_display": false
  }
 },
 "nbformat": 4,
 "nbformat_minor": 4
}
