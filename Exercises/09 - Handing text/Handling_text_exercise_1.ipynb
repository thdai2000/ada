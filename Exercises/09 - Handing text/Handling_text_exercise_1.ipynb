{
 "cells": [
  {
   "cell_type": "markdown",
   "metadata": {},
   "source": [
    "# Handling text exercise"
   ]
  },
  {
   "cell_type": "markdown",
   "metadata": {},
   "source": [
    "## Welcome! This exercise consists of:\n",
    "\n",
    "## Part 1: Hands on tutorial\n",
    "1. Implementing the natural language processing pipeline\n",
    "2. Solving four typical language processing tasks:\n",
    "   * Sentiment analysis\n",
    "   * Document classification\n",
    "   * Topic detection\n",
    "   * Semantic analysis\n",
    "\n",
    "\n",
    "### We will be working with four books in plain text:\n",
    "1. Moby-Dick, by Herman Melville\n",
    "2. Frankenstein; or, The Modern Prometheus, by Mary Shelley\n",
    "3. Pride and Prejudice, by Jane Austen\n",
    "4. Dracula, Bram Stoker\n",
    "\n",
    "#### To run this notebook, you need to install the following libraries:\n",
    "\n",
    "conda install nltk gensim spacy <br>\n",
    "pip install pyLDAvis  <br>\n",
    "pip install vaderSentiment  <br>\n",
    "pip install empath <br>\n",
    "python -m spacy download en  <br>\n",
    "python -m nltk.downloader punkt <br>\n",
    "python -m nltk.downloader all-corpora <br>\n",
    "\n",
    "## Part 2: Handling text comprehension questions\n",
    "- You can test your understanding of important NLP concepts. Solutions will be released next week.\n",
    "\n",
    "## Part 3: Coding exercise\n",
    "- When you are done, in \"Handling_text_exercise_2.ipynb\", you will find additional exercises you can work on independently."
   ]
  },
  {
   "cell_type": "markdown",
   "metadata": {},
   "source": [
    "## Part 1"
   ]
  },
  {
   "cell_type": "code",
   "execution_count": 1,
   "metadata": {
    "ExecuteTime": {
     "end_time": "2024-01-07T16:25:18.450625600Z",
     "start_time": "2024-01-07T16:25:14.641949800Z"
    }
   },
   "outputs": [],
   "source": [
    "%load_ext autoreload\n",
    "%autoreload 2\n",
    "\n",
    "import warnings; warnings.simplefilter('ignore')\n",
    "import os, codecs, string, random\n",
    "import numpy as np\n",
    "from numpy.random import seed as random_seed\n",
    "from numpy.random import shuffle as random_shuffle\n",
    "import matplotlib.pyplot as plt\n",
    "%matplotlib inline  \n",
    "\n",
    "seed = 42\n",
    "random.seed(seed)\n",
    "np.random.seed(seed)\n",
    "\n",
    "#NLP libraries\n",
    "import spacy, nltk, gensim, sklearn\n",
    "#import pyLDAvis.gensim\n",
    "import pyLDAvis.gensim_models\n",
    "\n",
    "#Vader\n",
    "import vaderSentiment\n",
    "from vaderSentiment.vaderSentiment import SentimentIntensityAnalyzer\n",
    "\n",
    "#Scikit imports\n",
    "from sklearn.feature_extraction.text import CountVectorizer\n",
    "from sklearn.model_selection import train_test_split\n",
    "from sklearn.model_selection import cross_val_score\n",
    "from sklearn.linear_model import LogisticRegression\n",
    "from sklearn import preprocessing\n",
    "from sklearn.preprocessing import StandardScaler\n",
    "from sklearn.utils import shuffle\n",
    "\n",
    "#The data\n",
    "corpus_root = 'books/'"
   ]
  },
  {
   "cell_type": "markdown",
   "metadata": {},
   "source": [
    "#### In this tutorial we will be working with text in English. The same principles apply, but the methods cannot be applied directly to the text in unknown or other languages. We will be working mainly with the Spacy library."
   ]
  },
  {
   "cell_type": "markdown",
   "metadata": {},
   "source": [
    "Initialize the Spacy analyzer in English"
   ]
  },
  {
   "cell_type": "code",
   "execution_count": 2,
   "metadata": {
    "ExecuteTime": {
     "end_time": "2024-01-07T16:25:58.499657900Z",
     "start_time": "2024-01-07T16:25:57.476652300Z"
    }
   },
   "outputs": [],
   "source": [
    "nlp = spacy.load('en_core_web_sm')"
   ]
  },
  {
   "cell_type": "markdown",
   "metadata": {},
   "source": [
    "Load the books"
   ]
  },
  {
   "cell_type": "code",
   "execution_count": 16,
   "metadata": {
    "ExecuteTime": {
     "end_time": "2024-01-07T19:12:05.228658700Z",
     "start_time": "2024-01-07T19:12:05.052699300Z"
    }
   },
   "outputs": [
    {
     "name": "stdout",
     "output_type": "stream",
     "text": [
      "DRACULA.txt\n",
      "Frankenstein.txt\n",
      "Moby_Dick.txt\n",
      "PRIDE_AND_PREJUDICE.txt\n"
     ]
    }
   ],
   "source": [
    "books = list()\n",
    "\n",
    "for book_file in os.listdir(corpus_root):\n",
    "    if \".txt\" in book_file:\n",
    "        print(book_file)\n",
    "        with codecs.open(os.path.join(corpus_root,book_file),encoding=\"utf8\") as f:\n",
    "            books.append(f.read())"
   ]
  },
  {
   "cell_type": "markdown",
   "metadata": {},
   "source": [
    "Print the beginning of Pride and Prejudice"
   ]
  },
  {
   "cell_type": "code",
   "execution_count": 21,
   "outputs": [
    {
     "data": {
      "text/plain": "'PRIDE AND PREJUDICE\\r\\n\\r\\nBy Jane Austen\\r\\n\\r\\n\\r\\n\\r\\nChapter 1\\r\\n\\r\\n\\r\\nIt is a truth universally acknowledged, that a single man in possession\\r\\nof a good fortune, must be in want of a wife.\\r\\n\\r\\nHowever little known the feelings or views of such a man may be on his\\r\\nfirst entering a neighbourhood, this truth is so well fixed in the minds\\r\\nof the surrounding families, that he is considered the rightful property\\r\\nof some one or other of their daughters.\\r\\n\\r\\n“My dear Mr. Bennet,” said his lady to him one day, “have you heard that\\r\\nNetherfield Park is let at last?”\\r\\n\\r\\nMr. Bennet replied that he had not.\\r\\n\\r\\n“But'"
     },
     "execution_count": 21,
     "metadata": {},
     "output_type": "execute_result"
    }
   ],
   "source": [
    "books[3][:600]"
   ],
   "metadata": {
    "collapsed": false,
    "ExecuteTime": {
     "end_time": "2024-01-07T19:12:29.140895300Z",
     "start_time": "2024-01-07T19:12:29.035177Z"
    }
   }
  },
  {
   "cell_type": "code",
   "execution_count": 4,
   "metadata": {
    "ExecuteTime": {
     "end_time": "2024-01-07T16:26:31.444056100Z",
     "start_time": "2024-01-07T16:26:31.359725200Z"
    }
   },
   "outputs": [
    {
     "name": "stdout",
     "output_type": "stream",
     "text": [
      "PRIDE AND PREJUDICE\r\n",
      "\r\n",
      "By Jane Austen\r\n",
      "\r\n",
      "\r\n",
      "\r\n",
      "Chapter 1\r\n",
      "\r\n",
      "\r\n",
      "It is a truth universally acknowledged, that a single man in possession\r\n",
      "of a good fortune, must be in want of a wife.\r\n",
      "\r\n",
      "However little known the feelings or views of such a man may be on his\r\n",
      "first entering a neighbourhood, this truth is so well fixed in the minds\r\n",
      "of the surrounding families, that he is considered the rightful property\r\n",
      "of some one or other of their daughters.\r\n",
      "\r\n",
      "“My dear Mr. Bennet,” said his lady to him one day, “have you heard that\r\n",
      "Netherfield Park is let at last?”\r\n",
      "\r\n",
      "Mr. Bennet replied that he had not.\r\n",
      "\r\n",
      "“But\n"
     ]
    }
   ],
   "source": [
    "print(books[3][0:600])"
   ]
  },
  {
   "cell_type": "markdown",
   "metadata": {},
   "source": [
    "#### Let's remove the new lines"
   ]
  },
  {
   "cell_type": "code",
   "execution_count": 5,
   "metadata": {
    "ExecuteTime": {
     "end_time": "2024-01-07T18:48:23.467601700Z",
     "start_time": "2024-01-07T18:48:23.086803900Z"
    }
   },
   "outputs": [],
   "source": [
    "books = [\" \".join(b.split()) for b in books]"
   ]
  },
  {
   "cell_type": "code",
   "execution_count": 9,
   "metadata": {
    "ExecuteTime": {
     "end_time": "2024-01-07T18:48:50.192902400Z",
     "start_time": "2024-01-07T18:48:50.085348300Z"
    }
   },
   "outputs": [
    {
     "data": {
      "text/plain": "'PRIDE AND PREJUDICE By Jane Austen Chapter 1 It is a truth universally acknowledged, that a single man in possession of a good fortune, must be in want of a wife. However little known the feelings or views of such a man may be on his first entering a neighbourhood, this truth is so well fixed in the minds of the surrounding families, that he is considered the rightful property of some one or other of their daughters. “My dear Mr. Bennet,” said his lady to him one day, “have you heard that Netherfield Park is let at last?” Mr. Bennet replied that he had not. “But it is,” returned she; “for Mrs.'"
     },
     "execution_count": 9,
     "metadata": {},
     "output_type": "execute_result"
    }
   ],
   "source": [
    "books[3][0:600]"
   ]
  },
  {
   "cell_type": "markdown",
   "metadata": {},
   "source": [
    "### Load Frankenstein"
   ]
  },
  {
   "cell_type": "code",
   "execution_count": 23,
   "metadata": {
    "ExecuteTime": {
     "end_time": "2024-01-07T19:14:26.450051200Z",
     "start_time": "2024-01-07T19:14:10.614133600Z"
    }
   },
   "outputs": [],
   "source": [
    "#index all books\n",
    "book = books[1]\n",
    "\n",
    "#put in raw text, get a Spacy object\n",
    "doc = nlp(book)"
   ]
  },
  {
   "cell_type": "markdown",
   "metadata": {},
   "source": [
    "## Let's create our own NLP pipeline with Spacy!"
   ]
  },
  {
   "cell_type": "markdown",
   "metadata": {},
   "source": [
    "### Step 1: Sentence splitting\n",
    "\n",
    "#### May sound trivial, but it's not! (e.g., U.K. or Yahoo!) Spacy uses a statistical model to generate accurate predictions. This works well out of the box for general-purpose text or web text. For social media use dedicated libraries."
   ]
  },
  {
   "cell_type": "code",
   "execution_count": 24,
   "metadata": {
    "ExecuteTime": {
     "end_time": "2024-01-07T19:15:53.935847700Z",
     "start_time": "2024-01-07T19:15:53.720601100Z"
    }
   },
   "outputs": [
    {
     "name": "stdout",
     "output_type": "stream",
     "text": [
      "Sentence 1: Frankenstein,\r\n",
      "\r\n",
      "or the Modern Prometheus\r\n",
      "\r\n",
      "\r\n",
      "by\r\n",
      "\r\n",
      "Mary Wollstonecraft (Godwin) Shelley\r\n",
      "\r\n",
      "\r\n",
      "\r\n",
      "\r\n",
      "Letter 1\r\n",
      "\r\n",
      "\r\n",
      "St. Petersburgh, Dec. 11th, 17--\r\n",
      "\r\n",
      "TO Mrs. Saville, England\r\n",
      "\r\n",
      "You will rejoice to hear that no disaster has accompanied the\r\n",
      "commencement of an enterprise which you have regarded with such evil\r\n",
      "forebodings.   \n",
      "\n",
      "Sentence 2: I arrived here yesterday, and my first task is to assure\r\n",
      "my dear sister of my welfare and increasing confidence in the success\r\n",
      "of my undertaking.\r\n",
      "\r\n",
      " \n",
      "\n",
      "Sentence 3: I am already far north of London, and as I walk in the streets of\r\n",
      "Petersburgh, I feel a cold northern breeze play upon my cheeks, which\r\n",
      "braces my nerves and fills me with delight.   \n",
      "\n"
     ]
    }
   ],
   "source": [
    "sentences = [sent for sent in doc.sents]\n",
    "print('Sentence 1:',sentences[0],'\\n')\n",
    "print('Sentence 2:',sentences[1],'\\n')\n",
    "print('Sentence 3:',sentences[2],'\\n')"
   ]
  },
  {
   "cell_type": "markdown",
   "metadata": {},
   "source": [
    "### Step 2: Tokenization\n",
    "\n",
    "#### The task of splitting a text into meaningful segments called tokens. We segment the sentence into words, punctuation, etc. This is done by first splitting on whitespace characters and them applying rules specific to each language. For example, \"don't\" does not contain whitespace, but should be split into two tokens, \"do\" and \"n't\", while \"U.K.\" should always remain one token and \"but,\" shouldn't."
   ]
  },
  {
   "cell_type": "markdown",
   "metadata": {},
   "source": [
    "### We will analyze the methods on an example sentence first"
   ]
  },
  {
   "cell_type": "code",
   "execution_count": 26,
   "metadata": {
    "ExecuteTime": {
     "end_time": "2024-01-07T19:21:56.058524700Z",
     "start_time": "2024-01-07T19:21:55.945617800Z"
    }
   },
   "outputs": [
    {
     "name": "stdout",
     "output_type": "stream",
     "text": [
      "I am already far north of London, and as I walk in the streets of Petersburgh, I feel a cold northern breeze play upon my cheeks, which braces my nerves and fills me with delight. \n",
      "\n",
      "['I', 'am', 'already', 'far', 'north', 'of', 'London', ',', 'and', 'as', 'I', 'walk', 'in', 'the', 'streets', 'of', 'Petersburgh', ',', 'I', 'feel', 'a', 'cold', 'northern', 'breeze', 'play', 'upon', 'my', 'cheeks', ',', 'which', 'braces', 'my', 'nerves', 'and', 'fills', 'me', 'with', 'delight', '.']\n"
     ]
    }
   ],
   "source": [
    "example = 'I am already far north of London, and as I walk in the streets of Petersburgh, I feel a cold northern breeze play upon my cheeks, which braces my nerves and fills me with delight.'\n",
    "\n",
    "doc = nlp(example)\n",
    "\n",
    "#strings are encoded to hashes\n",
    "tokens = [token.text for token in doc]\n",
    "\n",
    "print(example,'\\n')\n",
    "print(tokens)"
   ]
  },
  {
   "cell_type": "markdown",
   "metadata": {},
   "source": [
    "### Step 3: Part of speech tagging\n",
    "\n",
    "#### The model makes a prediction of which tag or label most likely applies in this context. For example, a word following \"the\" in English is most likely a noun."
   ]
  },
  {
   "cell_type": "code",
   "execution_count": 27,
   "metadata": {
    "ExecuteTime": {
     "end_time": "2024-01-07T19:22:45.408694Z",
     "start_time": "2024-01-07T19:22:45.324597800Z"
    }
   },
   "outputs": [
    {
     "name": "stdout",
     "output_type": "stream",
     "text": [
      "I am already far north of London, and as I walk in the streets of Petersburgh, I feel a cold northern breeze play upon my cheeks, which braces my nerves and fills me with delight. \n",
      "\n",
      "[('I', 'PRON'), ('am', 'AUX'), ('already', 'ADV'), ('far', 'ADV'), ('north', 'ADV'), ('of', 'ADP'), ('London', 'PROPN'), (',', 'PUNCT'), ('and', 'CCONJ'), ('as', 'SCONJ'), ('I', 'PRON'), ('walk', 'VERB'), ('in', 'ADP'), ('the', 'DET'), ('streets', 'NOUN'), ('of', 'ADP'), ('Petersburgh', 'PROPN'), (',', 'PUNCT'), ('I', 'PRON'), ('feel', 'VERB'), ('a', 'DET'), ('cold', 'ADJ'), ('northern', 'ADJ'), ('breeze', 'NOUN'), ('play', 'VERB'), ('upon', 'SCONJ'), ('my', 'PRON'), ('cheeks', 'NOUN'), (',', 'PUNCT'), ('which', 'PRON'), ('braces', 'VERB'), ('my', 'PRON'), ('nerves', 'NOUN'), ('and', 'CCONJ'), ('fills', 'VERB'), ('me', 'PRON'), ('with', 'ADP'), ('delight', 'NOUN'), ('.', 'PUNCT')]\n"
     ]
    }
   ],
   "source": [
    "pos_tagged = [(token.text, token.pos_) for token in doc]\n",
    "\n",
    "print(example,'\\n')\n",
    "print(pos_tagged)"
   ]
  },
  {
   "cell_type": "code",
   "execution_count": 28,
   "metadata": {
    "ExecuteTime": {
     "end_time": "2024-01-07T19:22:49.991663400Z",
     "start_time": "2024-01-07T19:22:49.895917700Z"
    }
   },
   "outputs": [
    {
     "name": "stdout",
     "output_type": "stream",
     "text": [
      "coordinating conjunction\n",
      "adposition\n",
      "determiner\n"
     ]
    }
   ],
   "source": [
    "print(spacy.explain('CCONJ'))\n",
    "print(spacy.explain('ADP'))\n",
    "print(spacy.explain('DET'))"
   ]
  },
  {
   "cell_type": "markdown",
   "metadata": {},
   "source": [
    "### When unsure, see here for more details: http://universaldependencies.org/u/pos/all.html"
   ]
  },
  {
   "cell_type": "markdown",
   "metadata": {},
   "source": [
    "#### More detailed annotation:"
   ]
  },
  {
   "cell_type": "code",
   "execution_count": 29,
   "metadata": {
    "ExecuteTime": {
     "end_time": "2024-01-07T20:39:19.675666900Z",
     "start_time": "2024-01-07T20:39:19.541604200Z"
    }
   },
   "outputs": [
    {
     "name": "stdout",
     "output_type": "stream",
     "text": [
      "[('I', 'PRP'), ('am', 'VBP'), ('already', 'RB'), ('far', 'RB'), ('north', 'RB'), ('of', 'IN'), ('London', 'NNP'), (',', ','), ('and', 'CC'), ('as', 'IN'), ('I', 'PRP'), ('walk', 'VBP'), ('in', 'IN'), ('the', 'DT'), ('streets', 'NNS'), ('of', 'IN'), ('Petersburgh', 'NNP'), (',', ','), ('I', 'PRP'), ('feel', 'VBP'), ('a', 'DT'), ('cold', 'JJ'), ('northern', 'JJ'), ('breeze', 'NN'), ('play', 'VB'), ('upon', 'IN'), ('my', 'PRP$'), ('cheeks', 'NNS'), (',', ','), ('which', 'WDT'), ('braces', 'VBZ'), ('my', 'PRP$'), ('nerves', 'NNS'), ('and', 'CC'), ('fills', 'VBZ'), ('me', 'PRP'), ('with', 'IN'), ('delight', 'NN'), ('.', '.')]\n"
     ]
    }
   ],
   "source": [
    "pos_tagged = [(token.text, token.tag_) for token in doc]\n",
    "\n",
    "print(pos_tagged)"
   ]
  },
  {
   "cell_type": "code",
   "execution_count": 30,
   "metadata": {
    "ExecuteTime": {
     "end_time": "2024-01-07T20:40:09.050067700Z",
     "start_time": "2024-01-07T20:40:08.966259100Z"
    }
   },
   "outputs": [
    {
     "name": "stdout",
     "output_type": "stream",
     "text": [
      "pronoun, personal\n",
      "verb, non-3rd person singular present\n"
     ]
    }
   ],
   "source": [
    "print(spacy.explain('PRP'))\n",
    "print(spacy.explain('VBP'))"
   ]
  },
  {
   "cell_type": "markdown",
   "metadata": {},
   "source": [
    "### Step 4: Named entity recognition\n",
    "\n",
    "#### For example, a person, a country, a product or a book title. Spacy can recognise various types of named entities in a document. This doesn't always work perfectly and might need some tuning later, depending on your use case.\n",
    "\n",
    "Built in entity types: <br>\n",
    "\n",
    "PERSON  People, including fictional.  <br>\n",
    "NORP\tNationalities or religious or political groups. <br>\n",
    "FAC\tBuildings, airports, highways, bridges, etc. <br>\n",
    "ORG\tCompanies, agencies, institutions, etc. <br>\n",
    "GPE\tCountries, cities, states. <br>\n",
    "LOC\tNon-GPE locations, mountain ranges, bodies of water. <br>\n",
    "PRODUCT\tObjects, vehicles, foods, etc. (Not services.) <br>\n",
    "EVENT\tNamed hurricanes, battles, wars, sports events, etc. <br>\n",
    "WORK_OF_ART\tTitles of books, songs, etc. <br>\n",
    "LAW\tNamed documents made into laws. <br>\n",
    "LANGUAGE\tAny named language. <br>\n",
    "DATE\tAbsolute or relative dates or periods. <br>\n",
    "TIME\tTimes smaller than a day. <br>\n",
    "PERCENT\tPercentage, including \"%\". <br>\n",
    "MONEY\tMonetary values, including unit. <br>\n",
    "QUANTITY\tMeasurements, as of weight or distance. <br>\n",
    "ORDINAL\t\"first\", \"second\", etc. <br>\n",
    "CARDINAL\tNumerals that do not fall under another type. <br>"
   ]
  },
  {
   "cell_type": "code",
   "execution_count": 31,
   "metadata": {
    "ExecuteTime": {
     "end_time": "2024-01-07T20:41:11.288835800Z",
     "start_time": "2024-01-07T20:41:11.182122400Z"
    }
   },
   "outputs": [
    {
     "name": "stdout",
     "output_type": "stream",
     "text": [
      "I am already far north of London, and as I walk in the streets of Petersburgh, I feel a cold northern breeze play upon my cheeks, which braces my nerves and fills me with delight. \n",
      "\n",
      "London GPE\n",
      "Petersburgh GPE\n"
     ]
    }
   ],
   "source": [
    "print(example,'\\n')\n",
    "for ent in doc.ents:\n",
    "    print(ent.text, ent.label_)"
   ]
  },
  {
   "cell_type": "markdown",
   "metadata": {},
   "source": [
    "### Step 5: Removing stop words"
   ]
  },
  {
   "cell_type": "markdown",
   "metadata": {},
   "source": [
    "Let's check out all the stopwords:"
   ]
  },
  {
   "cell_type": "code",
   "execution_count": 32,
   "metadata": {
    "ExecuteTime": {
     "end_time": "2024-01-07T20:42:24.071765100Z",
     "start_time": "2024-01-07T20:42:23.974027900Z"
    }
   },
   "outputs": [
    {
     "name": "stdout",
     "output_type": "stream",
     "text": [
      "Number of stop words: 326\n",
      "First ten stop words: ['alone', 'around', 'until', 'six', 'latterly', 'whether', 'below', 'on', 'side', 'her']\n"
     ]
    }
   ],
   "source": [
    "spacy_stopwords = spacy.lang.en.stop_words.STOP_WORDS\n",
    "print('Number of stop words: %d' % len(spacy_stopwords))\n",
    "print('First ten stop words:',list(spacy_stopwords)[:10])"
   ]
  },
  {
   "cell_type": "markdown",
   "metadata": {},
   "source": [
    "Detecting stopwords in the example:"
   ]
  },
  {
   "cell_type": "code",
   "execution_count": 33,
   "metadata": {
    "ExecuteTime": {
     "end_time": "2024-01-07T20:42:48.494461700Z",
     "start_time": "2024-01-07T20:42:48.397341300Z"
    }
   },
   "outputs": [
    {
     "name": "stdout",
     "output_type": "stream",
     "text": [
      "I am already far north of London, and as I walk in the streets of Petersburgh, I feel a cold northern breeze play upon my cheeks, which braces my nerves and fills me with delight. \n",
      "\n",
      "['I', 'am', 'already', 'of', 'and', 'as', 'I', 'in', 'the', 'of', 'I', 'a', 'upon', 'my', 'which', 'my', 'and', 'me', 'with']\n"
     ]
    }
   ],
   "source": [
    "print(example,'\\n')\n",
    "\n",
    "stop_words = [token.text for token in doc if token.is_stop]\n",
    "\n",
    "print(stop_words)"
   ]
  },
  {
   "cell_type": "markdown",
   "metadata": {},
   "source": [
    "#### Sometimes it's useful to define a custom list of stopwords. Other solutions: https://www.ranks.nl/stopwords \n"
   ]
  },
  {
   "cell_type": "markdown",
   "metadata": {},
   "source": [
    "### Step 6: Lemmatization\n",
    "\n",
    "#### A rule-based deterministic lemmatizer maps the surface form of a token to a lemma."
   ]
  },
  {
   "cell_type": "code",
   "execution_count": 34,
   "metadata": {
    "ExecuteTime": {
     "end_time": "2024-01-07T20:44:17.729562800Z",
     "start_time": "2024-01-07T20:44:17.635845700Z"
    }
   },
   "outputs": [
    {
     "name": "stdout",
     "output_type": "stream",
     "text": [
      "I am already far north of London, and as I walk in the streets of Petersburgh, I feel a cold northern breeze play upon my cheeks, which braces my nerves and fills me with delight. \n",
      "\n",
      "am ---> be\n",
      "streets ---> street\n",
      "cheeks ---> cheek\n",
      "braces ---> brace\n",
      "nerves ---> nerve\n",
      "fills ---> fill\n",
      "me ---> I\n"
     ]
    }
   ],
   "source": [
    "print(example,'\\n')\n",
    "for token in doc:\n",
    "    if token.text != token.lemma_:\n",
    "        print(token.text,'--->',token.lemma_)"
   ]
  },
  {
   "cell_type": "markdown",
   "metadata": {},
   "source": [
    "### Step 7: Chunking (shallow parsing)\n",
    "\n",
    "#### Noun chunks are \"base noun phrases\" – flat phrases that have a noun as their head -- a noun plus the words describing the noun – for example, \"the lavish green grass\" or \"the world’s largest tech fund\". "
   ]
  },
  {
   "cell_type": "code",
   "execution_count": 35,
   "metadata": {
    "ExecuteTime": {
     "end_time": "2024-01-07T20:45:52.271545Z",
     "start_time": "2024-01-07T20:45:52.182666400Z"
    }
   },
   "outputs": [
    {
     "name": "stdout",
     "output_type": "stream",
     "text": [
      "I am already far north of London, and as I walk in the streets of Petersburgh, I feel a cold northern breeze play upon my cheeks, which braces my nerves and fills me with delight. \n",
      "\n",
      "I\n",
      "London\n",
      "I\n",
      "the streets\n",
      "Petersburgh\n",
      "I\n",
      "my cheeks\n",
      "which\n",
      "my nerves\n",
      "me\n",
      "delight\n"
     ]
    }
   ],
   "source": [
    "print(example,'\\n')\n",
    "\n",
    "for chunk in doc.noun_chunks:\n",
    "    print(chunk.text)"
   ]
  },
  {
   "cell_type": "markdown",
   "metadata": {},
   "source": [
    "### Step 8: Dependancy parsing\n",
    "\n",
    "#### The terms head and child describe the words connected by an arc in the dependency tree. The type of syntactic relation that connects the child to the head can be obtain through .dep_."
   ]
  },
  {
   "cell_type": "code",
   "execution_count": 36,
   "metadata": {
    "ExecuteTime": {
     "end_time": "2024-01-07T20:47:48.167468900Z",
     "start_time": "2024-01-07T20:47:48.081738Z"
    }
   },
   "outputs": [
    {
     "name": "stdout",
     "output_type": "stream",
     "text": [
      "I am already far north of London, and as I walk in the streets of Petersburgh, I feel a cold northern breeze play upon my cheeks, which braces my nerves and fills me with delight. \n",
      "\n",
      "Token: I Head: am Children: []\n",
      "Token: am Head: am Children: [I, already, north, ,, and, feel]\n",
      "Token: already Head: am Children: []\n",
      "Token: far Head: north Children: []\n",
      "Token: north Head: am Children: [far, of]\n",
      "Token: of Head: north Children: [London]\n",
      "Token: London Head: of Children: []\n",
      "Token: , Head: am Children: []\n",
      "Token: and Head: am Children: []\n",
      "Token: as Head: walk Children: []\n",
      "Token: I Head: walk Children: []\n",
      "Token: walk Head: feel Children: [as, I, in]\n",
      "Token: in Head: walk Children: [streets]\n",
      "Token: the Head: streets Children: []\n",
      "Token: streets Head: in Children: [the, of]\n",
      "Token: of Head: streets Children: [Petersburgh]\n",
      "Token: Petersburgh Head: of Children: []\n",
      "Token: , Head: feel Children: []\n",
      "Token: I Head: feel Children: []\n",
      "Token: feel Head: am Children: [walk, ,, I, play, .]\n",
      "Token: a Head: play Children: []\n",
      "Token: cold Head: breeze Children: []\n",
      "Token: northern Head: breeze Children: []\n",
      "Token: breeze Head: play Children: [cold, northern]\n",
      "Token: play Head: feel Children: [a, breeze, upon]\n",
      "Token: upon Head: play Children: [cheeks]\n",
      "Token: my Head: cheeks Children: []\n",
      "Token: cheeks Head: upon Children: [my, ,, braces]\n",
      "Token: , Head: cheeks Children: []\n",
      "Token: which Head: braces Children: []\n",
      "Token: braces Head: cheeks Children: [which, nerves, and, fills]\n",
      "Token: my Head: nerves Children: []\n",
      "Token: nerves Head: braces Children: [my]\n",
      "Token: and Head: braces Children: []\n",
      "Token: fills Head: braces Children: [me, with]\n",
      "Token: me Head: fills Children: []\n",
      "Token: with Head: fills Children: [delight]\n",
      "Token: delight Head: with Children: []\n",
      "Token: . Head: feel Children: []\n"
     ]
    }
   ],
   "source": [
    "print(example,'\\n')\n",
    "\n",
    "for token in doc:\n",
    "    print('Token:',token.text,'Head:',token.head.text, 'Children:',[child for child in token.children])"
   ]
  },
  {
   "cell_type": "markdown",
   "metadata": {},
   "source": [
    "### Counting word occurences"
   ]
  },
  {
   "cell_type": "code",
   "execution_count": 37,
   "metadata": {
    "ExecuteTime": {
     "end_time": "2024-01-07T20:48:40.410597Z",
     "start_time": "2024-01-07T20:48:40.305660800Z"
    }
   },
   "outputs": [
    {
     "name": "stdout",
     "output_type": "stream",
     "text": [
      "I am already far north of London, and as I walk in the streets of Petersburgh, I feel a cold northern breeze play upon my cheeks, which braces my nerves and fills me with delight. \n",
      "\n",
      "[('I', 3), (',', 3), ('of', 2), ('and', 2), ('my', 2), ('am', 1), ('already', 1), ('far', 1), ('north', 1), ('London', 1), ('as', 1), ('walk', 1), ('in', 1), ('the', 1), ('streets', 1), ('Petersburgh', 1), ('feel', 1), ('a', 1), ('cold', 1), ('northern', 1), ('breeze', 1), ('play', 1), ('upon', 1), ('cheeks', 1), ('which', 1), ('braces', 1), ('nerves', 1), ('fills', 1), ('me', 1), ('with', 1), ('delight', 1), ('.', 1)]\n"
     ]
    }
   ],
   "source": [
    "from collections import Counter\n",
    "\n",
    "print(example,'\\n')\n",
    "words = [token.text for token in doc]\n",
    "\n",
    "# five most common tokens\n",
    "word_freq = Counter(words)\n",
    "common_words = word_freq.most_common()\n",
    "\n",
    "print(common_words)"
   ]
  },
  {
   "cell_type": "markdown",
   "metadata": {},
   "source": [
    "### Without stop words and punctuation"
   ]
  },
  {
   "cell_type": "code",
   "execution_count": 38,
   "metadata": {
    "ExecuteTime": {
     "end_time": "2024-01-07T20:49:28.353431900Z",
     "start_time": "2024-01-07T20:49:28.241730600Z"
    }
   },
   "outputs": [
    {
     "name": "stdout",
     "output_type": "stream",
     "text": [
      "[('far', 1), ('north', 1), ('London', 1), ('walk', 1), ('streets', 1), ('Petersburgh', 1), ('feel', 1), ('cold', 1), ('northern', 1), ('breeze', 1), ('play', 1), ('cheeks', 1), ('braces', 1), ('nerves', 1), ('fills', 1), ('delight', 1)]\n"
     ]
    }
   ],
   "source": [
    "words = [token.text for token in doc if token.is_stop != True and token.is_punct != True]\n",
    "\n",
    "# five most common tokens\n",
    "word_freq = Counter(words)\n",
    "common_words = word_freq.most_common()\n",
    "\n",
    "print(common_words)"
   ]
  },
  {
   "cell_type": "markdown",
   "metadata": {},
   "source": [
    "## Putting all the components together"
   ]
  },
  {
   "cell_type": "markdown",
   "metadata": {},
   "source": [
    "### Under the hood: the pipeline [\"tokenizer\",\"tagger\", \"parser\", \"ner\"]."
   ]
  },
  {
   "cell_type": "markdown",
   "metadata": {},
   "source": [
    "#### The NLP pipeline with Spacy\n",
    "<img src=\"spacy.png\">"
   ]
  },
  {
   "cell_type": "code",
   "execution_count": 39,
   "metadata": {
    "ExecuteTime": {
     "end_time": "2024-01-07T20:50:10.950326100Z",
     "start_time": "2024-01-07T20:50:09.189450400Z"
    }
   },
   "outputs": [],
   "source": [
    "nlp = spacy.load('en_core_web_sm')"
   ]
  },
  {
   "cell_type": "markdown",
   "metadata": {},
   "source": [
    "### If you don't need a particular component of the pipeline – for example, the tagger or the parser, you can disable loading it. This can sometimes make a big difference and improve loading speed. "
   ]
  },
  {
   "cell_type": "code",
   "execution_count": 40,
   "metadata": {
    "ExecuteTime": {
     "end_time": "2024-01-07T20:50:54.182214900Z",
     "start_time": "2024-01-07T20:50:54.093085900Z"
    }
   },
   "outputs": [
    {
     "data": {
      "text/plain": "('tagger', <spacy.pipeline.tagger.Tagger at 0x213023504c0>)"
     },
     "execution_count": 40,
     "metadata": {},
     "output_type": "execute_result"
    }
   ],
   "source": [
    "nlp.remove_pipe('parser')\n",
    "nlp.remove_pipe('tagger')"
   ]
  },
  {
   "cell_type": "markdown",
   "metadata": {},
   "source": [
    "# Task 1: Sentiment analysis"
   ]
  },
  {
   "cell_type": "markdown",
   "metadata": {},
   "source": [
    "### Initialize the analyzer. Typically used for data from social media (short sentences)."
   ]
  },
  {
   "cell_type": "code",
   "execution_count": 41,
   "metadata": {
    "ExecuteTime": {
     "end_time": "2024-01-07T20:53:31.578398300Z",
     "start_time": "2024-01-07T20:53:31.443611700Z"
    }
   },
   "outputs": [],
   "source": [
    "analyzer = SentimentIntensityAnalyzer()\n",
    "vs = analyzer.polarity_scores(example)"
   ]
  },
  {
   "cell_type": "markdown",
   "metadata": {},
   "source": [
    "### The sentiment score consits of four values. Neutral, positive and negative sum to one. The final score is obtained by thresholding the compound value (e.g. +/-0.05)."
   ]
  },
  {
   "cell_type": "code",
   "execution_count": 42,
   "metadata": {
    "ExecuteTime": {
     "end_time": "2024-01-07T20:56:38.221565Z",
     "start_time": "2024-01-07T20:56:38.131719100Z"
    }
   },
   "outputs": [
    {
     "name": "stdout",
     "output_type": "stream",
     "text": [
      "I am already far north of London, and as I walk in the streets of Petersburgh, I feel a cold northern breeze play upon my cheeks, which braces my nerves and fills me with delight. \n",
      "\n",
      "Negative sentiment: 0.035\n",
      "Neutral sentiment: 0.806\n",
      "Positive sentiment: 0.159\n",
      "Compound sentiment: 0.7096\n"
     ]
    }
   ],
   "source": [
    "print(example, '\\n')\n",
    "print('Negative sentiment:',vs['neg'])\n",
    "print('Neutral sentiment:',vs['neu'])\n",
    "print('Positive sentiment:',vs['pos'])\n",
    "print('Compound sentiment:',vs['compound'])"
   ]
  },
  {
   "cell_type": "markdown",
   "metadata": {},
   "source": [
    "### We can now observe the distributions of sentiment across all sentences in the book Pride and Prejudice:"
   ]
  },
  {
   "cell_type": "code",
   "execution_count": 43,
   "metadata": {
    "ExecuteTime": {
     "end_time": "2024-01-07T20:57:07.193575900Z",
     "start_time": "2024-01-07T20:56:43.419007400Z"
    }
   },
   "outputs": [],
   "source": [
    "nlp = spacy.load('en_core_web_sm')\n",
    "doc = nlp(books[3])"
   ]
  },
  {
   "cell_type": "code",
   "execution_count": 44,
   "metadata": {
    "ExecuteTime": {
     "end_time": "2024-01-07T20:58:25.220815600Z",
     "start_time": "2024-01-07T20:58:23.323538700Z"
    }
   },
   "outputs": [
    {
     "data": {
      "text/plain": "Text(0, 0.5, 'Number of sentences')"
     },
     "execution_count": 44,
     "metadata": {},
     "output_type": "execute_result"
    },
    {
     "data": {
      "text/plain": "<Figure size 640x480 with 1 Axes>",
      "image/png": "[encoded data removed]"
     },
     "metadata": {},
     "output_type": "display_data"
    }
   ],
   "source": [
    "positive_sent = []\n",
    "#iterate through the sentences, get polarity scores, choose a value\n",
    "[positive_sent.append(analyzer.polarity_scores(sent.text)['pos']) for sent in doc.sents]\n",
    "plt.hist(positive_sent,bins=15)\n",
    "plt.xlim([0,1])\n",
    "plt.ylim([0,8000])\n",
    "plt.xlabel('Positive sentiment')\n",
    "plt.ylabel('Number of sentences')"
   ]
  },
  {
   "cell_type": "code",
   "execution_count": 45,
   "metadata": {
    "ExecuteTime": {
     "end_time": "2024-01-07T20:59:34.556421Z",
     "start_time": "2024-01-07T20:59:32.625582200Z"
    }
   },
   "outputs": [
    {
     "data": {
      "text/plain": "Text(0, 0.5, 'Number of sentences')"
     },
     "execution_count": 45,
     "metadata": {},
     "output_type": "execute_result"
    },
    {
     "data": {
      "text/plain": "<Figure size 640x480 with 1 Axes>",
      "image/png": "[encoded data removed]"
     },
     "metadata": {},
     "output_type": "display_data"
    }
   ],
   "source": [
    "negative_sent = []\n",
    "[negative_sent.append(analyzer.polarity_scores(sent.text)['neg']) for sent in doc.sents]\n",
    "plt.hist(negative_sent,bins=15)\n",
    "plt.xlim([0,1])\n",
    "plt.ylim([0,8000])\n",
    "plt.xlabel('Negative sentiment')\n",
    "plt.ylabel('Number of sentences')"
   ]
  },
  {
   "cell_type": "code",
   "execution_count": 46,
   "metadata": {
    "ExecuteTime": {
     "end_time": "2024-01-07T20:59:49.075489400Z",
     "start_time": "2024-01-07T20:59:47.497623Z"
    }
   },
   "outputs": [
    {
     "data": {
      "text/plain": "Text(0, 0.5, 'Number of sentences')"
     },
     "execution_count": 46,
     "metadata": {},
     "output_type": "execute_result"
    },
    {
     "data": {
      "text/plain": "<Figure size 640x480 with 1 Axes>",
      "image/png": "[encoded data removed]"
     },
     "metadata": {},
     "output_type": "display_data"
    }
   ],
   "source": [
    "total_sent = []\n",
    "[total_sent.append(analyzer.polarity_scores(sent.text)['compound']) for sent in doc.sents]\n",
    "plt.hist(total_sent,bins = 15)\n",
    "plt.xlim([-1,1])\n",
    "plt.ylim([0,8000])\n",
    "plt.xlabel('Compound sentiment')\n",
    "plt.ylabel('Number of sentences')"
   ]
  },
  {
   "cell_type": "code",
   "execution_count": 47,
   "metadata": {
    "ExecuteTime": {
     "end_time": "2024-01-07T21:02:00.300889600Z",
     "start_time": "2024-01-07T21:01:58.795913500Z"
    }
   },
   "outputs": [
    {
     "name": "stdout",
     "output_type": "stream",
     "text": [
      "Number of positive sentences: 2679\n",
      "Number of negative sentences: 1312\n",
      "Number of neutral sentences: 1653\n"
     ]
    }
   ],
   "source": [
    "sents = [analyzer.polarity_scores(sent.text)['compound'] for sent in doc.sents]\n",
    "print('Number of positive sentences:',sum(np.array(sents)>=0.05))\n",
    "print('Number of negative sentences:',sum(np.array(sents)<=-0.05))\n",
    "print('Number of neutral sentences:',sum(np.abs(np.array(sents))<0.05))"
   ]
  },
  {
   "cell_type": "markdown",
   "metadata": {},
   "source": [
    "#### Most of the sentences are quite neutral in sentiment. This is not the case when working with data from other sources (e.g., in social media opinions are strong and polarized (bimodal distribution))."
   ]
  },
  {
   "cell_type": "markdown",
   "metadata": {},
   "source": [
    "# Task 2: Document classification: Can we detect paragraphs from Frankenstein?"
   ]
  },
  {
   "cell_type": "code",
   "execution_count": 51,
   "metadata": {
    "ExecuteTime": {
     "end_time": "2024-01-07T22:51:36.932587700Z",
     "start_time": "2024-01-07T22:51:36.822879600Z"
    }
   },
   "outputs": [
    {
     "name": "stdout",
     "output_type": "stream",
     "text": [
      "['DRACULA.txt', 'Frankenstein.txt', 'Moby_Dick.txt', 'PRIDE_AND_PREJUDICE.txt']\n"
     ]
    }
   ],
   "source": [
    "# Let's load our corpus via NLTK this time\n",
    "from nltk.corpus import PlaintextCorpusReader\n",
    "# ?PlaintextCorpusReader\n",
    "our_books = PlaintextCorpusReader(corpus_root, '.*.txt')\n",
    "print(our_books.fileids())"
   ]
  },
  {
   "cell_type": "markdown",
   "metadata": {},
   "source": [
    "### We will segment the books into equally long chunks"
   ]
  },
  {
   "cell_type": "code",
   "execution_count": 55,
   "metadata": {
    "ExecuteTime": {
     "end_time": "2024-01-07T23:29:23.460326Z",
     "start_time": "2024-01-07T23:29:20.581391400Z"
    }
   },
   "outputs": [
    {
     "name": "stdout",
     "output_type": "stream",
     "text": [
      "DRACULA.txt :\n",
      "Number of sentences: 9303\n",
      "Number of chunks: 187 \n",
      "\n",
      "Frankenstein.txt :\n",
      "Number of sentences: 3378\n",
      "Number of chunks: 68 \n",
      "\n",
      "Moby_Dick.txt :\n",
      "Number of sentences: 9609\n",
      "Number of chunks: 193 \n",
      "\n",
      "PRIDE_AND_PREJUDICE.txt :\n",
      "Number of sentences: 6055\n",
      "Number of chunks: 122 \n",
      "\n"
     ]
    }
   ],
   "source": [
    "def get_chunks(l, n):\n",
    "    \"\"\"Yield successive n-sized chunks from l.\"\"\"\n",
    "    for i in range(0, len(l), n):\n",
    "        yield l[i:i + n]\n",
    "\n",
    "\n",
    "# Get the data\n",
    "book_id = {f:n for n,f in enumerate(our_books.fileids())} # dictionary of books\n",
    "\n",
    "chunks = list()\n",
    "chunk_class = list() # this list contains the original book of the chunk, for evaluation\n",
    "\n",
    "limit = 500 # how many chunks total\n",
    "size = 50 # how many sentences per chunk/page\n",
    "\n",
    "for f in our_books.fileids():\n",
    "    sentences = our_books.sents(f)\n",
    "    print(f,\":\")\n",
    "    print('Number of sentences:',len(sentences))\n",
    "    \n",
    "    # create chunks\n",
    "    chunks_of_sents = [x for x in get_chunks(sentences,size)] # this is a list of lists of sentences, which are a list of tokens\n",
    "    chs = list()\n",
    "    \n",
    "    # regroup so to have a list of chunks which are strings\n",
    "    for c in chunks_of_sents:\n",
    "        grouped_chunk = list()\n",
    "        for s in c:\n",
    "            grouped_chunk.extend(s)\n",
    "        chs.append(\" \".join(grouped_chunk))\n",
    "    print(\"Number of chunks:\",len(chs),'\\n')\n",
    "    \n",
    "    # filter to the limit, to have the same number of chunks per book\n",
    "    chunks.extend(chs[:limit])\n",
    "    chunk_class.extend([book_id[f] for _ in range(len(chs[:limit]))])"
   ]
  },
  {
   "cell_type": "markdown",
   "metadata": {},
   "source": [
    "### Representing the chunks with bag-of-words"
   ]
  },
  {
   "cell_type": "code",
   "execution_count": 56,
   "metadata": {
    "ExecuteTime": {
     "end_time": "2024-01-07T23:29:32.976837600Z",
     "start_time": "2024-01-07T23:29:31.444340300Z"
    }
   },
   "outputs": [
    {
     "name": "stdout",
     "output_type": "stream",
     "text": [
      "Number of samples: 570\n",
      "Number of features: 23116\n"
     ]
    }
   ],
   "source": [
    "vectorizer = CountVectorizer()\n",
    "\n",
    "#initialize and specify minumum number of occurences to avoid untractable number of features\n",
    "#vectorizer = CountVectorizer(min_df = 2) if we want high frequency\n",
    "\n",
    "#create bag of words features\n",
    "X = vectorizer.fit_transform(chunks)\n",
    "\n",
    "print('Number of samples:',X.toarray().shape[0])\n",
    "print('Number of features:',X.toarray().shape[1])\n",
    "\n",
    "#mask and convert to int Frankenstein\n",
    "Y = np.array(chunk_class) == 1\n",
    "Y = Y.astype(int)  \n",
    "\n",
    "#shuffle the data\n",
    "X, Y = shuffle(X, Y, random_state=0)\n",
    "\n",
    "#split into training and test set\n",
    "X_train, X_test, Y_train, Y_test = train_test_split(X, Y, test_size=0.2, random_state=42)"
   ]
  },
  {
   "cell_type": "markdown",
   "metadata": {},
   "source": [
    "### Let's fit the regularized logistic regression. We will crossvalidate the regularization parameter on the training set."
   ]
  },
  {
   "cell_type": "code",
   "execution_count": 57,
   "metadata": {
    "ExecuteTime": {
     "end_time": "2024-01-07T23:32:11.728937700Z",
     "start_time": "2024-01-07T23:31:52.436518700Z"
    }
   },
   "outputs": [],
   "source": [
    "accs = []\n",
    "\n",
    "#the grid of regularization parameter \n",
    "grid = [0.01,0.1,1,10,100,1000,10000]\n",
    "\n",
    "for c in grid:\n",
    "    \n",
    "    #initialize the classifier\n",
    "    clf = LogisticRegression(random_state=0, solver='lbfgs',C = c)\n",
    "    \n",
    "    #crossvalidate\n",
    "    scores = cross_val_score(clf, X_train,Y_train, cv=10)\n",
    "    accs.append(np.mean(scores))"
   ]
  },
  {
   "cell_type": "code",
   "execution_count": 58,
   "metadata": {
    "ExecuteTime": {
     "end_time": "2024-01-07T23:34:36.744453Z",
     "start_time": "2024-01-07T23:34:36.491589400Z"
    }
   },
   "outputs": [
    {
     "data": {
      "text/plain": "(0.986, 1.0)"
     },
     "execution_count": 58,
     "metadata": {},
     "output_type": "execute_result"
    },
    {
     "data": {
      "text/plain": "<Figure size 640x480 with 1 Axes>",
      "image/png": "[encoded data removed]"
     },
     "metadata": {},
     "output_type": "display_data"
    }
   ],
   "source": [
    "plt.plot(accs)\n",
    "plt.xticks(range(len(grid)), grid)\n",
    "plt.xlabel('Regularization parameter \\n (Low - strong regularization, High - weak regularization)')\n",
    "plt.ylabel('Crossvalidation accuracy')\n",
    "plt.ylim([0.986,1])"
   ]
  },
  {
   "cell_type": "markdown",
   "metadata": {},
   "source": [
    "### Let's train again, on the entire training set, with the chosen regularization parameter. We will test on the test set"
   ]
  },
  {
   "cell_type": "code",
   "execution_count": 59,
   "metadata": {
    "ExecuteTime": {
     "end_time": "2024-01-07T23:35:11.738196500Z",
     "start_time": "2024-01-07T23:35:11.289395900Z"
    }
   },
   "outputs": [
    {
     "name": "stdout",
     "output_type": "stream",
     "text": [
      "Accuracy: 0.9824561403508771\n"
     ]
    }
   ],
   "source": [
    "clf = LogisticRegression(random_state=0, solver='lbfgs',C = 10).fit(X_train,Y_train)\n",
    "\n",
    "#predict on the test set\n",
    "print('Accuracy:',clf.score(X_test,Y_test))"
   ]
  },
  {
   "cell_type": "markdown",
   "metadata": {},
   "source": [
    "### What features characterize Frankenstein? BOW are interpretable!"
   ]
  },
  {
   "cell_type": "code",
   "execution_count": 69,
   "metadata": {
    "ExecuteTime": {
     "end_time": "2024-01-07T23:55:44.192237500Z",
     "start_time": "2024-01-07T23:55:44.068567800Z"
    }
   },
   "outputs": [
    {
     "name": "stdout",
     "output_type": "stream",
     "text": [
      "['frankenstein' 'towards' 'creature' 'death' 'poor' 'will' 'who' 'this'\n",
      " 'my' 'of' 'had' 'justine' 'me' 'which' 'but' 'yet' 'misery' 'by' 'father'\n",
      " 'and']\n"
     ]
    }
   ],
   "source": [
    "coefs=clf.coef_[0]\n",
    "top_three = np.argpartition(coefs, -20)[-20:]\n",
    "\n",
    "print(np.array(vectorizer.get_feature_names_out())[top_three])"
   ]
  },
  {
   "cell_type": "markdown",
   "metadata": {},
   "source": [
    "### We can perfectly predict paragraphs from Frankenstein! We saw issues of high dimensionality when using bag of words (more features than samples) and how regularization helps."
   ]
  },
  {
   "cell_type": "markdown",
   "metadata": {},
   "source": [
    "### Alternative text representation: word emdeddings, pretrained on intergraded in Spacy (300-dimensional word vectors trained on Common Crawl with GloVe.) Depending on the application, might be suitable or not"
   ]
  },
  {
   "cell_type": "code",
   "execution_count": 72,
   "metadata": {
    "ExecuteTime": {
     "end_time": "2024-01-07T23:58:43.267081400Z",
     "start_time": "2024-01-07T23:58:43.162097400Z"
    }
   },
   "outputs": [
    {
     "name": "stdout",
     "output_type": "stream",
     "text": [
      "I am already far north of London, and as I walk in the streets of Petersburgh, I feel a cold northern breeze play upon my cheeks, which braces my nerves and fills me with delight. \n",
      "\n",
      "Embedding representation: [0.20092034, -0.076974384, -0.23990451, -0.042965, 0.06303602, 0.0937523, 0.36673704, -0.08795012, 0.37766436, -0.11488456] ...\n"
     ]
    }
   ],
   "source": [
    "print(example,'\\n')\n",
    "print('Embedding representation:',list(nlp(example).vector[0:10]),'...')"
   ]
  },
  {
   "cell_type": "markdown",
   "metadata": {},
   "source": [
    "# Task 3: Topic detection"
   ]
  },
  {
   "cell_type": "code",
   "execution_count": 78,
   "metadata": {
    "ExecuteTime": {
     "end_time": "2024-01-08T00:08:43.286663Z",
     "start_time": "2024-01-08T00:08:39.923821Z"
    }
   },
   "outputs": [
    {
     "name": "stdout",
     "output_type": "stream",
     "text": [
      "DRACULA.txt\n",
      "Number of sentences: 9303\n",
      "Number of chunks: 187 \n",
      "\n",
      "Frankenstein.txt\n",
      "Number of sentences: 3378\n",
      "Number of chunks: 68 \n",
      "\n",
      "Moby_Dick.txt\n",
      "Number of sentences: 9609\n",
      "Number of chunks: 193 \n",
      "\n",
      "PRIDE_AND_PREJUDICE.txt\n",
      "Number of sentences: 6055\n",
      "Number of chunks: 122 \n",
      "\n"
     ]
    }
   ],
   "source": [
    "# Get the chunks again (into smaller chunks)\n",
    "book_id = {f:n for n,f in enumerate(our_books.fileids())} # dictionary of books\n",
    "chunks = list()\n",
    "chunk_class = list() # this list contains the original book of the chunk, for evaluation\n",
    "\n",
    "limit = 60 # how many chunks total\n",
    "size = 50 # how many sentences per chunk/page\n",
    "\n",
    "for f in our_books.fileids():\n",
    "    sentences = our_books.sents(f)\n",
    "    print(f)\n",
    "    print('Number of sentences:',len(sentences))\n",
    "    \n",
    "    # create chunks\n",
    "    chunks_of_sents = [x for x in get_chunks(sentences,size)] # this is a list of lists of sentences, which are a list of tokens\n",
    "    chs = list()\n",
    "    \n",
    "    # regroup so to have a list of chunks which are strings\n",
    "    for c in chunks_of_sents:\n",
    "        grouped_chunk = list()\n",
    "        for s in c:\n",
    "            grouped_chunk.extend(s)\n",
    "        chs.append(\" \".join(grouped_chunk))\n",
    "    print(\"Number of chunks:\",len(chs),'\\n')\n",
    "    \n",
    "    # filter to the limit, to have the same number of chunks per book\n",
    "    chunks.extend(chs[:limit])\n",
    "    chunk_class.extend([book_id[f] for _ in range(len(chs[:limit]))])"
   ]
  },
  {
   "cell_type": "code",
   "execution_count": 88,
   "metadata": {
    "ExecuteTime": {
     "end_time": "2024-01-08T00:24:50.263284700Z",
     "start_time": "2024-01-08T00:24:32.810912100Z"
    }
   },
   "outputs": [],
   "source": [
    "STOPWORDS = spacy.lang.en.stop_words.STOP_WORDS\n",
    "\n",
    "processed_docs = list()\n",
    "for doc in nlp.pipe(chunks, n_process=5, batch_size=10):\n",
    "\n",
    "    # Process document using Spacy NLP pipeline.\n",
    "    ents = doc.ents  # Named entities\n",
    "\n",
    "    # Keep only words (no numbers, no punctuation).\n",
    "    # Lemmatize tokens, remove punctuation and remove stopwords.\n",
    "    doc = [token.lemma_ for token in doc if token.is_alpha and not token.is_stop]\n",
    "\n",
    "    # Remove common words from a stopword list and keep only words of length 3 or more.\n",
    "    doc = [token for token in doc if token not in STOPWORDS and len(token) > 2]\n",
    "\n",
    "    # Add named entities, but only if they are a compound of more than word.\n",
    "    doc.extend([str(entity) for entity in ents if len(entity) > 1])\n",
    "\n",
    "    processed_docs.append(doc)\n",
    "docs = processed_docs\n",
    "del processed_docs"
   ]
  },
  {
   "cell_type": "code",
   "execution_count": 80,
   "metadata": {
    "ExecuteTime": {
     "end_time": "2024-01-08T00:17:11.073658400Z",
     "start_time": "2024-01-08T00:17:10.730452700Z"
    }
   },
   "outputs": [],
   "source": [
    "# Add bigrams too\n",
    "from gensim.models.phrases import Phrases\n",
    "\n",
    "# Add bigrams to docs (only ones that appear 15 times or more).\n",
    "bigram = Phrases(docs, min_count=15)\n",
    "\n",
    "for idx in range(len(docs)):\n",
    "    for token in bigram[docs[idx]]:\n",
    "        if '_' in token:\n",
    "            # Token is a bigram, add to document.\n",
    "            docs[idx].append(token)"
   ]
  },
  {
   "cell_type": "code",
   "execution_count": 93,
   "outputs": [
    {
     "name": "stdout",
     "output_type": "stream",
     "text": [
      "264\n",
      "263\n"
     ]
    }
   ],
   "source": [
    "bigram = Phrases(docs, min_count=15)\n",
    "print(len(docs[1]))\n",
    "print(len(bigram[docs[1]]))"
   ],
   "metadata": {
    "collapsed": false,
    "ExecuteTime": {
     "end_time": "2024-01-08T00:32:42.637945200Z",
     "start_time": "2024-01-08T00:32:42.264957700Z"
    }
   }
  },
  {
   "cell_type": "code",
   "execution_count": 94,
   "metadata": {
    "ExecuteTime": {
     "end_time": "2024-01-08T00:35:00.911345Z",
     "start_time": "2024-01-08T00:35:00.641066500Z"
    }
   },
   "outputs": [
    {
     "name": "stdout",
     "output_type": "stream",
     "text": [
      "Number of unique tokens: 3065\n",
      "Number of chunks: 240\n"
     ]
    }
   ],
   "source": [
    "# Create a dictionary representation of the documents, and filter out frequent and rare words.\n",
    "from gensim.corpora import Dictionary\n",
    "dictionary = Dictionary(docs)\n",
    "\n",
    "# Remove rare and common tokens.\n",
    "# Filter out words that occur too frequently or too rarely.\n",
    "max_freq = 0.5\n",
    "min_wordcount = 5\n",
    "dictionary.filter_extremes(no_below=min_wordcount, no_above=max_freq)\n",
    "\n",
    "# Bag-of-words representation of the documents.\n",
    "corpus = [dictionary.doc2bow(doc) for doc in docs]\n",
    "#MmCorpus.serialize(\"models/corpus.mm\", corpus)\n",
    "\n",
    "print('Number of unique tokens: %d' % len(dictionary))\n",
    "print('Number of chunks: %d' % len(corpus))"
   ]
  },
  {
   "cell_type": "code",
   "execution_count": 95,
   "metadata": {
    "ExecuteTime": {
     "end_time": "2024-01-08T00:35:19.226466200Z",
     "start_time": "2024-01-08T00:35:08.469318900Z"
    }
   },
   "outputs": [],
   "source": [
    "# models\n",
    "from gensim.models import LdaMulticore\n",
    "params = {'passes': 10, 'random_state': seed}\n",
    "base_models = dict()\n",
    "model = LdaMulticore(corpus=corpus, num_topics=4, id2word=dictionary, workers=6,\n",
    "                passes=params['passes'], random_state=params['random_state'])"
   ]
  },
  {
   "cell_type": "code",
   "execution_count": 96,
   "metadata": {
    "ExecuteTime": {
     "end_time": "2024-01-08T00:35:31.259053200Z",
     "start_time": "2024-01-08T00:35:31.160971Z"
    }
   },
   "outputs": [
    {
     "data": {
      "text/plain": "[(0,\n  '0.005*\"life\" + 0.005*\"dear\" + 0.005*\"father\" + 0.004*\"room\" + 0.004*\"love\"'),\n (1,\n  '0.031*\"whale\" + 0.009*\"ship\" + 0.008*\"sea\" + 0.007*\"Whale\" + 0.007*\"old\"'),\n (2,\n  '0.016*\"Elizabeth\" + 0.012*\"Darcy\" + 0.010*\"Bingley\" + 0.010*\"Miss\" + 0.009*\"Mrs\"'),\n (3,\n  '0.010*\"Queequeg\" + 0.009*\"ship\" + 0.009*\"sea\" + 0.008*\"old\" + 0.007*\"Captain\"')]"
     },
     "execution_count": 96,
     "metadata": {},
     "output_type": "execute_result"
    }
   ],
   "source": [
    "model.show_topics(num_words=5)"
   ]
  },
  {
   "cell_type": "code",
   "execution_count": 100,
   "metadata": {
    "ExecuteTime": {
     "end_time": "2024-01-08T00:37:03.421831Z",
     "start_time": "2024-01-08T00:37:03.333066300Z"
    }
   },
   "outputs": [
    {
     "data": {
      "text/plain": "[('Queequeg', 0.009705903),\n ('ship', 0.008970241),\n ('sea', 0.008781959),\n ('old', 0.008437475),\n ('Captain', 0.0066051045),\n ('Ahab', 0.006247839),\n ('head', 0.005663471),\n ('sort', 0.004978012),\n ('bed', 0.004786155),\n ('stand', 0.004551103),\n ('run', 0.0042149373),\n ('round', 0.0041900272),\n ('sail', 0.004134445),\n ('sleep', 0.004116505),\n ('don', 0.003913698),\n ('thou', 0.003706955),\n ('room', 0.0035866606),\n ('light', 0.0035743816),\n ('Jonah', 0.0034946338),\n ('white', 0.0034869842)]"
     },
     "execution_count": 100,
     "metadata": {},
     "output_type": "execute_result"
    }
   ],
   "source": [
    "model.show_topic(3,20)"
   ]
  },
  {
   "cell_type": "code",
   "execution_count": 102,
   "metadata": {
    "ExecuteTime": {
     "end_time": "2024-01-08T00:46:54.783373700Z",
     "start_time": "2024-01-08T00:46:54.646739600Z"
    }
   },
   "outputs": [
    {
     "data": {
      "text/plain": "[(0, 0.5194931), (3, 0.47865203)]"
     },
     "execution_count": 102,
     "metadata": {},
     "output_type": "execute_result"
    }
   ],
   "source": [
    "sorted(model[corpus[0]],key=lambda x:x[1],reverse=True)"
   ]
  },
  {
   "cell_type": "code",
   "execution_count": 101,
   "metadata": {
    "ExecuteTime": {
     "end_time": "2024-01-08T00:45:37.242981Z",
     "start_time": "2024-01-08T00:45:31.843304100Z"
    }
   },
   "outputs": [
    {
     "data": {
      "text/plain": "<IPython.core.display.HTML object>",
      "text/html": "\n<link rel=\"stylesheet\" type=\"text/css\" href=\"https://cdn.jsdelivr.net/gh/bmabey/pyLDAvis@3.4.0/pyLDAvis/js/ldavis.v1.0.0.css\">\n\n\n<div id=\"ldavis_el1691622807599834566394267984\" style=\"background-color:white;\"></div>\n<script type=\"text/javascript\">\n\nvar ldavis_el1691622807599834566394267984_data = {\"mdsDat\": {\"x\": [0.037229172649212335, 0.18162457842172947, -0.1071471823626505, -0.11170656870829147], \"y\": [0.10340611264174927, -0.0524509029744148, -0.0033738114166706446, -0.047581398250663806], \"topics\": [1, 2, 3, 4], \"cluster\": [1, 1, 1, 1], \"Freq\": [40.52781314218639, 27.318337001290534, 21.232118014861907, 10.921731841661172]}, \"tinfo\": {\"Term\": [\"whale\", \"Elizabeth\", \"Darcy\", \"Bingley\", \"ship\", \"Miss\", \"sea\", \"Bennet\", \"Queequeg\", \"Collins\", \"Jane\", \"Mrs\", \"old\", \"sister\", \"Captain\", \"Ahab\", \"Whale\", \"head\", \"Lady\", \"Catherine\", \"Wickham\", \"Charlotte\", \"Bildad\", \"sail\", \"harpooneer\", \"sort\", \"bed\", \"Peleg\", \"lady\", \"don\", \"Count\", \"Clerval\", \"Felix\", \"Justine\", \"Geneva\", \"Agatha\", \"Safie\", \"labour\", \"Helsing\", \"Victor\", \"wretch\", \"Van Helsing\", \"horrible\", \"Hawkins\", \"victim\", \"creator\", \"sensation\", \"September\", \"inhabit\", \"abhor\", \"Westenra\", \"Arabian\", \"Ingolstadt\", \"hovel\", \"protector\", \"Holmwood\", \"thirst\", \"Mont\", \"Ernest\", \"precipice\", \"forever\", \"lake\", \"cottage\", \"weep\", \"fiend\", \"horror\", \"despair\", \"mountain\", \"Arthur\", \"gentle\", \"Van\", \"Jonathan\", \"tale\", \"existence\", \"Lucy\", \"miserable\", \"murder\", \"misery\", \"human\", \"scene\", \"window\", \"life\", \"cause\", \"death\", \"father\", \"fear\", \"destroy\", \"heart\", \"appear\", \"mind\", \"dear\", \"door\", \"remain\", \"love\", \"feeling\", \"pass\", \"letter\", \"sleep\", \"creature\", \"return\", \"room\", \"work\", \"happy\", \"write\", \"fall\", \"word\", \"enter\", \"ask\", \"spirit\", \"old\", \"wish\", \"open\", \"hope\", \"Collins\", \"Bennet\", \"Darcy\", \"Bingley\", \"Jane\", \"Wickham\", \"Catherine\", \"Charlotte\", \"Lady Catherine\", \"Lucas\", \"Netherfield\", \"Longbourn\", \"Lady\", \"Lizzy\", \"Lydia\", \"Bourgh\", \"Miss Bingley\", \"Hurst\", \"Meryton\", \"Colonel\", \"Fitzwilliam\", \"Hertfordshire\", \"behaviour\", \"ladyship\", \"Rosings\", \"Phillips\", \"Miss\", \"Eliza\", \"Hunsford\", \"Miss Bennet\", \"Mrs\", \"sister\", \"dance\", \"Elizabeth\", \"lady\", \"compliment\", \"daughter\", \"gentleman\", \"family\", \"marry\", \"young\", \"cousin\", \"wish\", \"reply\", \"manner\", \"hope\", \"attention\", \"girl\", \"believe\", \"mother\", \"dear\", \"room\", \"walk\", \"father\", \"mean\", \"answer\", \"tomahawk\", \"aboard\", \"pier\", \"landlord\", \"schooner\", \"chap\", \"doesn\", \"ain\", \"commander\", \"Pier\", \"wharf\", \"pitch\", \"Queequeg\", \"square\", \"didn\", \"crazy\", \"tombstone\", \"bulwark\", \"forecastle\", \"bedfellow\", \"hammock\", \"shirt\", \"shout\", \"Ahab\", \"wasn\", \"brown\", \"crow\", \"chest\", \"afore\", \"sand\", \"hole\", \"Jonah\", \"cannibal\", \"passenger\", \"queer\", \"fog\", \"Captain\", \"harbour\", \"don\", \"leg\", \"Flask\", \"thou\", \"sail\", \"deck\", \"ship\", \"dog\", \"sea\", \"Peleg\", \"aye\", \"harpooneer\", \"bed\", \"mate\", \"Pequod\", \"board\", \"sailor\", \"shipmate\", \"old\", \"run\", \"Bildad\", \"sort\", \"head\", \"white\", \"round\", \"stand\", \"sleep\", \"lie\", \"hold\", \"light\", \"land\", \"face\", \"cry\", \"strange\", \"sit\", \"room\", \"whale\", \"morning\", \"Whale\", \"Sperm\", \"horn\", \"Leviathan\", \"Folio\", \"leviathan\", \"oil\", \"bold\", \"sperm\", \"Thomas\", \"Ocean\", \"naturalist\", \"pulpit\", \"Inn\", \"peril\", \"department\", \"famous\", \"fin\", \"whale\", \"battle\", \"fishery\", \"Greenland\", \"pilot\", \"Black\", \"scientific\", \"tis\", \"royal\", \"strand\", \"tail\", \"spout\", \"whaleman\", \"fish\", \"Starbuck\", \"Nantucket\", \"whaling\", \"mast\", \"ship\", \"hunt\", \"american\", \"sea\", \"jaw\", \"Bildad\", \"large\", \"voyage\", \"old\", \"chapter\", \"head\", \"year\", \"God\", \"boat\", \"world\", \"foot\", \"harpooneer\", \"stand\", \"sort\", \"round\", \"water\", \"life\", \"present\", \"small\", \"live\"], \"Freq\": [300.0, 390.0, 233.0, 209.0, 209.0, 196.0, 218.0, 171.0, 165.0, 147.0, 144.0, 195.0, 282.0, 180.0, 124.0, 108.0, 57.0, 184.0, 90.0, 79.0, 78.0, 74.0, 73.0, 86.0, 74.0, 149.0, 113.0, 69.0, 127.0, 75.0, 88.11112909477623, 51.099403256333126, 46.307258278694405, 51.878943449869055, 34.64618949778466, 25.16597631701342, 23.27789273389139, 34.36298028725171, 25.002299628343337, 23.15886010539153, 20.335250832146922, 23.07173875833103, 18.44486739833091, 15.613387790330115, 16.522043785660745, 17.434395238412126, 43.941721938035954, 16.46238245115192, 14.6068209406773, 15.518049766012775, 20.034748382271083, 12.735566532069699, 15.437495277499115, 13.618360296877524, 13.610670810914778, 13.6107851210012, 13.593522591830784, 11.773231714439778, 12.67069299884417, 11.74466954792051, 29.74378135200741, 31.510769606711904, 52.76879117068154, 27.889364648517702, 29.60768751657889, 54.73661030438465, 41.61438905193216, 58.77630146060738, 39.74584566910552, 34.4178184185618, 25.873125809551055, 33.49287920733846, 29.84238830357228, 29.876906537430344, 88.89505060625144, 55.33469432551015, 40.381802157371254, 49.421355073347726, 55.96055057927411, 57.68704576545413, 77.88119529793897, 137.72060103571934, 67.08393542382719, 74.61486135386123, 133.12386147327592, 100.2565860138389, 39.12836646794352, 103.56555932627273, 88.3758234835502, 105.84948167746725, 134.71427988523436, 102.19172952403224, 76.79607523934523, 106.35515537738436, 98.03379737931114, 101.23971417741312, 85.0838704311484, 92.75693668834647, 62.70295870868636, 85.00858956169638, 110.55578148632374, 71.10819642450365, 72.34237683579168, 74.26367347044173, 67.5382890133029, 81.9598201283729, 71.84283834588612, 74.96740048486947, 65.75543383615475, 91.71966990294624, 80.08946825761181, 72.10405224844665, 74.28241350013217, 146.3411530345184, 170.2288123666666, 231.3476951895965, 207.20267655495906, 143.15114156087975, 77.15350912218103, 79.05174673440676, 73.2534801984779, 60.79563574848994, 58.787335242199276, 49.18215116929172, 40.57348112098533, 88.68874075935223, 36.73685359481835, 36.7269126972979, 31.015735967874004, 34.68113946948867, 29.98234263951464, 29.973652979442388, 29.93246794681832, 28.958510697317358, 24.257680606490002, 23.257012657566317, 21.394617018052585, 21.378668340725696, 20.431345888375787, 189.13692386626292, 19.40122095783608, 17.53902887441457, 18.446837294151653, 179.59482148132295, 158.97902847264172, 60.809900775426975, 321.783973050869, 100.57838540372646, 30.221450895769546, 71.95101101696545, 45.172459563501555, 78.87338099611058, 43.63153764535319, 120.32408997158932, 54.00706077368649, 100.0875415132927, 69.4374773895867, 83.68376336572072, 89.11779560050569, 58.740381636927985, 65.78844117782755, 71.69913507858745, 66.19221826244474, 91.01750525678811, 90.17340759384598, 68.11535181977953, 69.11117122359143, 65.19785250213884, 63.620198484637946, 16.985510507254542, 14.102036685514463, 15.900810303871728, 26.04163760700311, 11.084686556078095, 10.050054554403888, 8.154044977404906, 13.473828949369976, 8.065988546604297, 8.973564978357821, 14.264417795779469, 11.598720451147667, 149.04098064704067, 8.876778611001798, 15.056746015234609, 6.189365917889016, 7.918401045423824, 13.140836437470838, 6.14731215010322, 6.141773596620512, 7.005871065150786, 6.999463272055081, 15.771583646012774, 95.93997019808938, 6.087266686512786, 8.679778971738363, 12.170091983167495, 14.6741840529935, 5.191808214711141, 13.861472276341043, 13.798591169899986, 53.66256515971709, 17.917481958810143, 17.958082822749226, 22.88147744243405, 12.005520120931841, 101.42603501546753, 23.63014793473525, 60.09758757734532, 30.63297286250702, 31.209111134738787, 56.922904631046734, 63.487316381710855, 51.829598470516444, 137.74437302640416, 31.3756833653589, 134.85317392139916, 50.30056621628072, 31.00117293055622, 52.02076861799997, 73.49478579254496, 46.73526978030259, 33.8318354180712, 31.98058832931785, 33.98996284060536, 25.550235225559323, 129.56337759880793, 64.7233331018684, 45.7414531592843, 76.44087972538729, 86.96658577130157, 53.54509938085845, 64.34082119352789, 69.88539187014338, 63.21183401395509, 51.58237868020331, 46.56142185770325, 54.88714813886749, 41.341586587028175, 49.23768236299973, 48.44807850584836, 44.87508091973595, 49.62547495785293, 55.075701182405666, 53.08638040886334, 46.98884641599118, 56.31193059086998, 11.441916880998189, 13.85257285548443, 13.821240830914684, 10.565847800030326, 9.65181117988305, 25.588872650157967, 8.75621992940808, 15.559774164877837, 6.2043017938440235, 5.394933611951414, 5.374062454094474, 14.511284694307486, 6.083120432418187, 7.568592471644107, 4.530959448342337, 12.039413890613133, 9.714188327614805, 244.64826038660127, 6.48946937912957, 11.312060889989436, 17.539941933503798, 12.874892859277026, 5.360044745570388, 6.000819269297335, 5.999127286636332, 6.665893054881339, 5.320482236866239, 12.598975545501453, 9.641581121674543, 23.884205636532887, 34.66686722123375, 18.00172446214627, 31.803381513315646, 21.918471215649912, 29.084036176110647, 69.5619093389732, 9.964533714314392, 10.303450715094275, 61.56754874135952, 14.679803408675935, 26.953370228011703, 24.902302868554983, 25.642254703112588, 54.419234647594664, 32.30658819136727, 40.86429073773848, 32.026807823701006, 30.53837803326361, 23.763234393605984, 34.095403755703394, 24.328814541166185, 21.51437426107809, 25.317171499697988, 25.321750887552223, 22.918188366461077, 21.235969548879687, 25.011145170558724, 21.77223609683802, 20.4376443125175, 20.189518733504684], \"Total\": [300.0, 390.0, 233.0, 209.0, 209.0, 196.0, 218.0, 171.0, 165.0, 147.0, 144.0, 195.0, 282.0, 180.0, 124.0, 108.0, 57.0, 184.0, 90.0, 79.0, 78.0, 74.0, 73.0, 86.0, 74.0, 149.0, 113.0, 69.0, 127.0, 75.0, 89.7059016263445, 52.06602162890198, 47.24610597849565, 53.036906362525876, 35.65749064047439, 26.025821341721517, 24.094957896831378, 35.6418572416223, 26.007971934444058, 24.095303590947836, 21.198964370140175, 24.077124723422553, 19.272238922750045, 16.379013623407992, 17.34185990758339, 18.304371018411853, 46.26424011924315, 17.344755524246978, 15.412370385039793, 16.37512766920436, 21.209364672475463, 13.48537533097723, 16.36601862903248, 14.448966320155183, 14.444146198654128, 14.449509451596139, 14.444567987023282, 12.520228109129615, 13.484345645477156, 12.519275643716737, 31.788322553571128, 33.766058651665226, 56.85610239298932, 29.909826255328333, 31.812019352095252, 59.711368592797754, 45.161771010173695, 64.72101356823669, 43.44268197878462, 37.594777285229526, 27.94594704237599, 36.70953232444272, 32.57952406565522, 32.670497965466986, 105.56680641892667, 63.679244445348466, 45.42726964103285, 56.828477440571085, 68.0467372840395, 71.28425446857317, 103.9181308222084, 212.83003608885724, 87.63107242072087, 102.38114422278011, 212.10052383839897, 150.37296016000678, 45.7878121847359, 161.45525172852857, 132.34110185783007, 171.99208267514894, 238.4601889747144, 166.71705050399237, 114.03632222050813, 183.33795586005104, 163.03852897483702, 181.9957554548608, 141.4431471299257, 165.36603400021505, 88.6734052536079, 156.41168376611122, 258.94387189782645, 113.43796338427944, 118.53708202751707, 129.04364277582278, 104.3614447388694, 170.1701824437258, 122.65556509534949, 140.37765971258722, 99.87447888531061, 282.80044006463925, 188.95979422842555, 142.4353111348686, 172.32163011579033, 147.48592227002067, 171.59437960581852, 233.30289745149628, 209.20632632393932, 144.59922297072472, 78.07229368865814, 79.99853007471197, 74.2165523402358, 61.68395196637051, 59.75711259925942, 50.11743907093411, 41.43893115844566, 90.63477143651993, 37.58272854404166, 37.581989817564, 31.7959444736739, 35.65767845670944, 30.834630492012394, 30.834106883969493, 30.83590962841474, 29.87052294154227, 25.048166966560476, 24.083531907815726, 22.15576598574584, 22.156087095175643, 21.192156136028558, 196.68733067667753, 20.230159710557505, 18.299506979354422, 19.265614900134555, 195.1693429465234, 180.30267864854483, 66.53981617304548, 390.3805671421046, 127.1138356690515, 32.79098318995463, 88.70412405012794, 54.590479322787374, 114.61644504385431, 53.0514030021488, 223.37614972053328, 72.26361610174958, 188.95979422842555, 110.95131378092033, 154.84883862819515, 172.32163011579033, 86.82864666207136, 112.24166147803788, 134.90399815825356, 116.61271875531776, 238.4601889747144, 258.94387189782645, 136.39244575283848, 212.10052383839897, 160.3910561281979, 136.20379866879065, 17.882507405636186, 14.897805541039876, 16.88463830628283, 27.73996907243149, 11.898777349328979, 10.899459251000142, 8.917746254607499, 14.814834774846187, 8.9046364813035, 9.907105559103993, 15.785096102354645, 12.843222591457037, 165.2377156718423, 9.889574522622004, 16.841033132631683, 6.926101820229753, 8.896215937391185, 14.771766262283588, 6.918506721809006, 6.922978349501435, 7.89840982075004, 7.901027937624848, 17.83059650192277, 108.84626348468612, 6.911021355633035, 9.862791933842125, 13.84621348783941, 16.710770545837267, 5.9294268314405, 15.836278269376965, 15.811122622141792, 62.5974935876238, 20.608418585418093, 20.65887972105457, 26.458215094031765, 13.764926747508683, 124.80425968748578, 27.737979920973068, 75.09993329579835, 37.87930445222832, 38.828391770965176, 75.7738571053893, 86.99911296780957, 69.5009566353009, 209.06637470558513, 40.51893469626036, 218.52753150974593, 69.99747910077036, 40.13703931193561, 74.56920075859945, 113.01298765268646, 68.10720924623647, 46.11783786901603, 43.454283672592275, 47.07007702229549, 32.89085528987768, 282.80044006463925, 117.76992161480966, 73.7704536022746, 149.20039444974103, 184.50332850387122, 93.86663665311032, 123.03853931031661, 142.24158713728568, 165.36603400021505, 112.91458267423297, 93.49080341318276, 143.2632266072824, 78.08038163267068, 126.63610905456933, 127.54708632950914, 104.181656692585, 150.79324978867592, 258.94387189782645, 300.0270767638965, 146.98899885307367, 57.52183459289982, 12.261424578680334, 14.891730261053178, 14.893134166882279, 11.39225035547015, 10.528221943063214, 28.11573376591687, 9.658953172603704, 17.635377440419735, 7.0452851267547505, 6.168258996184843, 6.171724896392872, 16.78782227215374, 7.0569041215215, 8.84047252723294, 5.29758296123863, 14.164259178378117, 11.516179988683131, 300.0270767638965, 7.978430513581551, 14.270790842785438, 22.330155339697598, 17.033178677113007, 7.134364273057399, 8.032880027211068, 8.036899657386662, 8.96877172510685, 7.171449202762129, 17.069903019183982, 13.482853783966426, 34.3580381911983, 52.37457282289055, 26.24778481576286, 49.145275559722556, 36.640844645537896, 51.541013799662736, 209.06637470558513, 14.400438802845866, 15.379568657360053, 218.52753150974593, 26.663703454981935, 73.7704536022746, 65.18019353258306, 70.66769350521058, 282.80044006463925, 116.82746622279814, 184.50332850387122, 125.21854406526768, 116.62547746128305, 69.68075646285811, 155.71558461394503, 95.90220053920073, 74.56920075859945, 142.24158713728568, 149.20039444974103, 123.03853931031661, 95.47687444072042, 212.83003608885724, 125.25823292820482, 93.31872106479321, 116.89275397583387], \"Category\": [\"Default\", \"Default\", \"Default\", \"Default\", \"Default\", \"Default\", \"Default\", \"Default\", \"Default\", \"Default\", \"Default\", \"Default\", \"Default\", \"Default\", \"Default\", \"Default\", \"Default\", \"Default\", \"Default\", \"Default\", \"Default\", \"Default\", \"Default\", \"Default\", \"Default\", \"Default\", \"Default\", \"Default\", \"Default\", \"Default\", \"Topic1\", \"Topic1\", \"Topic1\", \"Topic1\", \"Topic1\", \"Topic1\", \"Topic1\", \"Topic1\", \"Topic1\", \"Topic1\", \"Topic1\", \"Topic1\", \"Topic1\", \"Topic1\", \"Topic1\", \"Topic1\", \"Topic1\", \"Topic1\", \"Topic1\", \"Topic1\", \"Topic1\", \"Topic1\", \"Topic1\", \"Topic1\", \"Topic1\", \"Topic1\", \"Topic1\", \"Topic1\", \"Topic1\", \"Topic1\", \"Topic1\", \"Topic1\", \"Topic1\", \"Topic1\", \"Topic1\", \"Topic1\", \"Topic1\", \"Topic1\", \"Topic1\", \"Topic1\", \"Topic1\", \"Topic1\", \"Topic1\", \"Topic1\", \"Topic1\", \"Topic1\", \"Topic1\", \"Topic1\", \"Topic1\", \"Topic1\", \"Topic1\", \"Topic1\", \"Topic1\", \"Topic1\", \"Topic1\", \"Topic1\", \"Topic1\", \"Topic1\", \"Topic1\", \"Topic1\", \"Topic1\", \"Topic1\", \"Topic1\", \"Topic1\", \"Topic1\", \"Topic1\", \"Topic1\", \"Topic1\", \"Topic1\", \"Topic1\", \"Topic1\", \"Topic1\", \"Topic1\", \"Topic1\", \"Topic1\", \"Topic1\", \"Topic1\", \"Topic1\", \"Topic1\", \"Topic1\", \"Topic1\", \"Topic1\", \"Topic1\", \"Topic2\", \"Topic2\", \"Topic2\", \"Topic2\", \"Topic2\", \"Topic2\", \"Topic2\", \"Topic2\", \"Topic2\", \"Topic2\", \"Topic2\", \"Topic2\", \"Topic2\", \"Topic2\", \"Topic2\", \"Topic2\", \"Topic2\", \"Topic2\", \"Topic2\", \"Topic2\", \"Topic2\", \"Topic2\", \"Topic2\", \"Topic2\", \"Topic2\", \"Topic2\", \"Topic2\", \"Topic2\", \"Topic2\", \"Topic2\", \"Topic2\", \"Topic2\", \"Topic2\", \"Topic2\", \"Topic2\", \"Topic2\", \"Topic2\", \"Topic2\", \"Topic2\", \"Topic2\", \"Topic2\", \"Topic2\", \"Topic2\", \"Topic2\", \"Topic2\", \"Topic2\", \"Topic2\", \"Topic2\", \"Topic2\", \"Topic2\", \"Topic2\", \"Topic2\", \"Topic2\", \"Topic2\", \"Topic2\", \"Topic2\", \"Topic3\", \"Topic3\", \"Topic3\", \"Topic3\", \"Topic3\", \"Topic3\", \"Topic3\", \"Topic3\", \"Topic3\", \"Topic3\", \"Topic3\", \"Topic3\", \"Topic3\", \"Topic3\", \"Topic3\", \"Topic3\", \"Topic3\", \"Topic3\", \"Topic3\", \"Topic3\", \"Topic3\", \"Topic3\", \"Topic3\", \"Topic3\", \"Topic3\", \"Topic3\", \"Topic3\", \"Topic3\", \"Topic3\", \"Topic3\", \"Topic3\", \"Topic3\", \"Topic3\", \"Topic3\", \"Topic3\", \"Topic3\", \"Topic3\", \"Topic3\", \"Topic3\", \"Topic3\", \"Topic3\", \"Topic3\", \"Topic3\", \"Topic3\", \"Topic3\", \"Topic3\", \"Topic3\", \"Topic3\", \"Topic3\", \"Topic3\", \"Topic3\", \"Topic3\", \"Topic3\", \"Topic3\", \"Topic3\", \"Topic3\", \"Topic3\", \"Topic3\", \"Topic3\", \"Topic3\", \"Topic3\", \"Topic3\", \"Topic3\", \"Topic3\", \"Topic3\", \"Topic3\", \"Topic3\", \"Topic3\", \"Topic3\", \"Topic3\", \"Topic3\", \"Topic3\", \"Topic3\", \"Topic3\", \"Topic3\", \"Topic3\", \"Topic4\", \"Topic4\", \"Topic4\", \"Topic4\", \"Topic4\", \"Topic4\", \"Topic4\", \"Topic4\", \"Topic4\", \"Topic4\", \"Topic4\", \"Topic4\", \"Topic4\", \"Topic4\", \"Topic4\", \"Topic4\", \"Topic4\", \"Topic4\", \"Topic4\", \"Topic4\", \"Topic4\", \"Topic4\", \"Topic4\", \"Topic4\", \"Topic4\", \"Topic4\", \"Topic4\", \"Topic4\", \"Topic4\", \"Topic4\", \"Topic4\", \"Topic4\", \"Topic4\", \"Topic4\", \"Topic4\", \"Topic4\", \"Topic4\", \"Topic4\", \"Topic4\", \"Topic4\", \"Topic4\", \"Topic4\", \"Topic4\", \"Topic4\", \"Topic4\", \"Topic4\", \"Topic4\", \"Topic4\", \"Topic4\", \"Topic4\", \"Topic4\", \"Topic4\", \"Topic4\", \"Topic4\", \"Topic4\", \"Topic4\", \"Topic4\", \"Topic4\", \"Topic4\", \"Topic4\", \"Topic4\"], \"logprob\": [30.0, 29.0, 28.0, 27.0, 26.0, 25.0, 24.0, 23.0, 22.0, 21.0, 20.0, 19.0, 18.0, 17.0, 16.0, 15.0, 14.0, 13.0, 12.0, 11.0, 10.0, 9.0, 8.0, 7.0, 6.0, 5.0, 4.0, 3.0, 2.0, 1.0, -5.8071, -6.3519, -6.4504, -6.3368, -6.7405, -7.0602, -7.1382, -6.7487, -7.0667, -7.1433, -7.2734, -7.1471, -7.3709, -7.5376, -7.481, -7.4273, -6.5029, -7.4846, -7.6042, -7.5437, -7.2882, -7.7413, -7.5489, -7.6743, -7.6749, -7.6749, -7.6761, -7.8199, -7.7464, -7.8223, -6.8931, -6.8354, -6.3198, -6.9575, -6.8977, -6.2832, -6.5573, -6.212, -6.6032, -6.7471, -7.0325, -6.7744, -6.8898, -6.8886, -5.7983, -6.2723, -6.5873, -6.3853, -6.2611, -6.2307, -5.9305, -5.3605, -6.0798, -5.9734, -5.3944, -5.678, -6.6189, -5.6455, -5.8041, -5.6237, -5.3826, -5.6589, -5.9446, -5.6189, -5.7004, -5.6682, -5.8421, -5.7557, -6.1473, -5.843, -5.5802, -6.0215, -6.0043, -5.9781, -6.073, -5.8795, -6.0112, -5.9687, -6.0998, -5.767, -5.9026, -6.0076, -5.9778, -4.9053, -4.7541, -4.4474, -4.5576, -4.9274, -5.5455, -5.5212, -5.5974, -5.7838, -5.8174, -5.9958, -6.1882, -5.4062, -6.2875, -6.2878, -6.4568, -6.3451, -6.4907, -6.491, -6.4923, -6.5254, -6.7026, -6.7447, -6.8281, -6.8289, -6.8742, -4.6488, -6.9259, -7.0269, -6.9764, -4.7006, -4.8225, -5.7835, -4.1174, -5.2803, -6.4827, -5.6153, -6.0808, -5.5234, -6.1155, -5.1011, -5.9022, -5.2852, -5.6509, -5.4642, -5.4013, -5.8182, -5.7048, -5.6188, -5.6987, -5.3802, -5.3896, -5.6701, -5.6556, -5.7139, -5.7384, -6.8069, -6.9929, -6.8729, -6.3795, -7.2337, -7.3317, -7.5407, -7.0385, -7.5516, -7.445, -6.9815, -7.1883, -4.635, -7.4558, -6.9274, -7.8164, -7.5701, -7.0635, -7.8232, -7.8241, -7.6925, -7.6934, -6.881, -5.0755, -7.833, -7.4782, -7.1403, -6.9532, -7.9922, -7.0101, -7.0147, -5.6565, -6.7535, -6.7512, -6.5089, -7.1539, -5.0199, -6.4767, -5.5433, -6.2172, -6.1985, -5.5975, -5.4884, -5.6913, -4.7138, -6.1932, -4.7351, -5.7212, -6.2052, -5.6876, -5.342, -5.7947, -6.1178, -6.1741, -6.1132, -6.3986, -4.7751, -5.4691, -5.8162, -5.3027, -5.1737, -5.6587, -5.475, -5.3924, -5.4928, -5.6961, -5.7985, -5.634, -5.9174, -5.7426, -5.7587, -5.8354, -5.7347, -5.6305, -5.6673, -5.7893, -4.9436, -6.5372, -6.346, -6.3483, -6.6169, -6.7073, -5.7323, -6.8047, -6.2298, -7.1492, -7.289, -7.2929, -6.2996, -7.169, -6.9505, -7.4635, -6.4863, -6.7009, -3.4747, -7.1043, -6.5486, -6.11, -6.4192, -7.2955, -7.1826, -7.1829, -7.0775, -7.3029, -6.4409, -6.7084, -5.8013, -5.4287, -6.084, -5.5149, -5.8872, -5.6043, -4.7323, -6.6754, -6.642, -4.8543, -6.288, -5.6804, -5.7595, -5.7302, -4.9778, -5.4992, -5.2642, -5.5079, -5.5555, -5.8063, -5.4453, -5.7828, -5.9058, -5.743, -5.7428, -5.8426, -5.9188, -5.7552, -5.8938, -5.9571, -5.9693], \"loglift\": [30.0, 29.0, 28.0, 27.0, 26.0, 25.0, 24.0, 23.0, 22.0, 21.0, 20.0, 19.0, 18.0, 17.0, 16.0, 15.0, 14.0, 13.0, 12.0, 11.0, 10.0, 9.0, 8.0, 7.0, 6.0, 5.0, 4.0, 3.0, 2.0, 1.0, 0.8852, 0.8844, 0.8831, 0.8811, 0.8744, 0.8696, 0.8687, 0.8666, 0.8637, 0.8635, 0.8616, 0.8605, 0.8593, 0.8553, 0.8548, 0.8545, 0.8517, 0.851, 0.8495, 0.8494, 0.8462, 0.846, 0.8448, 0.844, 0.8437, 0.8434, 0.8425, 0.8417, 0.8409, 0.8393, 0.8367, 0.8341, 0.8286, 0.8332, 0.8314, 0.8162, 0.8214, 0.8068, 0.8142, 0.8149, 0.8261, 0.8115, 0.8154, 0.8138, 0.7313, 0.7627, 0.7854, 0.7635, 0.7076, 0.6915, 0.6148, 0.4679, 0.636, 0.5868, 0.4374, 0.4978, 0.746, 0.4592, 0.4994, 0.4178, 0.3321, 0.4137, 0.5078, 0.3586, 0.3945, 0.3167, 0.3949, 0.325, 0.5566, 0.2934, 0.0521, 0.4361, 0.4094, 0.3507, 0.468, 0.1726, 0.3683, 0.2759, 0.4852, -0.2228, 0.0448, 0.2224, 0.0617, 1.2898, 1.2896, 1.2892, 1.288, 1.2875, 1.2858, 1.2857, 1.2846, 1.2831, 1.2813, 1.2788, 1.2765, 1.2759, 1.2748, 1.2746, 1.2728, 1.2698, 1.2696, 1.2693, 1.2679, 1.2666, 1.2655, 1.2627, 1.2627, 1.2619, 1.2611, 1.2585, 1.2558, 1.2552, 1.2542, 1.2144, 1.1717, 1.2076, 1.1044, 1.0635, 1.216, 1.0883, 1.1082, 0.9239, 1.1021, 0.6789, 1.0064, 0.6621, 0.8289, 0.6822, 0.6382, 0.9068, 0.7634, 0.6655, 0.7313, 0.3345, 0.2427, 0.6033, 0.1763, 0.3974, 0.5364, 1.4982, 1.4948, 1.4896, 1.4865, 1.4788, 1.4685, 1.4601, 1.4548, 1.4507, 1.4507, 1.4484, 1.4477, 1.4465, 1.4416, 1.4377, 1.4372, 1.4332, 1.4327, 1.4315, 1.4299, 1.4297, 1.4285, 1.4269, 1.4234, 1.4227, 1.4219, 1.4206, 1.4197, 1.4168, 1.4165, 1.4135, 1.3956, 1.4097, 1.4096, 1.4044, 1.4129, 1.3422, 1.3894, 1.3268, 1.3373, 1.3312, 1.2636, 1.2346, 1.2563, 1.1324, 1.2939, 1.0669, 1.2192, 1.2914, 1.1896, 1.1194, 1.1731, 1.2399, 1.2431, 1.2241, 1.2971, 0.7691, 0.951, 1.0717, 0.8809, 0.7975, 0.9883, 0.9014, 0.839, 0.588, 0.7662, 0.8526, 0.5903, 0.9138, 0.605, 0.5817, 0.7074, 0.4382, 0.0018, -0.1823, 0.4092, 2.1932, 2.1452, 2.1421, 2.1397, 2.1391, 2.1275, 2.1202, 2.1163, 2.0892, 2.0873, 2.0805, 2.076, 2.0687, 2.0659, 2.0591, 2.0581, 2.0519, 2.0443, 2.0104, 2.0079, 1.9821, 1.973, 1.9345, 1.9285, 1.9228, 1.922, 1.9177, 1.9159, 1.9107, 1.8791, 1.8508, 1.8018, 1.8373, 1.7792, 1.7006, 1.6422, 1.114, 1.8462, 1.8139, 0.9476, 1.6176, 1.2076, 1.2522, 1.2007, 0.5664, 0.929, 0.707, 0.8509, 0.8744, 1.1386, 0.6955, 0.8427, 0.9714, 0.4884, 0.4408, 0.5338, 0.7112, 0.0732, 0.4647, 0.6958, 0.4583]}, \"token.table\": {\"Topic\": [1, 3, 4, 1, 1, 3, 4, 2, 3, 2, 3, 4, 2, 3, 1, 4, 2, 1, 2, 3, 4, 2, 2, 1, 2, 2, 1, 3, 2, 3, 2, 1, 2, 3, 4, 1, 1, 2, 3, 4, 4, 1, 1, 2, 3, 4, 3, 4, 1, 1, 2, 1, 2, 2, 1, 4, 2, 3, 3, 4, 1, 3, 1, 2, 2, 3, 2, 1, 4, 2, 2, 2, 1, 3, 4, 2, 2, 1, 2, 3, 2, 2, 1, 1, 2, 3, 4, 3, 4, 2, 4, 2, 3, 4, 3, 4, 2, 3, 2, 3, 4, 2, 1, 1, 4, 3, 4, 4, 1, 3, 4, 1, 1, 1, 3, 3, 4, 2, 1, 3, 3, 3, 4, 1, 3, 4, 1, 2, 3, 4, 1, 2, 3, 4, 1, 2, 3, 4, 1, 2, 3, 4, 2, 3, 4, 1, 4, 1, 2, 3, 4, 3, 2, 1, 2, 3, 4, 1, 3, 4, 1, 3, 4, 4, 3, 4, 3, 4, 3, 4, 1, 2, 3, 4, 3, 1, 2, 3, 4, 3, 4, 3, 2, 3, 1, 2, 3, 4, 1, 2, 4, 3, 1, 1, 2, 3, 4, 1, 3, 1, 2, 3, 4, 1, 2, 3, 1, 2, 3, 4, 1, 2, 3, 4, 1, 2, 3, 4, 1, 3, 4, 4, 1, 2, 4, 1, 2, 4, 1, 3, 3, 1, 3, 1, 3, 4, 1, 2, 3, 4, 1, 2, 3, 4, 1, 2, 4, 1, 2, 3, 4, 1, 2, 3, 4, 1, 2, 3, 4, 3, 4, 1, 2, 3, 4, 1, 2, 3, 4, 1, 2, 3, 4, 1, 3, 4, 3, 4, 1, 2, 3, 4, 3, 4, 3, 4, 1, 2, 3, 4, 3, 1, 2, 1, 2, 1, 2, 3, 4, 1, 2, 3, 4, 3, 1, 2, 3, 4, 1, 3, 2, 3, 4, 1, 2, 3, 4, 1, 2, 3, 4, 1, 2, 3, 4, 1, 3, 4, 1, 2, 3, 4, 4, 1, 1, 3, 4, 1, 1, 2, 3, 4, 1, 3, 4, 1, 1, 3, 4, 1, 4, 1, 2, 3, 4, 2, 1, 2, 3, 1, 3, 4, 3, 4, 1, 2, 3, 4, 3, 4, 1, 2, 3, 4, 4, 1, 2, 3, 4, 1, 2, 3, 4, 1, 2, 3, 4, 1, 2, 3, 4, 1, 2, 3, 4, 1, 2, 3, 4, 1, 2, 3, 3, 4, 1, 3, 4, 1, 2, 3, 4, 1, 2, 3, 4, 1, 2, 3, 4, 1, 2, 3, 4, 1, 2, 3, 4, 1, 2, 3, 4, 1, 2, 3, 1, 3, 4, 1, 3, 4, 1, 2, 3, 4, 1, 2, 3, 4, 1, 2, 3, 4, 1, 3, 4, 3, 4, 3, 3, 4, 3, 4, 1, 1, 2, 3, 4, 1, 3, 4, 3, 4, 1, 2, 3, 4, 1, 2, 3, 4, 1, 2, 3, 4, 1, 2, 3, 4, 1, 2, 3, 4, 3, 4, 1, 2, 3, 4, 1, 3, 4, 1, 3, 4, 1, 3, 1, 2, 3, 4, 3, 1, 4, 1, 2, 3, 4, 1, 2, 1, 2, 3, 4, 3, 4, 3, 1, 3, 1, 2, 3, 4, 1, 2, 3, 4, 1, 2, 3, 4, 1, 2, 3, 4, 1, 2, 3, 4, 3, 4, 1, 2, 3, 4, 1, 3, 4, 3, 1, 2, 3, 4, 3, 4, 1, 2, 3, 4, 3, 4, 1, 4, 1, 1, 2, 3, 4, 1, 3, 4, 3, 3, 1, 1, 3, 4, 1, 2, 3, 4, 3, 1, 3, 4, 1, 3, 1, 2, 3, 4, 3, 4, 3, 4, 3, 4, 1, 2, 3, 4, 1, 2, 3, 4, 1, 2, 3, 4, 1, 2, 3, 4, 1, 2, 3, 4, 1, 2, 3, 4, 1, 1, 2, 3, 4, 1, 2, 3, 4, 1, 2, 3, 4], \"Freq\": [0.9605844776903528, 0.8819779101880378, 0.11024723877350473, 0.9640072805491534, 0.9207534659009804, 0.06905650994257354, 0.02301883664752451, 0.9907084392304627, 0.005827696701355663, 0.013555562575111596, 0.6235558784551334, 0.3660001895280131, 0.9894538259778866, 0.004779970173806215, 0.1401666584052141, 0.7008332920260705, 0.9749671070682326, 0.008012547027673855, 0.03205018811069542, 0.8092672497950593, 0.14422584649812936, 0.9875181447236665, 0.9836080725677114, 0.9795255793403999, 0.9899249891301476, 0.9728916825062794, 0.9809833957920611, 0.011147538588546148, 0.9901291519451658, 0.004286273385044008, 0.9391917944218937, 0.16906579260123614, 0.8248361396605763, 0.0025616029182005478, 0.0025616029182005478, 0.9640808936368661, 0.9736252130691401, 0.9708567893757363, 0.7983848567011979, 0.1802804515131737, 0.9655686678899393, 0.9815609391276658, 0.3601271430073504, 0.03429782314355718, 0.3515526872214611, 0.26580812936256815, 0.17912996748790952, 0.8060848536955929, 0.9768598016875493, 0.9612437318455757, 0.9581539452383966, 0.9688910233871998, 0.983633057453825, 0.972932041711069, 0.9165332351138087, 0.8502311915648322, 0.9889403072999328, 0.006915666484614914, 0.8626543477241776, 0.12780064410728556, 0.8989490715474804, 0.08172264286795276, 0.9804493430397645, 0.01885479505845701, 0.9819630875588966, 0.011033293118639287, 0.9889119950235453, 0.06714503399987429, 0.94003047599824, 0.9844947781436683, 0.9894077586903155, 0.9873301676348264, 0.8430680345374503, 0.15156279272583376, 0.00947267454536461, 0.9845141297629747, 0.9729485635141538, 0.025421057791562583, 0.9609159845210657, 0.010168423116625034, 0.9343070591468267, 0.9815557690468295, 0.9584489911369689, 0.03074253317358355, 0.9222759952075065, 0.015371266586791775, 0.03074253317358355, 0.34591320948727167, 0.6511307472701584, 0.9777035879795747, 0.8106015008598978, 0.014286228773472992, 0.7143114386736497, 0.2714383466959869, 0.7372418476461725, 0.2602030050515903, 0.9437454061598863, 0.9084388922988288, 0.006051887100557438, 0.9017311779830582, 0.09077830650836156, 0.9478207911798933, 0.9545565548809126, 0.9224690412979828, 0.8971225104729146, 0.3047876251711602, 0.6857721566351104, 0.8516333820493314, 0.9303674683335926, 0.035783364166676636, 0.035783364166676636, 0.9552635650728382, 0.9545428599057236, 0.9429796841559841, 0.047148984207799206, 0.01738470281897849, 0.9735433578627954, 0.9862653748468785, 0.9770916186559059, 0.9397357188905012, 0.8432518255369543, 0.8774988177439846, 0.06749990905722959, 0.06502132941949836, 0.2600853176779934, 0.6502132941949835, 0.31570338287380595, 0.4698841047424089, 0.18354847841500346, 0.03670969568300069, 0.664948370269243, 0.27202433329196307, 0.007556231480332308, 0.05289362036232615, 0.5342730471041967, 0.313440187634462, 0.1424728125611191, 0.007123640628055956, 0.2764064732392486, 0.6794992467131528, 0.04606774553987476, 0.01151693638496869, 0.12457321431063159, 0.7723539287259159, 0.09965857144850528, 0.12533793435910942, 0.7520276061546565, 0.2920018370049307, 0.03539416206120372, 0.6459434576169679, 0.026545621545902794, 0.8666790067936722, 0.9550094266919342, 0.42252268856505115, 0.5337128697663804, 0.029650714987021133, 0.014825357493510567, 0.04602538187187863, 0.7364061099500581, 0.20711421842345382, 0.25832096139189487, 0.40183260660961423, 0.3444279485225265, 0.931777992829209, 0.9125205175543009, 0.10139116861714455, 0.8800572503772011, 0.067696711567477, 0.873429464050981, 0.09704771822788677, 0.7645689839139463, 0.11411477371849946, 0.07988034160294961, 0.034234432115549836, 0.9174767086800562, 0.222550405659027, 0.29958708454099786, 0.2054311436852557, 0.2739081915803409, 0.8976246761844606, 0.05984164507896404, 0.8984083759957066, 0.9148856509185234, 0.06099237672790156, 0.9321778625214943, 0.017588261557009325, 0.03517652311401865, 0.017588261557009325, 0.23524978290684256, 0.7472640162923234, 0.013838222523931914, 0.8662881597373006, 0.928739915886767, 0.7104723205319409, 0.1240507226325611, 0.04510935368456768, 0.1240507226325611, 0.07222191112958506, 0.8666629335550208, 0.19600604544908393, 0.3998523327161312, 0.37633160726224113, 0.02352072545389007, 0.060114383087525786, 0.9167443420847683, 0.030057191543762893, 0.15782806211003678, 0.8116871765659034, 0.02254686601571954, 0.01127343300785977, 0.5661322360786814, 0.3816150628382223, 0.05032286542921612, 0.004193572119101344, 0.7325567668671579, 0.05860454134937263, 0.1074416591405165, 0.1074416591405165, 0.02877658232094263, 0.7481911403445083, 0.2158243674070697, 0.9438266538880116, 0.929990101374425, 0.022142621461295833, 0.044285242922591665, 0.8517550443915133, 0.021839872933115727, 0.10919936466557863, 0.05937877991952706, 0.8906816987929058, 0.8970876465414869, 0.1974385570590618, 0.7650744086038644, 0.17310268371073662, 0.7989354632803228, 0.013315591054672048, 0.6118150464613541, 0.12596192133027878, 0.1919419753604248, 0.06598005403014602, 0.5870096472510556, 0.2119757059517701, 0.11414076474326082, 0.0896820294411335, 0.9182596491706454, 0.03060865497235485, 0.03060865497235485, 0.43431530240951816, 0.0789664186199124, 0.3869354512375707, 0.09475970234389487, 0.6515816273926439, 0.09582082755774175, 0.21080582062703188, 0.047910413778870876, 0.24429304179942674, 0.6892553679340969, 0.04362375746418335, 0.026174254478510007, 0.14120046624485805, 0.8472027974691483, 0.627061157573254, 0.3253174426507859, 0.03300321881964494, 0.01414423663699069, 0.6650131771935153, 0.09975197657902729, 0.21945434847386003, 0.013300263543870304, 0.6010849129724735, 0.34347709312712765, 0.04293463664089096, 0.01226703904025456, 0.9430397884510306, 0.031434659615034354, 0.031434659615034354, 0.08683434967000281, 0.8683434967000281, 0.11455940691467888, 0.07637293794311925, 0.13365264140045868, 0.6682632070022935, 0.14014640267894438, 0.770805214734194, 0.8717808834087608, 0.07264840695073006, 0.3649551293214955, 0.010427289409185586, 0.3649551293214955, 0.25025494582045404, 0.8672391660885976, 0.9437427832010523, 0.03145809277336841, 0.9043809394598578, 0.05319887879175634, 0.054954637460890146, 0.8243195619133522, 0.036636424973926766, 0.07327284994785353, 0.2850991296690791, 0.5880169549424756, 0.1247308692302221, 0.008909347802158721, 0.8862543421854595, 0.6074048624150036, 0.36275568172007155, 0.016872357289305653, 0.008436178644652827, 0.14420660810182306, 0.8652396486109383, 0.01341036231885157, 0.6973388405802816, 0.29502797101473455, 0.21137830041468172, 0.09755921557600696, 0.47153620861736695, 0.22221821325646027, 0.6441413263835231, 0.14864799839619763, 0.1362606651965145, 0.07432399919809882, 0.36367213414283056, 0.07487367467646511, 0.5027232442562657, 0.06417743543697009, 0.0632466159360251, 0.8854526231043514, 0.0632466159360251, 0.42942954955960094, 0.5164760798757362, 0.02901551010537844, 0.023212408084302753, 0.9401190966112682, 0.933985930340028, 0.9210976284109819, 0.050241688822417196, 0.033494459214944795, 0.968927443651875, 0.8229637780610375, 0.07347890875544977, 0.029391563502179908, 0.07347890875544977, 0.1388846567373178, 0.1388846567373178, 0.6944232836865891, 0.9732441944530437, 0.07500833495904762, 0.33753750731571425, 0.562562512192857, 0.9539345766834803, 0.028056899314220007, 0.14947232061714855, 0.7945633885437897, 0.0393348212150391, 0.023600892729023458, 0.947834528199593, 0.9476972225309415, 0.02961553820409192, 0.02961553820409192, 0.30737554681671575, 0.525099892478556, 0.16649508785905437, 0.9372757385601881, 0.03604906686769954, 0.15342083933827352, 0.27615751080889234, 0.1841050072059282, 0.38355209834568377, 0.8183888391904295, 0.18479747981719374, 0.6009481669827481, 0.3605689001896489, 0.014139956870182309, 0.028279913740364617, 0.9498280007849524, 0.46938135663937197, 0.026568756036190865, 0.46052510462730833, 0.05313751207238173, 0.648404720198349, 0.16445047251407402, 0.07047877393460315, 0.1174646232243386, 0.47465076426348896, 0.05584126638393988, 0.3839087063895867, 0.08376189957590982, 0.4619619109253242, 0.23953580566498292, 0.12832275303481228, 0.17109700404641637, 0.5781672403990034, 0.33817329155413406, 0.0709073030678023, 0.016363223784877454, 0.3358113658498679, 0.5424645140651713, 0.07749493058073875, 0.045205376172097606, 0.1319475000447485, 0.829384285995562, 0.037699285727071, 0.42684453366619574, 0.5626587034690762, 0.0587309338360687, 0.6900884725738072, 0.24960646880329196, 0.3117380807071676, 0.40525950491931784, 0.18704284842430052, 0.09352142421215026, 0.6163074389895501, 0.15116974918611606, 0.19186929704391653, 0.04069954785780047, 0.8637037150653182, 0.06281481564111405, 0.04711111173083554, 0.01570370391027851, 0.8622437588837781, 0.08798405702895695, 0.01759681140579139, 0.01759681140579139, 0.4013905833794735, 0.2721292090708295, 0.31975182065822466, 0.013606460453541474, 0.36874193877791844, 0.5659759990544795, 0.04287696962533935, 0.01715078785013574, 0.9116050065840686, 0.015450932314984215, 0.06180372925993686, 0.8805283768115663, 0.08805283768115663, 0.8101462855096314, 0.03556727376655715, 0.0711345475331143, 0.9247491179304859, 0.3253177398838973, 0.024752436730296534, 0.4596881107055071, 0.19094736906228754, 0.5054926297863379, 0.14041461938509386, 0.25976704586242366, 0.09829023356956572, 0.554957997495993, 0.25824778101298684, 0.17033364279579982, 0.016483900915722563, 0.04840533530871214, 0.8712960355568184, 0.09681067061742428, 0.11311612551472959, 0.9049290041178367, 0.9476069140341814, 0.23483579171130783, 0.7632163230617505, 0.9343449367592581, 0.0778620780632715, 0.9585219098536779, 0.44707640121426534, 0.29538976508799675, 0.07983507164540453, 0.17563715761988996, 0.969250782112998, 0.11913397506700055, 0.8935048130025041, 0.8692952233647899, 0.1133863334823639, 0.675223459514134, 0.166613580919072, 0.07892222254061305, 0.07892222254061305, 0.29742775344833117, 0.6218943935737834, 0.06309073557994904, 0.01802592445141401, 0.5434376636920805, 0.4027832095600126, 0.006393384278730359, 0.044753689951112514, 0.4286643247684122, 0.347565668731145, 0.2124012420023664, 0.011585522291038167, 0.2356985068463698, 0.05689274303188237, 0.5201622220057817, 0.18693329853332777, 0.22299597551371206, 0.7804859142979922, 0.263225105145198, 0.11038472151250239, 0.5519236075625119, 0.07642019181634781, 0.06896622040525922, 0.7241453142552218, 0.19540429114823446, 0.02124491955953958, 0.7223272650243456, 0.25493903471447493, 0.06314614980804718, 0.8840460973126605, 0.8136439166319717, 0.11222674712165126, 0.05611337356082563, 0.028056686780412815, 0.9244647308759278, 0.12448835244800607, 0.7469301146880364, 0.09609773127860294, 0.004576082441838235, 0.6177711296481617, 0.2837171113939706, 0.9510585256905287, 0.021614966492966563, 0.004783169944991089, 0.004783169944991089, 0.6600774524087702, 0.33482189614937624, 0.7904932775646496, 0.21282511319048258, 0.885960669328337, 0.05608337331239393, 0.8973339729983029, 0.08319343956746625, 0.8818504594151422, 0.02773114652248875, 0.00554622930449775, 0.3647378120511222, 0.23210588039616867, 0.3315798291373838, 0.07957915899297212, 0.5623887672112827, 0.018141573135847827, 0.3809730358528044, 0.036283146271695654, 0.21431926811463228, 0.2250352315203639, 0.3429108289834117, 0.21431926811463228, 0.12064311268334749, 0.19436945932317096, 0.5093820313296894, 0.1675598787268715, 0.05670420173191367, 0.9072672277106187, 0.6608294805301576, 0.23028906139687308, 0.05006283943410285, 0.06007540732092342, 0.07416827446346577, 0.14833654892693154, 0.7416827446346578, 0.910049262424067, 0.1968481972362665, 0.1335755624103237, 0.49212049309066624, 0.17575731896095223, 0.1394418299183997, 0.6972091495919985, 0.4799309358991859, 0.04799309358991859, 0.4319378423092673, 0.03839447487193487, 0.234330563888067, 0.7615743326362178, 0.920823764630297, 0.06138825097535313, 0.9692224795215285, 0.07918298248504047, 0.013197163747506745, 0.7522383336078845, 0.15836596497008093, 0.12442608998868195, 0.12442608998868195, 0.7465565399320917, 0.9506496832005763, 0.8992587473484822, 0.9802870101935318, 0.1415073777561831, 0.49527582214664084, 0.36791918216607605, 0.3372620803600678, 0.49856133618444803, 0.14663568711307295, 0.014663568711307296, 0.8681784777165419, 0.33515969377347105, 0.42942335764725975, 0.21994854903884037, 0.9361471966094052, 0.0334338284503359, 0.0033330325075524455, 0.0033330325075524455, 0.1766507229002796, 0.8165929643503491, 0.2910527063376325, 0.698526495210318, 0.3820872617821847, 0.6004228399434332, 0.8869125603810316, 0.06335089717007368, 0.2556818999352604, 0.03196023749190755, 0.575284274854336, 0.1384943624649327, 0.7505908678577827, 0.09622959844330548, 0.09622959844330548, 0.04811479922165274, 0.4233704864395193, 0.5292131080493991, 0.03175278648296395, 0.010584262160987982, 0.48187055348028957, 0.24681174690453855, 0.18804704526060081, 0.08227058230151285, 0.6258927600761156, 0.09696930085686298, 0.19393860171372596, 0.08815390986987544, 0.34036413331009396, 0.1862369786036363, 0.25045662639799365, 0.21834680250081498, 0.9434423140109157, 0.5734494036916975, 0.28672470184584875, 0.09299179519324824, 0.0387465813305201, 0.3833298043697182, 0.24756716532210968, 0.11180452627450115, 0.2555532029131455, 0.2506982060083935, 0.5372104414465575, 0.1835469008275738, 0.026860522072327874], \"Term\": [\"Agatha\", \"Ahab\", \"Ahab\", \"Arabian\", \"Arthur\", \"Arthur\", \"Arthur\", \"Bennet\", \"Bennet\", \"Bildad\", \"Bildad\", \"Bildad\", \"Bingley\", \"Bingley\", \"Black\", \"Black\", \"Bourgh\", \"Captain\", \"Captain\", \"Captain\", \"Captain\", \"Catherine\", \"Charlotte\", \"Clerval\", \"Collins\", \"Colonel\", \"Count\", \"Count\", \"Darcy\", \"Darcy\", \"Eliza\", \"Elizabeth\", \"Elizabeth\", \"Elizabeth\", \"Elizabeth\", \"Ernest\", \"Felix\", \"Fitzwilliam\", \"Flask\", \"Flask\", \"Folio\", \"Geneva\", \"God\", \"God\", \"God\", \"God\", \"Greenland\", \"Greenland\", \"Hawkins\", \"Helsing\", \"Hertfordshire\", \"Holmwood\", \"Hunsford\", \"Hurst\", \"Ingolstadt\", \"Inn\", \"Jane\", \"Jane\", \"Jonah\", \"Jonah\", \"Jonathan\", \"Jonathan\", \"Justine\", \"Justine\", \"Lady\", \"Lady\", \"Lady Catherine\", \"Leviathan\", \"Leviathan\", \"Lizzy\", \"Longbourn\", \"Lucas\", \"Lucy\", \"Lucy\", \"Lucy\", \"Lydia\", \"Meryton\", \"Miss\", \"Miss\", \"Miss\", \"Miss Bennet\", \"Miss Bingley\", \"Mont\", \"Mrs\", \"Mrs\", \"Mrs\", \"Mrs\", \"Nantucket\", \"Nantucket\", \"Netherfield\", \"Ocean\", \"Peleg\", \"Peleg\", \"Peleg\", \"Pequod\", \"Pequod\", \"Phillips\", \"Pier\", \"Queequeg\", \"Queequeg\", \"Queequeg\", \"Rosings\", \"Safie\", \"September\", \"Sperm\", \"Starbuck\", \"Starbuck\", \"Thomas\", \"Van\", \"Van\", \"Van\", \"Van Helsing\", \"Victor\", \"Westenra\", \"Westenra\", \"Whale\", \"Whale\", \"Wickham\", \"abhor\", \"aboard\", \"afore\", \"ain\", \"ain\", \"american\", \"american\", \"american\", \"answer\", \"answer\", \"answer\", \"answer\", \"appear\", \"appear\", \"appear\", \"appear\", \"ask\", \"ask\", \"ask\", \"ask\", \"attention\", \"attention\", \"attention\", \"attention\", \"aye\", \"aye\", \"aye\", \"battle\", \"battle\", \"bed\", \"bed\", \"bed\", \"bed\", \"bedfellow\", \"behaviour\", \"believe\", \"believe\", \"believe\", \"believe\", \"board\", \"board\", \"board\", \"boat\", \"boat\", \"boat\", \"bold\", \"brown\", \"brown\", \"bulwark\", \"bulwark\", \"cannibal\", \"cannibal\", \"cause\", \"cause\", \"cause\", \"cause\", \"chap\", \"chapter\", \"chapter\", \"chapter\", \"chapter\", \"chest\", \"chest\", \"commander\", \"compliment\", \"compliment\", \"cottage\", \"cottage\", \"cottage\", \"cottage\", \"cousin\", \"cousin\", \"cousin\", \"crazy\", \"creator\", \"creature\", \"creature\", \"creature\", \"creature\", \"crow\", \"crow\", \"cry\", \"cry\", \"cry\", \"cry\", \"dance\", \"dance\", \"dance\", \"daughter\", \"daughter\", \"daughter\", \"daughter\", \"dear\", \"dear\", \"dear\", \"dear\", \"death\", \"death\", \"death\", \"death\", \"deck\", \"deck\", \"deck\", \"department\", \"despair\", \"despair\", \"despair\", \"destroy\", \"destroy\", \"destroy\", \"didn\", \"didn\", \"doesn\", \"dog\", \"dog\", \"don\", \"don\", \"don\", \"door\", \"door\", \"door\", \"door\", \"enter\", \"enter\", \"enter\", \"enter\", \"existence\", \"existence\", \"existence\", \"face\", \"face\", \"face\", \"face\", \"fall\", \"fall\", \"fall\", \"fall\", \"family\", \"family\", \"family\", \"family\", \"famous\", \"famous\", \"father\", \"father\", \"father\", \"father\", \"fear\", \"fear\", \"fear\", \"fear\", \"feeling\", \"feeling\", \"feeling\", \"feeling\", \"fiend\", \"fiend\", \"fiend\", \"fin\", \"fin\", \"fish\", \"fish\", \"fish\", \"fish\", \"fishery\", \"fishery\", \"fog\", \"fog\", \"foot\", \"foot\", \"foot\", \"foot\", \"forecastle\", \"forever\", \"forever\", \"gentle\", \"gentle\", \"gentleman\", \"gentleman\", \"gentleman\", \"gentleman\", \"girl\", \"girl\", \"girl\", \"girl\", \"hammock\", \"happy\", \"happy\", \"happy\", \"happy\", \"harbour\", \"harbour\", \"harpooneer\", \"harpooneer\", \"harpooneer\", \"head\", \"head\", \"head\", \"head\", \"heart\", \"heart\", \"heart\", \"heart\", \"hold\", \"hold\", \"hold\", \"hold\", \"hole\", \"hole\", \"hole\", \"hope\", \"hope\", \"hope\", \"hope\", \"horn\", \"horrible\", \"horror\", \"horror\", \"horror\", \"hovel\", \"human\", \"human\", \"human\", \"human\", \"hunt\", \"hunt\", \"hunt\", \"inhabit\", \"jaw\", \"jaw\", \"jaw\", \"labour\", \"labour\", \"lady\", \"lady\", \"lady\", \"lady\", \"ladyship\", \"lake\", \"lake\", \"lake\", \"land\", \"land\", \"land\", \"landlord\", \"landlord\", \"large\", \"large\", \"large\", \"large\", \"leg\", \"leg\", \"letter\", \"letter\", \"letter\", \"letter\", \"leviathan\", \"lie\", \"lie\", \"lie\", \"lie\", \"life\", \"life\", \"life\", \"life\", \"light\", \"light\", \"light\", \"light\", \"live\", \"live\", \"live\", \"live\", \"love\", \"love\", \"love\", \"love\", \"manner\", \"manner\", \"manner\", \"manner\", \"marry\", \"marry\", \"marry\", \"mast\", \"mast\", \"mate\", \"mate\", \"mate\", \"mean\", \"mean\", \"mean\", \"mean\", \"mind\", \"mind\", \"mind\", \"mind\", \"miserable\", \"miserable\", \"miserable\", \"miserable\", \"misery\", \"misery\", \"misery\", \"misery\", \"morning\", \"morning\", \"morning\", \"morning\", \"mother\", \"mother\", \"mother\", \"mother\", \"mountain\", \"mountain\", \"mountain\", \"murder\", \"murder\", \"naturalist\", \"oil\", \"oil\", \"oil\", \"old\", \"old\", \"old\", \"old\", \"open\", \"open\", \"open\", \"open\", \"pass\", \"pass\", \"pass\", \"pass\", \"passenger\", \"passenger\", \"passenger\", \"peril\", \"peril\", \"pier\", \"pilot\", \"pilot\", \"pitch\", \"pitch\", \"precipice\", \"present\", \"present\", \"present\", \"present\", \"protector\", \"pulpit\", \"pulpit\", \"queer\", \"queer\", \"remain\", \"remain\", \"remain\", \"remain\", \"reply\", \"reply\", \"reply\", \"reply\", \"return\", \"return\", \"return\", \"return\", \"room\", \"room\", \"room\", \"room\", \"round\", \"round\", \"round\", \"round\", \"royal\", \"royal\", \"run\", \"run\", \"run\", \"run\", \"sail\", \"sail\", \"sail\", \"sailor\", \"sailor\", \"sailor\", \"sand\", \"sand\", \"scene\", \"scene\", \"scene\", \"scene\", \"schooner\", \"scientific\", \"scientific\", \"sea\", \"sea\", \"sea\", \"sea\", \"sensation\", \"sensation\", \"ship\", \"ship\", \"ship\", \"ship\", \"shipmate\", \"shipmate\", \"shirt\", \"shout\", \"shout\", \"sister\", \"sister\", \"sister\", \"sister\", \"sit\", \"sit\", \"sit\", \"sit\", \"sleep\", \"sleep\", \"sleep\", \"sleep\", \"small\", \"small\", \"small\", \"small\", \"sort\", \"sort\", \"sort\", \"sort\", \"sperm\", \"sperm\", \"spirit\", \"spirit\", \"spirit\", \"spirit\", \"spout\", \"spout\", \"spout\", \"square\", \"stand\", \"stand\", \"stand\", \"stand\", \"strand\", \"strand\", \"strange\", \"strange\", \"strange\", \"strange\", \"tail\", \"tail\", \"tale\", \"tale\", \"thirst\", \"thou\", \"thou\", \"thou\", \"thou\", \"tis\", \"tis\", \"tis\", \"tomahawk\", \"tombstone\", \"victim\", \"voyage\", \"voyage\", \"voyage\", \"walk\", \"walk\", \"walk\", \"walk\", \"wasn\", \"water\", \"water\", \"water\", \"weep\", \"weep\", \"whale\", \"whale\", \"whale\", \"whale\", \"whaleman\", \"whaleman\", \"whaling\", \"whaling\", \"wharf\", \"wharf\", \"white\", \"white\", \"white\", \"white\", \"window\", \"window\", \"window\", \"window\", \"wish\", \"wish\", \"wish\", \"wish\", \"word\", \"word\", \"word\", \"word\", \"work\", \"work\", \"work\", \"work\", \"world\", \"world\", \"world\", \"world\", \"wretch\", \"write\", \"write\", \"write\", \"write\", \"year\", \"year\", \"year\", \"year\", \"young\", \"young\", \"young\", \"young\"]}, \"R\": 30, \"lambda.step\": 0.01, \"plot.opts\": {\"xlab\": \"PC1\", \"ylab\": \"PC2\"}, \"topic.order\": [1, 3, 4, 2]};\n\nfunction LDAvis_load_lib(url, callback){\n  var s = document.createElement('script');\n  s.src = url;\n  s.async = true;\n  s.onreadystatechange = s.onload = callback;\n  s.onerror = function(){console.warn(\"failed to load library \" + url);};\n  document.getElementsByTagName(\"head\")[0].appendChild(s);\n}\n\nif(typeof(LDAvis) !== \"undefined\"){\n   // already loaded: just create the visualization\n   !function(LDAvis){\n       new LDAvis(\"#\" + \"ldavis_el1691622807599834566394267984\", ldavis_el1691622807599834566394267984_data);\n   }(LDAvis);\n}else if(typeof define === \"function\" && define.amd){\n   // require.js is available: use it to load d3/LDAvis\n   require.config({paths: {d3: \"https://d3js.org/d3.v5\"}});\n   require([\"d3\"], function(d3){\n      window.d3 = d3;\n      LDAvis_load_lib(\"https://cdn.jsdelivr.net/gh/bmabey/pyLDAvis@3.4.0/pyLDAvis/js/ldavis.v3.0.0.js\", function(){\n        new LDAvis(\"#\" + \"ldavis_el1691622807599834566394267984\", ldavis_el1691622807599834566394267984_data);\n      });\n    });\n}else{\n    // require.js not available: dynamically load d3 & LDAvis\n    LDAvis_load_lib(\"https://d3js.org/d3.v5.js\", function(){\n         LDAvis_load_lib(\"https://cdn.jsdelivr.net/gh/bmabey/pyLDAvis@3.4.0/pyLDAvis/js/ldavis.v3.0.0.js\", function(){\n                 new LDAvis(\"#\" + \"ldavis_el1691622807599834566394267984\", ldavis_el1691622807599834566394267984_data);\n            })\n         });\n}\n</script>"
     },
     "execution_count": 101,
     "metadata": {},
     "output_type": "execute_result"
    }
   ],
   "source": [
    "# plot topics\n",
    "data =  pyLDAvis.gensim_models.prepare(model, corpus, dictionary)\n",
    "pyLDAvis.display(data)"
   ]
  },
  {
   "cell_type": "code",
   "execution_count": 103,
   "metadata": {
    "ExecuteTime": {
     "end_time": "2024-01-08T00:48:05.480345400Z",
     "start_time": "2024-01-08T00:48:05.286422400Z"
    }
   },
   "outputs": [],
   "source": [
    "# assignment\n",
    "sent_to_cluster = list()\n",
    "for n,doc in enumerate(corpus):\n",
    "    if doc:\n",
    "        cluster = max(model[doc],key=lambda x:x[1])\n",
    "        sent_to_cluster.append(cluster[0])"
   ]
  },
  {
   "cell_type": "code",
   "execution_count": 104,
   "metadata": {
    "ExecuteTime": {
     "end_time": "2024-01-08T00:48:23.216190600Z",
     "start_time": "2024-01-08T00:48:23.114430200Z"
    }
   },
   "outputs": [
    {
     "name": "stdout",
     "output_type": "stream",
     "text": [
      "DRACULA.txt : 0 - 47\n",
      "Accuracy: 0.7833333333333333\n",
      "------\n",
      "Frankenstein.txt : 0 - 60\n",
      "Accuracy: 1.0\n",
      "------\n",
      "Moby_Dick.txt : 3 - 37\n",
      "Accuracy: 0.6166666666666667\n",
      "------\n",
      "PRIDE_AND_PREJUDICE.txt : 2 - 60\n",
      "Accuracy: 1.0\n",
      "------\n"
     ]
    }
   ],
   "source": [
    "# accuracy\n",
    "from collections import Counter\n",
    "for book, cluster in book_id.items():\n",
    "    assignments = list()\n",
    "    for real,given in zip(chunk_class,sent_to_cluster):\n",
    "        if real == cluster:\n",
    "            assignments.append(given)\n",
    "    most_common,num_most_common = Counter(assignments).most_common(1)[0] # 4, 6 times\n",
    "    print(book,\":\",most_common,\"-\",num_most_common)\n",
    "    print(\"Accuracy:\",num_most_common/limit)\n",
    "    print(\"------\")"
   ]
  },
  {
   "cell_type": "markdown",
   "metadata": {},
   "source": [
    "# Task 4: Semantic analysis based on lexical categories"
   ]
  },
  {
   "cell_type": "code",
   "execution_count": 105,
   "metadata": {
    "ExecuteTime": {
     "end_time": "2024-01-08T12:52:33.182512800Z",
     "start_time": "2024-01-08T12:52:32.769666500Z"
    }
   },
   "outputs": [],
   "source": [
    "from empath import Empath\n",
    "lexicon = Empath()"
   ]
  },
  {
   "cell_type": "markdown",
   "metadata": {},
   "source": [
    "### Let's see what pre-build categories we can study! More information: https://hci.stanford.edu/publications/2016/ethan/empath-chi-2016.pdf"
   ]
  },
  {
   "cell_type": "code",
   "execution_count": 106,
   "metadata": {
    "ExecuteTime": {
     "end_time": "2024-01-08T12:54:23.096413100Z",
     "start_time": "2024-01-08T12:54:22.999310900Z"
    }
   },
   "outputs": [
    {
     "name": "stdout",
     "output_type": "stream",
     "text": [
      "help\n",
      "office\n",
      "dance\n",
      "money\n",
      "wedding\n",
      "domestic_work\n",
      "sleep\n",
      "medical_emergency\n",
      "cold\n",
      "hate\n",
      "cheerfulness\n",
      "aggression\n",
      "occupation\n",
      "envy\n",
      "anticipation\n"
     ]
    }
   ],
   "source": [
    "for cat in list(lexicon.cats.keys())[:15]:\n",
    "    print(cat)"
   ]
  },
  {
   "cell_type": "markdown",
   "metadata": {},
   "source": [
    "### For each category, we can examine representative terms"
   ]
  },
  {
   "cell_type": "code",
   "execution_count": 108,
   "metadata": {
    "ExecuteTime": {
     "end_time": "2024-01-08T12:56:13.692463500Z",
     "start_time": "2024-01-08T12:56:13.592294400Z"
    }
   },
   "outputs": [
    {
     "data": {
      "text/plain": "['condition',\n 'stress',\n 'trauma',\n 'malnutrition',\n 'remission',\n 'coma',\n 'prenatal',\n 'pancreatic',\n 'psychiatrist',\n 'medication',\n 'bulimia',\n 'antibiotic',\n 'ailment',\n 'vomiting',\n 'recovery']"
     },
     "execution_count": 108,
     "metadata": {},
     "output_type": "execute_result"
    }
   ],
   "source": [
    "lexicon.cats[\"health\"][:15]"
   ]
  },
  {
   "cell_type": "markdown",
   "metadata": {},
   "source": [
    "### Studying Pride and Prejudice"
   ]
  },
  {
   "cell_type": "code",
   "execution_count": 109,
   "metadata": {
    "ExecuteTime": {
     "end_time": "2024-01-08T13:02:45.618800100Z",
     "start_time": "2024-01-08T13:02:18.027912400Z"
    }
   },
   "outputs": [],
   "source": [
    "nlp = spacy.load('en_core_web_sm')\n",
    "doc = nlp(books[3])"
   ]
  },
  {
   "cell_type": "code",
   "execution_count": 110,
   "metadata": {
    "ExecuteTime": {
     "end_time": "2024-01-08T13:03:25.655351600Z",
     "start_time": "2024-01-08T13:03:25.354851400Z"
    }
   },
   "outputs": [],
   "source": [
    "empath_features = lexicon.analyze(doc.text,categories = [\"disappointment\", \"pain\", \"joy\", \"beauty\", \"affection\"])"
   ]
  },
  {
   "cell_type": "code",
   "execution_count": 115,
   "metadata": {
    "ExecuteTime": {
     "end_time": "2024-01-08T13:03:29.747585800Z",
     "start_time": "2024-01-08T13:03:29.644862300Z"
    }
   },
   "outputs": [
    {
     "data": {
      "text/plain": "{'disappointment': 149.0,\n 'pain': 228.0,\n 'joy': 278.0,\n 'beauty': 136.0,\n 'affection': 439.0}"
     },
     "execution_count": 115,
     "metadata": {},
     "output_type": "execute_result"
    }
   ],
   "source": [
    "empath_features"
   ]
  },
  {
   "cell_type": "code",
   "execution_count": 116,
   "metadata": {
    "ExecuteTime": {
     "end_time": "2024-01-08T13:03:43.645530100Z",
     "start_time": "2024-01-08T13:03:43.444067900Z"
    }
   },
   "outputs": [],
   "source": [
    "empath_features = lexicon.analyze(doc.text,categories = [\"disappointment\", \"pain\", \"joy\", \"beauty\", \"affection\"], normalize = True)"
   ]
  },
  {
   "cell_type": "code",
   "execution_count": 124,
   "metadata": {
    "ExecuteTime": {
     "end_time": "2024-01-08T13:05:33.989843700Z",
     "start_time": "2024-01-08T13:05:33.880137500Z"
    }
   },
   "outputs": [
    {
     "data": {
      "text/plain": "{'love': 0.0031815771532459664,\n 'pain': 0.0020831755170062872,\n 'joy': 0.0017801681690781002,\n 'beauty': 0.0009468979622755852,\n 'affection': 0.0024619347019165217}"
     },
     "execution_count": 124,
     "metadata": {},
     "output_type": "execute_result"
    }
   ],
   "source": [
    "empath_features"
   ]
  },
  {
   "cell_type": "markdown",
   "metadata": {},
   "source": [
    "### Usecase: the evolution of topics"
   ]
  },
  {
   "cell_type": "code",
   "execution_count": 118,
   "metadata": {
    "ExecuteTime": {
     "end_time": "2024-01-08T13:04:01.981147400Z",
     "start_time": "2024-01-08T13:04:01.831872600Z"
    }
   },
   "outputs": [],
   "source": [
    "bins = range(0,len(doc.text),150000)"
   ]
  },
  {
   "cell_type": "code",
   "execution_count": 119,
   "metadata": {
    "ExecuteTime": {
     "end_time": "2024-01-08T13:04:23.369352700Z",
     "start_time": "2024-01-08T13:04:22.988795700Z"
    }
   },
   "outputs": [],
   "source": [
    "love = []\n",
    "pain = []\n",
    "beauty = []\n",
    "affection = []\n",
    "\n",
    "\n",
    "for cnt,i in enumerate(bins[:-1]):\n",
    "    empath_features = lexicon.analyze(doc.text[bins[cnt]:bins[cnt+1]],\n",
    "                                      categories = [\"love\", \"pain\", \"joy\", \"beauty\", \"affection\"], normalize = True)\n",
    "    love.append(empath_features[\"love\"])\n",
    "    pain.append(empath_features[\"pain\"])\n",
    "    beauty.append(empath_features[\"beauty\"])\n",
    "    affection.append(empath_features[\"affection\"])"
   ]
  },
  {
   "cell_type": "code",
   "execution_count": 126,
   "metadata": {
    "ExecuteTime": {
     "end_time": "2024-01-08T13:06:02.685319Z",
     "start_time": "2024-01-08T13:06:02.440886Z"
    }
   },
   "outputs": [
    {
     "data": {
      "text/plain": "<Figure size 640x480 with 1 Axes>",
      "image/png": "[encoded data removed]"
     },
     "metadata": {},
     "output_type": "display_data"
    }
   ],
   "source": [
    "plt.plot(love,label = \"love\")\n",
    "plt.plot(beauty, label = \"beauty\")\n",
    "plt.plot(affection, label = \"affection\")\n",
    "plt.plot(pain,label = \"pain\")\n",
    "\n",
    "plt.xlabel(\"progression in the book\")\n",
    "plt.ylabel(\"frequency of a category\")\n",
    "plt.legend()\n",
    "plt.show()"
   ]
  },
  {
   "cell_type": "code",
   "execution_count": 133,
   "metadata": {},
   "outputs": [],
   "source": [
    "# We can observe how as the story progresses, beauty and affection categories decrease, while love and pain intensify!"
   ]
  },
  {
   "cell_type": "markdown",
   "metadata": {},
   "source": [
    "### We can create custom categories based on seed terms!\n",
    "### Models trained on: fiction, nytimes or reddit"
   ]
  },
  {
   "cell_type": "code",
   "execution_count": 134,
   "metadata": {},
   "outputs": [
    {
     "name": "stdout",
     "output_type": "stream",
     "text": [
      "[\"avocado\", \"kale\", \"Swiss_chard\", \"escarole\", \"black_beans\", \"cucumber\", \"dill\", \"leek\", \"mango\", \"red_peppers\", \"chicory\", \"chanterelles\", \"chutney\", \"tamarind\", \"papaya\", \"black_olives\", \"endive\", \"pesto\", \"walnuts\", \"green_beans\", \"bok_choy\", \"portobello_mushrooms\", \"lemon_grass\", \"radicchio\", \"ricotta\", \"chicken_breast\", \"porcini\", \"blue_cheese\", \"snow_peas\", \"pickled\", \"Gorgonzola\", \"chorizo\", \"yams\", \"hazelnuts\", \"fresh_tomatoes\", \"shiitake_mushrooms\", \"anchovies\", \"wild_rice\", \"scallion\", \"red_onions\", \"broccoli_rape\", \"red_cabbage\", \"wasabi\", \"sweet_potato\", \"feta\", \"roasted_garlic\", \"compote\", \"napoleon\", \"aioli\", \"crab_meat\", \"cauliflower\", \"jicama\", \"parsnips\", \"apricots\", \"new_potatoes\", \"truffle_oil\", \"lemongrass\", \"pistachios\", \"saut\\u00e9ed\", \"gnocchi\", \"duck_confit\", \"fresh_herbs\", \"ratatouille\", \"white_beans\", \"croutons\", \"fresh_mozzarella\", \"squab\", \"watercress\", \"roasted_red_peppers\", \"pine_nuts\", \"fritters\", \"butternut_squash\", \"fava_beans\", \"drizzled\", \"red_onion\", \"pea_shoots\", \"rosemary\", \"romaine\", \"mustard_greens\", \"horseradish\", \"caramelized_onions\", \"artichoke_hearts\", \"fettuccine\", \"grilled_eggplant\", \"julienne\", \"plum_tomatoes\", \"grilled_chicken\", \"pineapple\", \"candied\", \"pancetta\", \"celery_root\", \"sea_scallops\", \"shiitake\", \"porcini_mushrooms\", \"sour_cream\", \"bean_sprouts\", \"oyster_mushrooms\", \"monkfish\", \"chickpeas\", \"coconut_milk\"]\n"
     ]
    }
   ],
   "source": [
    "lexicon.create_category(\"healthy_food\", [\"healthy_food\",\"low_carb\",\"kale\",\"avocado\"], model=\"nytimes\")"
   ]
  },
  {
   "cell_type": "code",
   "execution_count": 135,
   "metadata": {},
   "outputs": [
    {
     "name": "stdout",
     "output_type": "stream",
     "text": [
      "[\"green_vegetables\", \"leafy_greens\", \"whole_grain_bread\", \"brown_rice\", \"white_rice\", \"green_veggies\", \"veggies\", \"whole_wheat_bread\", \"sweet_potatoes\", \"raw_veggies\", \"lean_meat\", \"spinach\", \"fatty_meat\", \"kale\", \"sweet_potato\", \"avocado\", \"hummus\", \"chicken_breast\", \"veggie\", \"whole_grain\", \"vegetables\", \"whole_wheat_pasta\", \"salads\", \"broccoli\", \"greek_yogurt\", \"Greek_yogurt\", \"yogurt\", \"avocados\", \"rice_cakes\", \"raw_vegetables\", \"almonds\", \"lean_protein\", \"grilled_chicken\", \"quinoa\", \"steamed_broccoli\", \"whole_grain_pasta\", \"brocolli\", \"kale\", \"avocado\", \"tofu\", \"Veggies\", \"edamame\", \"more_veggies\", \"lean_meats\", \"quinoa\", \"salad\", \"cottage_cheese\", \"whole_wheat\", \"wheat_bread\", \"romaine_lettuce\", \"white_bread\", \"raw_spinach\", \"oatmeal\", \"white_potatoes\", \"almond_butter\", \"pork_rinds\", \"veg\", \"cashews\", \"greek_yoghurt\", \"baby_carrots\", \"fresh_veggies\", \"fatty_meats\", \"more_vegetables\", \"avacado\", \"veges\", \"nut_butter\", \"hard_boiled_eggs\", \"carrot_sticks\", \"whole_grains\", \"grilled_chicken_breast\", \"steamed_vegetables\", \"meats\", \"lentils\", \"green_beans\", \"low_cal\", \"nuts/seeds\", \"iceberg_lettuce\", \"carrots\", \"red_meat\", \"other_foods\", \"fried_foods\", \"smoothies\", \"healthy_fats\", \"vegies\", \"avacados\", \"other_vegetables\", \"fresh_fruit\", \"spinach_salad\", \"egg_whites\", \"steamed_veggies\", \"nut_butters\", \"ground_turkey\", \"baked_chicken\"]\n"
     ]
    }
   ],
   "source": [
    "lexicon.create_category(\"healthy_food\", [\"healthy_food\",\"low_carb\",\"kale\",\"avocado\"], model=\"reddit\")"
   ]
  },
  {
   "cell_type": "code",
   "execution_count": 136,
   "metadata": {},
   "outputs": [
    {
     "name": "stdout",
     "output_type": "stream",
     "text": [
      "[\"turkey\", \"roast_beef\", \"white_bread\", \"fried_chicken\", \"pancakes\", \"peanut_butter\", \"gefilte_fish\", \"stuffing\", \"French_fries\", \"meatloaf\", \"brisket\", \"potato_salad\", \"pumpkin_pie\", \"scrambled_eggs\", \"french_fries\", \"spaghetti\", \"gravy\", \"tamales\", \"pot_roast\", \"oatmeal\", \"lasagna\", \"corned_beef\", \"latkes\", \"pickles\", \"sauerkraut\", \"burger\", \"grits\", \"biscuits\", \"hamburger\", \"salad_bar\", \"corn_bread\", \"chicken_soup\", \"bacon\", \"cream_cheese\", \"brownies\", \"tofu\", \"pastrami\", \"pork_chops\", \"salami\", \"marshmallows\", \"collard_greens\", \"macaroni\", \"pies\", \"raw_fish\", \"eggnog\", \"cheeseburgers\", \"truffles\", \"chocolate_cake\", \"hard-boiled_eggs\", \"baked_potatoes\", \"venison\", \"cottage_cheese\", \"pheasant\", \"applesauce\", \"quail\", \"fruit_salad\", \"meatballs\", \"chocolate_chip_cookies\", \"tacos\", \"roast\", \"jelly\", \"chicken_salad\", \"omelet\", \"gumbo\", \"steaks\", \"soup\", \"lox\", \"sausage\", \"roast_chicken\", \"rye\", \"bagel\", \"fruitcake\", \"fries\", \"fried_eggs\", \"ketchup\", \"chicken_wings\", \"barbecue_sauce\", \"sweet_potatoes\", \"pasta\", \"sausages\", \"crackers\", \"omelets\", \"roasting\", \"French_toast\", \"muffins\", \"mashed_potatoes\", \"fresh_fruit\", \"baked_potato\", \"waffles\", \"cranberry_sauce\", \"baked_beans\", \"cheese\", \"tripe\", \"noodles\", \"maple_syrup\", \"quiche\", \"buns\", \"baklava\", \"stews\"]\n"
     ]
    }
   ],
   "source": [
    "lexicon.create_category(\"festive_food\", [\"festive_food\",\"turkey\",\"eggnog\"], model=\"nytimes\")"
   ]
  },
  {
   "cell_type": "markdown",
   "metadata": {},
   "source": [
    "### List of further resources\n",
    "    * NLTK\n",
    "    * Jellyfish: string similarity library\n",
    "    * TextBlob: simplified text processing\n",
    "    * PyEnchant: language detection\n",
    "    * WordNet: ontology of concepts (inc. in NLTK)\n",
    "    * Stanford NLP (Java)\n",
    "    * Tweet NLP: https://www.cs.cmu.edu/~ark/TweetNLP/"
   ]
  },
  {
   "cell_type": "markdown",
   "metadata": {},
   "source": [
    "## Part 2"
   ]
  },
  {
   "cell_type": "markdown",
   "metadata": {},
   "source": [
    "### Question 1:\n",
    "An NLP preprocessing model, using the list of stopwords ['a', 'the', 'is', 'you', 'I','my','with','was'] for the input sentence\n",
    "“I was driving down the street with my CAR! :)” <br>\n",
    "gives the following output: {driving, down, street, car, :)}.\n",
    "The model consists of: <br>\n",
    "\n",
    "a) Stopword Removal, Casefolding and Stemming <br>\n",
    "b) Stopword Removal and Casefolding <br>\n",
    "c) Stopword Removal and Stemming <br>\n",
    "d) Casefolding and Stemming <br>"
   ]
  },
  {
   "cell_type": "code",
   "execution_count": 137,
   "metadata": {},
   "outputs": [],
   "source": [
    "# b"
   ]
  },
  {
   "cell_type": "markdown",
   "metadata": {},
   "source": [
    "### Question 2:\n",
    "What statement is false about topic detection using LSA: <br>\n",
    "\n",
    "a) It finds the representation of documents and words in the latent \"topic space\" <br>\n",
    "b) It produces topics interpretable in “word space” <br>\n",
    "c) A document's topic representation is a probability distribution over topics <br>\n",
    "d) The vectors representing topics in “word space” are linearly independent <br>"
   ]
  },
  {
   "cell_type": "code",
   "execution_count": 138,
   "metadata": {},
   "outputs": [],
   "source": [
    "# write your code and/or answer here"
   ]
  },
  {
   "cell_type": "markdown",
   "metadata": {},
   "source": [
    "### Question 3:\n",
    "The problem of having more features than documents when using a TF-IDF matrix for document classification cannot be addressed by: <br>\n",
    "\n",
    "a) Using SVD for dimensionality reduction <br>\n",
    "b) Using min-max scaling of features <br>\n",
    "c) Penalizing very large positive and very large negative weights (a.k.a. regularization) <br>\n",
    "d) Using online feature selection <br>"
   ]
  },
  {
   "cell_type": "code",
   "execution_count": 139,
   "metadata": {},
   "outputs": [],
   "source": [
    "# write your code and/or answer here"
   ]
  },
  {
   "cell_type": "markdown",
   "metadata": {},
   "source": [
    "### Question 4:\n",
    "Which of the following is false about word vectors: <br>\n",
    "\n",
    "a) Word2vec is used to achieve a lower dimensional representation than bag of words <br>\n",
    "b) Semantically similar words typically have similar word2vec vectors <br>\n",
    "c) Each dimension in the word2vec embedding has a clear interpretation <br>\n",
    "d) Word2Vec can be used for the computation of sentence vectors <br>"
   ]
  },
  {
   "cell_type": "code",
   "execution_count": 140,
   "metadata": {},
   "outputs": [],
   "source": [
    "# write your code and/or answer here\n",
    "c"
   ]
  },
  {
   "cell_type": "markdown",
   "metadata": {},
   "source": [
    "### Question 5:\n",
    "Given the following word (W) / context (C) co-occurrence frequencies, which statement is true regarding the pointwise mutual information (PMI)?\n",
    "\n",
    "|  |W1|W2|W3|\n",
    "|--|--|--|--|\n",
    "|C1| 2| 0| 3|\n",
    "|C2| 6| 4| 0|\n",
    "|C3| 1| 1| 3|\n",
    "\n",
    "a) PMI(w=W1, c=C2) > PMI(w=W2, c=C2) > PMI(w=W3, c=C3) <br>\n",
    "b) PMI(w=W2, c=C2) > PMI(w=W1, c=C2) >  PMI(w=W3, c=C3) <br>\n",
    "c) PMI(w=W3, c=C3) > PMI(w=W1, c=C2) > PMI(w=W2, c=C2) <br>\n",
    "d) PMI(w=W3, c=C3) > PMI(w=W2, c=C2) > PMI(w=W1, c=C2) <br>"
   ]
  },
  {
   "cell_type": "code",
   "execution_count": 141,
   "metadata": {},
   "outputs": [],
   "source": [
    "# write your code and/or answer here"
   ]
  },
  {
   "cell_type": "code",
   "execution_count": null,
   "metadata": {
    "collapsed": true,
    "jupyter": {
     "outputs_hidden": true
    }
   },
   "outputs": [],
   "source": []
  }
 ],
 "metadata": {
  "kernelspec": {
   "display_name": "Python 3 (ipykernel)",
   "language": "python",
   "name": "python3"
  },
  "language_info": {
   "codemirror_mode": {
    "name": "ipython",
    "version": 3
   },
   "file_extension": ".py",
   "mimetype": "text/x-python",
   "name": "python",
   "nbconvert_exporter": "python",
   "pygments_lexer": "ipython3",
   "version": "3.9.13"
  },
  "toc": {
   "colors": {
    "hover_highlight": "#DAA520",
    "navigate_num": "#000000",
    "navigate_text": "#333333",
    "running_highlight": "#FF0000",
    "selected_highlight": "#FFD700",
    "sidebar_border": "#EEEEEE",
    "wrapper_background": "#FFFFFF"
   },
   "moveMenuLeft": true,
   "nav_menu": {
    "height": "228px",
    "width": "252px"
   },
   "navigate_menu": true,
   "number_sections": true,
   "sideBar": true,
   "threshold": 4,
   "toc_cell": false,
   "toc_section_display": "block",
   "toc_window_display": false,
   "widenNotebook": false
  },
  "varInspector": {
   "cols": {
    "lenName": 16,
    "lenType": 16,
    "lenVar": 40
   },
   "kernels_config": {
    "python": {
     "delete_cmd_postfix": "",
     "delete_cmd_prefix": "del ",
     "library": "var_list.py",
     "varRefreshCmd": "print(var_dic_list())"
    },
    "r": {
     "delete_cmd_postfix": ") ",
     "delete_cmd_prefix": "rm(",
     "library": "var_list.r",
     "varRefreshCmd": "cat(var_dic_list()) "
    }
   },
   "types_to_exclude": [
    "module",
    "function",
    "builtin_function_or_method",
    "instance",
    "_Feature"
   ],
   "window_display": false
  }
 },
 "nbformat": 4,
 "nbformat_minor": 4
}
